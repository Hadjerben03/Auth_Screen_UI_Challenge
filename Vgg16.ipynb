{
  "cells": [
    {
      "cell_type": "markdown",
      "metadata": {
        "id": "view-in-github",
        "colab_type": "text"
      },
      "source": [
        "<a href=\"https://colab.research.google.com/github/Hadjerben03/Auth_Screen_UI_Challenge/blob/master/Vgg16.ipynb\" target=\"_parent\"><img src=\"https://colab.research.google.com/assets/colab-badge.svg\" alt=\"Open In Colab\"/></a>"
      ]
    },
    {
      "cell_type": "code",
      "execution_count": 8,
      "metadata": {
        "id": "W5aqFuariGnx",
        "colab": {
          "base_uri": "https://localhost:8080/"
        },
        "outputId": "fa0f004a-0934-42b5-dd21-18f1b2cc18f2"
      },
      "outputs": [
        {
          "output_type": "stream",
          "name": "stdout",
          "text": [
            "Mounted at /content/drive\n"
          ]
        }
      ],
      "source": [
        "from google.colab import drive\n",
        "drive.mount('/content/drive')"
      ]
    },
    {
      "cell_type": "code",
      "source": [
        "!rm -rf /content/drive"
      ],
      "metadata": {
        "id": "Wta8mQWhsSnL"
      },
      "execution_count": 7,
      "outputs": []
    },
    {
      "cell_type": "code",
      "execution_count": null,
      "metadata": {
        "colab": {
          "base_uri": "https://localhost:8080/"
        },
        "id": "gG8qfF-GnnBs",
        "outputId": "b7310c4e-be17-4f35-8c99-9df52471130b"
      },
      "outputs": [
        {
          "name": "stdout",
          "output_type": "stream",
          "text": [
            "(12564, 224, 224, 1) (12564,) (12564,)\n",
            "Images: (12564, 224, 224, 1), Boneage: (12564,), Sex: (12564,)\n"
          ]
        }
      ],
      "source": [
        "import numpy as np\n",
        "from sklearn.model_selection import train_test_split\n",
        "\n",
        "# Exemple avec le chemin correct vers tes fichiers\n",
        "images  = np.load(\"/content/drive/MyDrive/dataset-v2/npy_files/preprocessed_images.npy\")\n",
        "boneage = np.load(\"/content/drive/MyDrive/dataset-v2/npy_files/labels_boneage.npy\")\n",
        "sex     = np.load(\"/content/drive/MyDrive/dataset-v2/npy_files/labels_sex.npy\")\n",
        "\n",
        "print(images.shape, boneage.shape, sex.shape)\n",
        "\n",
        "# Vérification des shapes (utile pour debugging)\n",
        "print(f\"Images: {images.shape}, Boneage: {boneage.shape}, Sex: {sex.shape}\")\n",
        "\n",
        "\n",
        "X_train_img, X_val_img, y_train_age, y_val_age, sex_train, sex_val = train_test_split(\n",
        "    images, boneage, sex, test_size=0.2, random_state=42\n",
        ")\n"
      ]
    },
    {
      "cell_type": "code",
      "execution_count": null,
      "metadata": {
        "id": "tUnqiVQttJFH"
      },
      "outputs": [],
      "source": [
        "np.save(\"/content/drive/MyDrive/dataset-v2/npy_files/X_train.npy\", X_train_img)\n",
        "np.save(\"/content/drive/MyDrive/dataset-v2/npy_files/X_val.npy\", X_val_img)\n",
        "np.save(\"/content/drive/MyDrive/dataset-v2/npy_files/y_train_age.npy\", y_train_age)\n",
        "np.save(\"/content/drive/MyDrive/dataset-v2/npy_files/y_val_age.npy\", y_val_age)\n",
        "np.save(\"/content/drive/MyDrive/dataset-v2/npy_files/sex_train.npy\", sex_train)\n",
        "np.save(\"/content/drive/MyDrive/dataset-v2/npy_files/sex_val.npy\", sex_val)\n"
      ]
    },
    {
      "cell_type": "code",
      "execution_count": null,
      "metadata": {
        "id": "o4F6u5NIpV2j"
      },
      "outputs": [],
      "source": [
        "# 1. Imports nécessaires\n",
        "import os\n",
        "import tensorflow as tf\n",
        "from tensorflow.keras import layers, models, applications\n",
        "from tensorflow.keras.applications import VGG16, EfficientNetB0\n",
        "from tensorflow.keras.models import load_model\n",
        "from tensorflow.keras.callbacks import ModelCheckpoint, CSVLogger, EarlyStopping\n",
        "from tensorflow.keras.layers import Input\n",
        "from tensorflow.keras.optimizers import Adam\n",
        "import pandas as pd\n",
        "import numpy as np\n",
        "import matplotlib.pyplot as plt\n",
        "from PIL import Image\n",
        "import cv2\n",
        "from sklearn.model_selection import train_test_split\n",
        "from tqdm import tqdm\n",
        "import random"
      ]
    },
    {
      "cell_type": "code",
      "execution_count": null,
      "metadata": {
        "id": "yBewl2JLrku9"
      },
      "outputs": [],
      "source": [
        "X_train = np.load(\"/content/drive/MyDrive/dataset-v2/npy_files/X_train.npy\")\n",
        "X_val = np.load(\"/content/drive/MyDrive/dataset-v2/npy_files/X_val.npy\")\n",
        "y_train = np.load(\"/content/drive/MyDrive/dataset-v2/npy_files/y_train_age.npy\")\n",
        "y_val = np.load(\"/content/drive/MyDrive/dataset-v2/npy_files/y_val_age.npy\")\n",
        "sex_train = np.load(\"/content/drive/MyDrive/dataset-v2/npy_files/sex_train.npy\")\n",
        "sex_val = np.load(\"/content/drive/MyDrive/dataset-v2/npy_files/sex_val.npy\")\n"
      ]
    },
    {
      "cell_type": "code",
      "execution_count": null,
      "metadata": {
        "id": "PbP13yejxW-H"
      },
      "outputs": [],
      "source": [
        "from tensorflow.keras.utils import Sequence\n",
        "import numpy as np\n",
        "from tensorflow.keras.applications import vgg16\n",
        "\n",
        "class RGBPreprocessingGenerator(Sequence):\n",
        "    def __init__(self, X, sex, y, batch_size=32, model_type=\"vgg\", shuffle=True):\n",
        "        self.X = X\n",
        "        self.sex = sex\n",
        "        self.y = y\n",
        "        self.batch_size = batch_size\n",
        "        self.model_type = model_type\n",
        "        self.shuffle = shuffle\n",
        "        self.indexes = np.arange(len(self.X))\n",
        "        self.on_epoch_end()\n",
        "\n",
        "    def __len__(self):\n",
        "        return int(np.ceil(len(self.X) / self.batch_size))\n",
        "\n",
        "    def __getitem__(self, index):\n",
        "        batch_indexes = self.indexes[index * self.batch_size:(index + 1) * self.batch_size]\n",
        "        X_batch = self.X[batch_indexes]\n",
        "        sex_batch = self.sex[batch_indexes]\n",
        "        y_batch = self.y[batch_indexes]\n",
        "\n",
        "        # Si les images sont en niveaux de gris (1 canal), les convertir en RGB\n",
        "        if X_batch.shape[-1] == 1:  # Vérifie si le dernier axe est de taille 1 (grayscale)\n",
        "            X_batch_rgb = np.repeat(X_batch, 3, axis=-1)  # Convertir en RGB sans ajouter de dimension supplémentaire\n",
        "        else:\n",
        "            X_batch_rgb = X_batch  # Si déjà en RGB, ne rien changer\n",
        "\n",
        "        if self.model_type == \"vgg\":\n",
        "            X_batch_rgb = vgg16.preprocess_input(X_batch_rgb.astype(np.float32))\n",
        "\n",
        "        return {\"image_input\": X_batch_rgb, \"sex_input\": sex_batch}, y_batch\n",
        "\n",
        "    def on_epoch_end(self):\n",
        "        if self.shuffle:\n",
        "            np.random.shuffle(self.indexes)\n",
        "\n"
      ]
    },
    {
      "cell_type": "code",
      "execution_count": null,
      "metadata": {
        "colab": {
          "base_uri": "https://localhost:8080/"
        },
        "id": "SyCkYwEkBfi3",
        "outputId": "4322f896-e489-4da1-ebfa-0972d2518227"
      },
      "outputs": [
        {
          "name": "stdout",
          "output_type": "stream",
          "text": [
            "Downloading data from https://storage.googleapis.com/tensorflow/keras-applications/vgg16/vgg16_weights_tf_dim_ordering_tf_kernels_notop.h5\n",
            "\u001b[1m58889256/58889256\u001b[0m \u001b[32m━━━━━━━━━━━━━━━━━━━━\u001b[0m\u001b[37m\u001b[0m \u001b[1m0s\u001b[0m 0us/step\n"
          ]
        }
      ],
      "source": [
        "from tensorflow.keras import layers, models, Input\n",
        "from tensorflow.keras.applications import VGG16\n",
        "\n",
        "def create_vgg16_with_sex_input():\n",
        "    # Entrée image (après ImageDataGenerator en RGB 224x224)\n",
        "    img_input = Input(shape=(224, 224, 3), name=\"image_input\")\n",
        "\n",
        "    # VGG16 (sans les couches fully connected finales)\n",
        "    base_model = VGG16(include_top=False, input_tensor=img_input, weights='imagenet')\n",
        "    base_model.trainable = False  # Freeze le VGG\n",
        "\n",
        "    # Sortie du VGG16\n",
        "    x = base_model.output\n",
        "    x = layers.Flatten()(x)\n",
        "\n",
        "    # Entrée sexe (0 pour fille, 1 pour garçon)\n",
        "    sex_input = Input(shape=(1,), name=\"sex_input\")\n",
        "\n",
        "    # Fusion image + sexe\n",
        "    x = layers.Concatenate()([x, sex_input])\n",
        "\n",
        "    # Couches fully connected\n",
        "    x = layers.Dense(512, activation='relu')(x)\n",
        "    x = layers.Dropout(0.5)(x)\n",
        "    x = layers.Dense(256, activation='relu')(x)\n",
        "    output = layers.Dense(1, name=\"boneage_output\")(x)  # Régression d'âge osseux\n",
        "\n",
        "    # Modèle final\n",
        "    model = models.Model(inputs=[img_input, sex_input], outputs=output)\n",
        "    return model\n",
        "\n",
        "# Crée le modèle\n",
        "vgg_model = create_vgg16_with_sex_input()\n"
      ]
    },
    {
      "cell_type": "code",
      "execution_count": null,
      "metadata": {
        "id": "sxVd8EaeFR-q"
      },
      "outputs": [],
      "source": [
        "# Préparation des générateurs\n",
        "train_generator = RGBPreprocessingGenerator(X_train, sex_train, y_train_age, model_type=\"vgg\")\n",
        "val_generator = RGBPreprocessingGenerator(X_val, sex_val, y_val_age, model_type=\"vgg\")\n"
      ]
    },
    {
      "cell_type": "code",
      "execution_count": null,
      "metadata": {
        "id": "zvpHRYe3B4qC"
      },
      "outputs": [],
      "source": [
        "checkpoint = ModelCheckpoint(\n",
        "    \"best_model_vgg.h5\",\n",
        "    monitor=\"val_loss\",\n",
        "    save_best_only=True,\n",
        "    verbose=1\n",
        ")\n",
        "\n"
      ]
    },
    {
      "cell_type": "code",
      "execution_count": null,
      "metadata": {
        "colab": {
          "base_uri": "https://localhost:8080/"
        },
        "id": "VE--Vx6LGQ3y",
        "outputId": "33ffa4d4-a086-4e40-90a6-e21b9d73b137"
      },
      "outputs": [
        {
          "name": "stdout",
          "output_type": "stream",
          "text": [
            "Epoch 1/5\n",
            "\u001b[1m315/315\u001b[0m \u001b[32m━━━━━━━━━━━━━━━━━━━━\u001b[0m\u001b[37m\u001b[0m \u001b[1m0s\u001b[0m 17s/step - accuracy: 6.3271e-07 - loss: -1970.5359 \n",
            "Epoch 1: val_loss improved from inf to -2026.41467, saving model to best_model_vgg.h5\n"
          ]
        },
        {
          "name": "stderr",
          "output_type": "stream",
          "text": [
            "WARNING:absl:You are saving your model as an HDF5 file via `model.save()` or `keras.saving.save_model(model)`. This file format is considered legacy. We recommend using instead the native Keras format, e.g. `model.save('my_model.keras')` or `keras.saving.save_model(model, 'my_model.keras')`. \n"
          ]
        },
        {
          "name": "stdout",
          "output_type": "stream",
          "text": [
            "\u001b[1m315/315\u001b[0m \u001b[32m━━━━━━━━━━━━━━━━━━━━\u001b[0m\u001b[37m\u001b[0m \u001b[1m6833s\u001b[0m 22s/step - accuracy: 9.4556e-07 - loss: -1970.6338 - val_accuracy: 0.0000e+00 - val_loss: -2026.4147\n",
            "Epoch 2/5\n",
            "\u001b[1m315/315\u001b[0m \u001b[32m━━━━━━━━━━━━━━━━━━━━\u001b[0m\u001b[37m\u001b[0m \u001b[1m0s\u001b[0m 17s/step - accuracy: 1.4478e-04 - loss: -2010.4537 \n",
            "Epoch 2: val_loss improved from -2026.41467 to -2026.41504, saving model to best_model_vgg.h5\n"
          ]
        },
        {
          "name": "stderr",
          "output_type": "stream",
          "text": [
            "WARNING:absl:You are saving your model as an HDF5 file via `model.save()` or `keras.saving.save_model(model)`. This file format is considered legacy. We recommend using instead the native Keras format, e.g. `model.save('my_model.keras')` or `keras.saving.save_model(model, 'my_model.keras')`. \n"
          ]
        },
        {
          "name": "stdout",
          "output_type": "stream",
          "text": [
            "\u001b[1m315/315\u001b[0m \u001b[32m━━━━━━━━━━━━━━━━━━━━\u001b[0m\u001b[37m\u001b[0m \u001b[1m6809s\u001b[0m 22s/step - accuracy: 1.4464e-04 - loss: -2010.4498 - val_accuracy: 0.0000e+00 - val_loss: -2026.4150\n",
            "Epoch 3/5\n",
            "\u001b[1m315/315\u001b[0m \u001b[32m━━━━━━━━━━━━━━━━━━━━\u001b[0m\u001b[37m\u001b[0m \u001b[1m0s\u001b[0m 17s/step - accuracy: 7.7118e-05 - loss: -2003.2338 \n",
            "Epoch 3: val_loss did not improve from -2026.41504\n",
            "\u001b[1m315/315\u001b[0m \u001b[32m━━━━━━━━━━━━━━━━━━━━\u001b[0m\u001b[37m\u001b[0m \u001b[1m6773s\u001b[0m 21s/step - accuracy: 7.7189e-05 - loss: -2003.2527 - val_accuracy: 0.0000e+00 - val_loss: -2026.4150\n",
            "Epoch 4/5\n",
            "\u001b[1m315/315\u001b[0m \u001b[32m━━━━━━━━━━━━━━━━━━━━\u001b[0m\u001b[37m\u001b[0m \u001b[1m0s\u001b[0m 17s/step - accuracy: 2.6604e-05 - loss: -2008.9060 \n",
            "Epoch 4: val_loss did not improve from -2026.41504\n",
            "\u001b[1m315/315\u001b[0m \u001b[32m━━━━━━━━━━━━━━━━━━━━\u001b[0m\u001b[37m\u001b[0m \u001b[1m6763s\u001b[0m 21s/step - accuracy: 2.6835e-05 - loss: -2008.9070 - val_accuracy: 0.0000e+00 - val_loss: -2026.4144\n",
            "Epoch 5/5\n",
            "\u001b[1m315/315\u001b[0m \u001b[32m━━━━━━━━━━━━━━━━━━━━\u001b[0m\u001b[37m\u001b[0m \u001b[1m0s\u001b[0m 17s/step - accuracy: 4.4663e-04 - loss: -2012.4196 \n",
            "Epoch 5: val_loss did not improve from -2026.41504\n",
            "\u001b[1m315/315\u001b[0m \u001b[32m━━━━━━━━━━━━━━━━━━━━\u001b[0m\u001b[37m\u001b[0m \u001b[1m6789s\u001b[0m 22s/step - accuracy: 4.4553e-04 - loss: -2012.4094 - val_accuracy: 0.0000e+00 - val_loss: -2026.4147\n"
          ]
        }
      ],
      "source": [
        "from tensorflow.keras.applications import vgg16\n",
        "from tensorflow.keras.optimizers import Adam\n",
        "from tensorflow.keras.models import Model\n",
        "\n",
        "\n",
        "vgg_model.compile(optimizer=Adam(learning_rate=0.0001),\n",
        "                  loss='mse',\n",
        "                  metrics=['mae', 'mse'])\n",
        "\n",
        "history = vgg_model.fit(\n",
        "    train_generator,\n",
        "    validation_data=val_generator,\n",
        "    epochs=5,  # augmente plus tard si tout va bien\n",
        "    callbacks=[checkpoint]\n",
        ")\n"
      ]
    },
    {
      "cell_type": "code",
      "execution_count": null,
      "metadata": {
        "id": "SB2Av9c5iEkK"
      },
      "outputs": [],
      "source": [
        "import pandas as pd\n",
        "\n",
        "# Convertir l'history en DataFrame\n",
        "history_df = pd.DataFrame(history.history)\n",
        "\n",
        "# Sauvegarder dans un fichier CSV\n",
        "history_df.to_csv('training_history.csv', index=False)\n",
        "\n",
        "# Sauvegarder le modèle (avec architecture + poids)\n",
        "vgg_model.save(\"modele_5_epochs.keras\")  # ou .h5\n",
        "\n"
      ]
    },
    {
      "cell_type": "code",
      "execution_count": null,
      "metadata": {
        "colab": {
          "base_uri": "https://localhost:8080/"
        },
        "id": "AzrdiVDzN1ho",
        "outputId": "60b0fe1b-8949-4e6e-9a86-629d3c9c0d41"
      },
      "outputs": [
        {
          "name": "stdout",
          "output_type": "stream",
          "text": [
            "   accuracy  val_accuracy\n",
            "0  0.000099           0.0\n",
            "1  0.000099           0.0\n",
            "2  0.000099           0.0\n",
            "3  0.000099           0.0\n",
            "4  0.000099           0.0\n"
          ]
        }
      ],
      "source": [
        "df = pd.read_csv('/content/drive/MyDrive/dataset-v2/training_history.csv')\n",
        "print(df[['accuracy', 'val_accuracy']])\n"
      ]
    },
    {
      "cell_type": "code",
      "execution_count": null,
      "metadata": {
        "colab": {
          "base_uri": "https://localhost:8080/"
        },
        "id": "WbMqLa54OtBr",
        "outputId": "4c078f17-5e0c-4e47-b2d6-31e055b941f9"
      },
      "outputs": [
        {
          "name": "stdout",
          "output_type": "stream",
          "text": [
            "Epoch 6/10\n"
          ]
        },
        {
          "name": "stderr",
          "output_type": "stream",
          "text": [
            "/usr/local/lib/python3.11/dist-packages/keras/src/saving/saving_lib.py:757: UserWarning: Skipping variable loading for optimizer 'rmsprop', because it has 8 variables whereas the saved optimizer has 14 variables. \n",
            "  saveable.load_own_variables(weights_store.get(inner_path))\n",
            "/usr/local/lib/python3.11/dist-packages/keras/src/trainers/data_adapters/py_dataset_adapter.py:121: UserWarning: Your `PyDataset` class should call `super().__init__(**kwargs)` in its constructor. `**kwargs` can include `workers`, `use_multiprocessing`, `max_queue_size`. Do not pass these arguments to `fit()`, as they will be ignored.\n",
            "  self._warn_if_super_not_called()\n"
          ]
        },
        {
          "name": "stdout",
          "output_type": "stream",
          "text": [
            "\u001b[1m315/315\u001b[0m \u001b[32m━━━━━━━━━━━━━━━━━━━━\u001b[0m\u001b[37m\u001b[0m \u001b[1m84s\u001b[0m 226ms/step - loss: 3857.8689 - mae: 43.0717 - val_loss: 4140.5498 - val_mae: 56.1523\n",
            "Epoch 7/10\n",
            "\u001b[1m315/315\u001b[0m \u001b[32m━━━━━━━━━━━━━━━━━━━━\u001b[0m\u001b[37m\u001b[0m \u001b[1m65s\u001b[0m 206ms/step - loss: 1161.7648 - mae: 26.9796 - val_loss: 4198.3398 - val_mae: 57.2962\n",
            "Epoch 8/10\n",
            "\u001b[1m315/315\u001b[0m \u001b[32m━━━━━━━━━━━━━━━━━━━━\u001b[0m\u001b[37m\u001b[0m \u001b[1m65s\u001b[0m 207ms/step - loss: 905.2238 - mae: 23.9239 - val_loss: 4442.0308 - val_mae: 59.1325\n",
            "Epoch 9/10\n",
            "\u001b[1m315/315\u001b[0m \u001b[32m━━━━━━━━━━━━━━━━━━━━\u001b[0m\u001b[37m\u001b[0m \u001b[1m83s\u001b[0m 209ms/step - loss: 782.9818 - mae: 21.9903 - val_loss: 3894.6211 - val_mae: 55.3140\n",
            "Epoch 10/10\n",
            "\u001b[1m315/315\u001b[0m \u001b[32m━━━━━━━━━━━━━━━━━━━━\u001b[0m\u001b[37m\u001b[0m \u001b[1m65s\u001b[0m 207ms/step - loss: 696.9660 - mae: 20.5377 - val_loss: 4749.1245 - val_mae: 61.9559\n"
          ]
        }
      ],
      "source": [
        "from keras.models import load_model\n",
        "from keras.callbacks import ModelCheckpoint\n",
        "\n",
        "# === 1. Charger le modèle enregistré à l’epoch 5 ===\n",
        "model = load_model(\"/content/drive/MyDrive/dataset-v2/modele_5_epochs.keras\")  # assure-toi que ce fichier existe bien\n",
        "\n",
        "# === 2. (Facultatif) Recompiler le modèle ===\n",
        "# Cela est nécessaire seulement si le modèle a été sauvegardé sans les informations de compilation\n",
        "model.compile(\n",
        "    optimizer='adam',\n",
        "    loss='mean_squared_error',\n",
        "    metrics=['mae']\n",
        ")\n",
        "\n",
        "# === 3. Callback pour sauvegarder les modèles suivants ===\n",
        "checkpoint = ModelCheckpoint(\n",
        "    '/content/drive/MyDrive/dataset-v2/modele_5_epochs.keras',\n",
        "    save_freq='epoch',\n",
        "    save_weights_only=False,\n",
        "    save_best_only=False\n",
        ")\n",
        "\n",
        "# === 4. Reprendre l'entraînement depuis l'epoch 5 jusqu’à 50 ===\n",
        "history = model.fit(\n",
        "    train_generator,\n",
        "    validation_data=val_generator,\n",
        "    epochs=10,\n",
        "    initial_epoch=5,  # 👈 très important\n",
        "    callbacks=[checkpoint]\n",
        ")\n",
        "import pandas as pd\n",
        "\n",
        "# Convertir l'history en DataFrame\n",
        "history_df = pd.DataFrame(history.history)\n",
        "\n",
        "# Sauvegarder dans un fichier CSV\n",
        "history_df.to_csv('training_history_2.csv', index=False)\n",
        "\n",
        "# Sauvegarder le modèle (avec architecture + poids)\n",
        "vgg_model.save(\"modele_10_epochs.keras\")  # ou .h5\n"
      ]
    },
    {
      "cell_type": "code",
      "execution_count": null,
      "metadata": {
        "id": "h0GHRxpDXR9-"
      },
      "outputs": [],
      "source": [
        "import pandas as pd\n",
        "\n",
        "# Convertir l'history en DataFrame\n",
        "history_df = pd.DataFrame(history.history)\n",
        "\n",
        "# Sauvegarder dans un fichier CSV\n",
        "history_df.to_csv('training_history_2.csv', index=False)\n",
        "\n",
        "# Sauvegarder le modèle (avec architecture + poids)\n",
        "vgg_model.save(\"modele_10_epochs.keras\")  # ou .h5"
      ]
    },
    {
      "cell_type": "code",
      "execution_count": null,
      "metadata": {
        "colab": {
          "base_uri": "https://localhost:8080/"
        },
        "id": "XiuT6fLXgh78",
        "outputId": "71a83453-f557-49c4-f960-63592c1c969e"
      },
      "outputs": [
        {
          "name": "stdout",
          "output_type": "stream",
          "text": [
            "Epoch 11/25\n",
            "\u001b[1m315/315\u001b[0m \u001b[32m━━━━━━━━━━━━━━━━━━━━\u001b[0m\u001b[37m\u001b[0m \u001b[1m67s\u001b[0m 203ms/step - loss: 724.7188 - mae: 21.1873 - val_loss: 4454.0332 - val_mae: 59.6964\n",
            "Epoch 12/25\n",
            "\u001b[1m315/315\u001b[0m \u001b[32m━━━━━━━━━━━━━━━━━━━━\u001b[0m\u001b[37m\u001b[0m \u001b[1m73s\u001b[0m 233ms/step - loss: 610.3964 - mae: 19.2497 - val_loss: 4543.1372 - val_mae: 60.4067\n",
            "Epoch 13/25\n",
            "\u001b[1m315/315\u001b[0m \u001b[32m━━━━━━━━━━━━━━━━━━━━\u001b[0m\u001b[37m\u001b[0m \u001b[1m66s\u001b[0m 208ms/step - loss: 566.0131 - mae: 18.3898 - val_loss: 4674.9072 - val_mae: 61.5239\n",
            "Epoch 14/25\n",
            "\u001b[1m315/315\u001b[0m \u001b[32m━━━━━━━━━━━━━━━━━━━━\u001b[0m\u001b[37m\u001b[0m \u001b[1m82s\u001b[0m 209ms/step - loss: 518.5739 - mae: 17.8181 - val_loss: 4145.8218 - val_mae: 57.5748\n",
            "Epoch 15/25\n",
            "\u001b[1m315/315\u001b[0m \u001b[32m━━━━━━━━━━━━━━━━━━━━\u001b[0m\u001b[37m\u001b[0m \u001b[1m65s\u001b[0m 206ms/step - loss: 471.6972 - mae: 16.9388 - val_loss: 4254.9067 - val_mae: 58.4107\n",
            "Epoch 16/25\n",
            "\u001b[1m315/315\u001b[0m \u001b[32m━━━━━━━━━━━━━━━━━━━━\u001b[0m\u001b[37m\u001b[0m \u001b[1m65s\u001b[0m 207ms/step - loss: 503.4879 - mae: 16.9919 - val_loss: 4050.5027 - val_mae: 56.7499\n",
            "Epoch 17/25\n",
            "\u001b[1m315/315\u001b[0m \u001b[32m━━━━━━━━━━━━━━━━━━━━\u001b[0m\u001b[37m\u001b[0m \u001b[1m65s\u001b[0m 207ms/step - loss: 427.7093 - mae: 16.1228 - val_loss: 3923.3208 - val_mae: 55.6238\n",
            "Epoch 18/25\n",
            "\u001b[1m315/315\u001b[0m \u001b[32m━━━━━━━━━━━━━━━━━━━━\u001b[0m\u001b[37m\u001b[0m \u001b[1m90s\u001b[0m 234ms/step - loss: 440.5868 - mae: 15.7001 - val_loss: 4662.9580 - val_mae: 61.5577\n",
            "Epoch 19/25\n",
            "\u001b[1m315/315\u001b[0m \u001b[32m━━━━━━━━━━━━━━━━━━━━\u001b[0m\u001b[37m\u001b[0m \u001b[1m66s\u001b[0m 210ms/step - loss: 387.4556 - mae: 15.2646 - val_loss: 4551.2144 - val_mae: 60.7483\n",
            "Epoch 20/25\n",
            "\u001b[1m315/315\u001b[0m \u001b[32m━━━━━━━━━━━━━━━━━━━━\u001b[0m\u001b[37m\u001b[0m \u001b[1m65s\u001b[0m 208ms/step - loss: 371.2372 - mae: 14.8243 - val_loss: 4095.8926 - val_mae: 56.8883\n",
            "Epoch 21/25\n",
            "\u001b[1m315/315\u001b[0m \u001b[32m━━━━━━━━━━━━━━━━━━━━\u001b[0m\u001b[37m\u001b[0m \u001b[1m65s\u001b[0m 207ms/step - loss: 367.0499 - mae: 14.5603 - val_loss: 4336.3091 - val_mae: 58.9375\n",
            "Epoch 22/25\n",
            "\u001b[1m315/315\u001b[0m \u001b[32m━━━━━━━━━━━━━━━━━━━━\u001b[0m\u001b[37m\u001b[0m \u001b[1m65s\u001b[0m 207ms/step - loss: 332.0861 - mae: 14.0206 - val_loss: 4169.0791 - val_mae: 57.8197\n",
            "Epoch 23/25\n",
            "\u001b[1m315/315\u001b[0m \u001b[32m━━━━━━━━━━━━━━━━━━━━\u001b[0m\u001b[37m\u001b[0m \u001b[1m65s\u001b[0m 207ms/step - loss: 325.7125 - mae: 13.6609 - val_loss: 4184.0176 - val_mae: 57.7572\n",
            "Epoch 24/25\n",
            "\u001b[1m315/315\u001b[0m \u001b[32m━━━━━━━━━━━━━━━━━━━━\u001b[0m\u001b[37m\u001b[0m \u001b[1m82s\u001b[0m 209ms/step - loss: 319.8468 - mae: 13.6574 - val_loss: 4263.0610 - val_mae: 58.5651\n",
            "Epoch 25/25\n",
            "\u001b[1m315/315\u001b[0m \u001b[32m━━━━━━━━━━━━━━━━━━━━\u001b[0m\u001b[37m\u001b[0m \u001b[1m73s\u001b[0m 231ms/step - loss: 299.2479 - mae: 13.4483 - val_loss: 3671.5469 - val_mae: 53.6263\n"
          ]
        }
      ],
      "source": [
        "from keras.models import load_model\n",
        "from keras.callbacks import ModelCheckpoint\n",
        "\n",
        "# === 1. Charger le modèle enregistré à l’epoch 5 ===\n",
        "model = load_model(\"/content/drive/MyDrive/dataset-v2/modele_5_epochs.keras\")  # assure-toi que ce fichier existe bien\n",
        "\n",
        "# === 2. (Facultatif) Recompiler le modèle ===\n",
        "# Cela est nécessaire seulement si le modèle a été sauvegardé sans les informations de compilation\n",
        "model.compile(\n",
        "    optimizer='adam',\n",
        "    loss='mean_squared_error',\n",
        "    metrics=['mae']\n",
        ")\n",
        "\n",
        "# === 3. Callback pour sauvegarder les modèles suivants ===\n",
        "checkpoint = ModelCheckpoint(\n",
        "    '/content/drive/MyDrive/dataset-v2/modele_5_epochs.keras',\n",
        "    save_freq='epoch',\n",
        "    save_weights_only=False,\n",
        "    save_best_only=False\n",
        ")\n",
        "\n",
        "# === 4. Reprendre l'entraînement depuis l'epoch 5 jusqu’à 50 ===\n",
        "history = model.fit(\n",
        "    train_generator,\n",
        "    validation_data=val_generator,\n",
        "    epochs=25,\n",
        "    initial_epoch=10,  # 👈 très important\n",
        "    callbacks=[checkpoint]\n",
        ")\n"
      ]
    },
    {
      "cell_type": "code",
      "execution_count": null,
      "metadata": {
        "id": "e1EsnjI0hQby"
      },
      "outputs": [],
      "source": [
        "import pandas as pd\n",
        "\n",
        "# Convertir l'history en DataFrame\n",
        "history_df = pd.DataFrame(history.history)\n",
        "\n",
        "# Sauvegarder dans un fichier CSV\n",
        "history_df.to_csv('training_history_3.csv', index=False)\n",
        "\n",
        "# Sauvegarder le modèle (avec architecture + poids)\n",
        "vgg_model.save(\"modele_25_epochs.keras\")  # ou .h5"
      ]
    },
    {
      "cell_type": "code",
      "execution_count": null,
      "metadata": {
        "colab": {
          "base_uri": "https://localhost:8080/",
          "height": 525
        },
        "id": "OPnJi4Xni6kl",
        "outputId": "f50f602d-0250-4f6b-9d42-ada7afca3de5"
      },
      "outputs": [
        {
          "name": "stdout",
          "output_type": "stream",
          "text": [
            "Clés disponibles dans l'historique : dict_keys(['loss', 'mae', 'val_loss', 'val_mae'])\n"
          ]
        },
        {
          "data": {
            "image/png": "[encoded data removed]",
            "text/plain": [
              "<Figure size 1200x500 with 2 Axes>"
            ]
          },
          "metadata": {},
          "output_type": "display_data"
        }
      ],
      "source": [
        "import matplotlib.pyplot as plt\n",
        "\n",
        "# === 1. Récupérer l'historique ===\n",
        "history_dict = history.history\n",
        "\n",
        "# === 2. Affichage des clés disponibles dans l'historique ===\n",
        "print(\"Clés disponibles dans l'historique :\", history_dict.keys())\n",
        "\n",
        "# === 3. Tracer la loss ===\n",
        "plt.figure(figsize=(12, 5))\n",
        "\n",
        "plt.subplot(1, 2, 1)\n",
        "plt.plot(history.history['loss'], label='Train Loss')\n",
        "plt.plot(history.history['val_loss'], label='Val Loss')\n",
        "plt.xlabel('Epochs')\n",
        "plt.ylabel('Loss')\n",
        "plt.title('Courbe de Loss')\n",
        "plt.legend()\n",
        "\n",
        "# === 4. Tracer le MAE (Mean Absolute Error) ===\n",
        "plt.subplot(1, 2, 2)\n",
        "plt.plot(history.history['mae'], label='Train MAE')\n",
        "plt.plot(history.history['val_mae'], label='Val MAE')\n",
        "plt.xlabel('Epochs')\n",
        "plt.ylabel('MAE')\n",
        "plt.title('Courbe de MAE')\n",
        "plt.legend()\n",
        "\n",
        "plt.tight_layout()\n",
        "plt.show()\n"
      ]
    },
    {
      "cell_type": "code",
      "execution_count": null,
      "metadata": {
        "colab": {
          "base_uri": "https://localhost:8080/",
          "height": 1000
        },
        "id": "xa684aI6i7_G",
        "outputId": "16d4e8b8-3dc9-41b6-8d20-3f505926ca3a"
      },
      "outputs": [
        {
          "name": "stdout",
          "output_type": "stream",
          "text": [
            "Epoch 11/25\n",
            "\u001b[1m315/315\u001b[0m \u001b[32m━━━━━━━━━━━━━━━━━━━━\u001b[0m\u001b[37m\u001b[0m \u001b[1m70s\u001b[0m 213ms/step - loss: 310.2184 - mae: 13.5094 - mse: 310.2184 - val_loss: 4726.8545 - val_mae: 62.0441 - val_mse: 4726.8545\n",
            "Epoch 12/25\n",
            "\u001b[1m315/315\u001b[0m \u001b[32m━━━━━━━━━━━━━━━━━━━━\u001b[0m\u001b[37m\u001b[0m \u001b[1m64s\u001b[0m 203ms/step - loss: 303.2631 - mae: 13.2478 - mse: 303.2631 - val_loss: 4193.4639 - val_mae: 57.9422 - val_mse: 4193.4639\n",
            "Epoch 13/25\n",
            "\u001b[1m315/315\u001b[0m \u001b[32m━━━━━━━━━━━━━━━━━━━━\u001b[0m\u001b[37m\u001b[0m \u001b[1m64s\u001b[0m 205ms/step - loss: 286.7666 - mae: 12.9903 - mse: 286.7666 - val_loss: 4174.9775 - val_mae: 57.8055 - val_mse: 4174.9775\n",
            "Epoch 14/25\n",
            "\u001b[1m315/315\u001b[0m \u001b[32m━━━━━━━━━━━━━━━━━━━━\u001b[0m\u001b[37m\u001b[0m \u001b[1m64s\u001b[0m 204ms/step - loss: 282.3078 - mae: 12.8271 - mse: 282.3078 - val_loss: 4015.9065 - val_mae: 56.4928 - val_mse: 4015.9065\n",
            "Epoch 15/25\n",
            "\u001b[1m315/315\u001b[0m \u001b[32m━━━━━━━━━━━━━━━━━━━━\u001b[0m\u001b[37m\u001b[0m \u001b[1m64s\u001b[0m 203ms/step - loss: 251.1814 - mae: 12.1933 - mse: 251.1814 - val_loss: 4248.2969 - val_mae: 58.3079 - val_mse: 4248.2969\n",
            "Epoch 16/25\n",
            "\u001b[1m315/315\u001b[0m \u001b[32m━━━━━━━━━━━━━━━━━━━━\u001b[0m\u001b[37m\u001b[0m \u001b[1m64s\u001b[0m 204ms/step - loss: 257.3625 - mae: 12.3290 - mse: 257.3625 - val_loss: 4133.6479 - val_mae: 57.4048 - val_mse: 4133.6479\n",
            "Epoch 17/25\n",
            "\u001b[1m315/315\u001b[0m \u001b[32m━━━━━━━━━━━━━━━━━━━━\u001b[0m\u001b[37m\u001b[0m \u001b[1m64s\u001b[0m 204ms/step - loss: 254.7718 - mae: 12.1405 - mse: 254.7718 - val_loss: 4229.8960 - val_mae: 58.3009 - val_mse: 4229.8960\n",
            "Epoch 18/25\n",
            "\u001b[1m315/315\u001b[0m \u001b[32m━━━━━━━━━━━━━━━━━━━━\u001b[0m\u001b[37m\u001b[0m \u001b[1m64s\u001b[0m 204ms/step - loss: 249.3837 - mae: 12.0397 - mse: 249.3837 - val_loss: 4197.8286 - val_mae: 57.9189 - val_mse: 4197.8286\n",
            "Epoch 19/25\n",
            "\u001b[1m315/315\u001b[0m \u001b[32m━━━━━━━━━━━━━━━━━━━━\u001b[0m\u001b[37m\u001b[0m \u001b[1m64s\u001b[0m 204ms/step - loss: 239.4409 - mae: 11.7488 - mse: 239.4409 - val_loss: 4503.6460 - val_mae: 60.3562 - val_mse: 4503.6460\n",
            "Epoch 20/25\n",
            "\u001b[1m315/315\u001b[0m \u001b[32m━━━━━━━━━━━━━━━━━━━━\u001b[0m\u001b[37m\u001b[0m \u001b[1m72s\u001b[0m 228ms/step - loss: 225.5464 - mae: 11.5376 - mse: 225.5464 - val_loss: 4210.1489 - val_mae: 57.9936 - val_mse: 4210.1489\n",
            "Epoch 21/25\n",
            "\u001b[1m315/315\u001b[0m \u001b[32m━━━━━━━━━━━━━━━━━━━━\u001b[0m\u001b[37m\u001b[0m \u001b[1m65s\u001b[0m 205ms/step - loss: 243.5329 - mae: 11.5487 - mse: 243.5329 - val_loss: 3988.6672 - val_mae: 56.3248 - val_mse: 3988.6672\n",
            "Epoch 22/25\n",
            "\u001b[1m315/315\u001b[0m \u001b[32m━━━━━━━━━━━━━━━━━━━━\u001b[0m\u001b[37m\u001b[0m \u001b[1m64s\u001b[0m 204ms/step - loss: 210.5686 - mae: 11.1489 - mse: 210.5686 - val_loss: 4205.8047 - val_mae: 58.0044 - val_mse: 4205.8047\n",
            "Epoch 23/25\n",
            "\u001b[1m315/315\u001b[0m \u001b[32m━━━━━━━━━━━━━━━━━━━━\u001b[0m\u001b[37m\u001b[0m \u001b[1m64s\u001b[0m 204ms/step - loss: 256.8352 - mae: 11.3906 - mse: 256.8352 - val_loss: 3893.0720 - val_mae: 55.4489 - val_mse: 3893.0720\n",
            "Epoch 24/25\n",
            "\u001b[1m315/315\u001b[0m \u001b[32m━━━━━━━━━━━━━━━━━━━━\u001b[0m\u001b[37m\u001b[0m \u001b[1m64s\u001b[0m 203ms/step - loss: 210.5400 - mae: 11.0266 - mse: 210.5400 - val_loss: 4293.0674 - val_mae: 58.7720 - val_mse: 4293.0674\n",
            "Epoch 25/25\n",
            "\u001b[1m315/315\u001b[0m \u001b[32m━━━━━━━━━━━━━━━━━━━━\u001b[0m\u001b[37m\u001b[0m \u001b[1m64s\u001b[0m 204ms/step - loss: 196.0262 - mae: 10.6742 - mse: 196.0262 - val_loss: 4350.4067 - val_mae: 59.1460 - val_mse: 4350.4067\n",
            "Clés disponibles : dict_keys(['loss', 'mae', 'mse', 'val_loss', 'val_mae', 'val_mse'])\n"
          ]
        },
        {
          "data": {
            "image/png": "[encoded data removed]",
            "text/plain": [
              "<Figure size 640x480 with 1 Axes>"
            ]
          },
          "metadata": {},
          "output_type": "display_data"
        }
      ],
      "source": [
        "import matplotlib.pyplot as plt\n",
        "\n",
        "# Compilation\n",
        "model.compile(\n",
        "    optimizer='adam',\n",
        "    loss='mean_squared_error',\n",
        "    metrics=['mae', 'mse']\n",
        ")\n",
        "\n",
        "# Entraînement\n",
        "history = model.fit(\n",
        "    train_generator,\n",
        "    validation_data=val_generator,\n",
        "    epochs=25,\n",
        "    initial_epoch=10\n",
        ")\n",
        "\n",
        "# Affichage des clés dispo\n",
        "print(\"Clés disponibles :\", history.history.keys())\n",
        "\n",
        "# Tracer les courbes si les clés existent\n",
        "history_dict = history.history\n",
        "if 'mse' in history_dict:\n",
        "    plt.figure()\n",
        "    plt.plot(history_dict['mse'], label='Train MSE')\n",
        "    plt.plot(history_dict['val_mse'], label='Val MSE')\n",
        "    plt.xlabel('Epochs')\n",
        "    plt.ylabel('MSE')\n",
        "    plt.title('Courbe de MSE')\n",
        "    plt.legend()\n",
        "    plt.show()\n",
        "else:\n",
        "    print(\"⚠️ Les clés 'mse' et 'val_mse' ne sont pas présentes.\")\n"
      ]
    },
    {
      "cell_type": "code",
      "execution_count": null,
      "metadata": {
        "id": "HDvjWlk2AFVl"
      },
      "outputs": [],
      "source": [
        "def __getitem__(self, index):\n",
        "    batch_indexes = self.indexes[index * self.batch_size:(index + 1) * self.batch_size]\n",
        "    X_batch = self.X[batch_indexes]\n",
        "    sex_batch = self.sex[batch_indexes]\n",
        "    y_batch = self.y[batch_indexes]\n",
        "\n",
        "    # 🛠 Assurer que les images ont bien 4 dimensions\n",
        "    if X_batch.ndim == 3:  # (batch_size, height, width)\n",
        "        X_batch = np.expand_dims(X_batch, -1)  # devient (batch_size, height, width, 1)\n",
        "\n",
        "    # Si les images sont en niveaux de gris (1 canal), les convertir en RGB\n",
        "    if X_batch.shape[-1] == 1:\n",
        "        X_batch_rgb = np.repeat(X_batch, 3, axis=-1)  # devient (batch_size, height, width, 3)\n",
        "    else:\n",
        "        X_batch_rgb = X_batch  # déjà en RGB\n",
        "\n",
        "    # Prétraitement VGG\n",
        "    if self.model_type == \"vgg\":\n",
        "        X_batch_rgb = vgg16.preprocess_input(X_batch_rgb.astype(np.float32))\n",
        "\n",
        "    return {\"image_input\": X_batch_rgb, \"sex_input\": sex_batch}, y_batch\n"
      ]
    },
    {
      "cell_type": "code",
      "execution_count": null,
      "metadata": {
        "id": "JHmbGa9pB3Uv"
      },
      "outputs": [],
      "source": [
        "import numpy as np\n",
        "from tensorflow.keras.utils import Sequence\n",
        "from tensorflow.keras.applications.vgg16 import preprocess_input\n",
        "\n",
        "class SimpleDataGenerator(Sequence):\n",
        "    def __init__(self, X, sex, y, batch_size=32, shuffle=True):\n",
        "        self.X = X\n",
        "        self.sex = sex\n",
        "        self.y = y\n",
        "        self.batch_size = batch_size\n",
        "        self.shuffle = shuffle\n",
        "        self.indexes = np.arange(len(X))\n",
        "        self.on_epoch_end()\n",
        "\n",
        "    def __len__(self):\n",
        "        return int(np.ceil(len(self.X) / self.batch_size))\n",
        "\n",
        "    def on_epoch_end(self):\n",
        "        if self.shuffle:\n",
        "            np.random.shuffle(self.indexes)\n",
        "\n",
        "    def __getitem__(self, index):\n",
        "        batch_idx = self.indexes[index * self.batch_size:(index + 1) * self.batch_size]\n",
        "        X_batch = self.X[batch_idx]\n",
        "        sex_batch = self.sex[batch_idx]\n",
        "        y_batch = self.y[batch_idx]\n",
        "\n",
        "        # Assurer que les images ont un canal\n",
        "        if X_batch.ndim == 3:  # (batch, height, width)\n",
        "            X_batch = np.expand_dims(X_batch, -1)\n",
        "\n",
        "        # Convertir en RGB si grayscale (1 canal)\n",
        "        if X_batch.shape[-1] == 1:\n",
        "            X_batch = np.repeat(X_batch, 3, axis=-1)\n",
        "\n",
        "        # Redimensionner si les images ne sont pas 224x224\n",
        "        if X_batch.shape[1:3] != (224, 224):\n",
        "            import tensorflow as tf\n",
        "            X_batch = tf.image.resize(X_batch, (224, 224)).numpy()\n",
        "\n",
        "        # Prétraitement VGG\n",
        "        X_batch = preprocess_input(X_batch.astype(np.float32))\n",
        "\n",
        "        return {\"image_input\": X_batch, \"sex_input\": sex_batch}, y_batch\n"
      ]
    },
    {
      "cell_type": "code",
      "execution_count": null,
      "metadata": {
        "id": "Wte82huRB7G2"
      },
      "outputs": [],
      "source": [
        "from tensorflow.keras import layers, models, Input\n",
        "from tensorflow.keras.applications import VGG16\n",
        "\n",
        "def create_vgg16_with_sex_input():\n",
        "    img_input = Input(shape=(224, 224, 3), name=\"image_input\")\n",
        "    base_model = VGG16(include_top=False, input_tensor=img_input, weights='imagenet')\n",
        "    base_model.trainable = False\n",
        "\n",
        "    x = base_model.output\n",
        "    x = layers.Flatten()(x)\n",
        "\n",
        "    sex_input = Input(shape=(1,), name=\"sex_input\")\n",
        "    x = layers.Concatenate()([x, sex_input])\n",
        "\n",
        "    x = layers.Dense(256, activation='relu')(x)\n",
        "    x = layers.Dropout(0.5)(x)\n",
        "    output = layers.Dense(1, name=\"boneage_output\")(x)\n",
        "\n",
        "    return models.Model(inputs=[img_input, sex_input], outputs=output)\n"
      ]
    },
    {
      "cell_type": "code",
      "execution_count": null,
      "metadata": {
        "colab": {
          "base_uri": "https://localhost:8080/",
          "height": 664
        },
        "id": "q_UpjkXnB86t",
        "outputId": "42334101-0153-4095-e7c9-66c2134bdc53"
      },
      "outputs": [
        {
          "name": "stdout",
          "output_type": "stream",
          "text": [
            "Downloading data from https://storage.googleapis.com/tensorflow/keras-applications/vgg16/vgg16_weights_tf_dim_ordering_tf_kernels_notop.h5\n",
            "\u001b[1m58889256/58889256\u001b[0m \u001b[32m━━━━━━━━━━━━━━━━━━━━\u001b[0m\u001b[37m\u001b[0m \u001b[1m0s\u001b[0m 0us/step\n",
            "Epoch 1/10\n"
          ]
        },
        {
          "name": "stderr",
          "output_type": "stream",
          "text": [
            "/usr/local/lib/python3.11/dist-packages/keras/src/trainers/data_adapters/py_dataset_adapter.py:121: UserWarning: Your `PyDataset` class should call `super().__init__(**kwargs)` in its constructor. `**kwargs` can include `workers`, `use_multiprocessing`, `max_queue_size`. Do not pass these arguments to `fit()`, as they will be ignored.\n",
            "  self._warn_if_super_not_called()\n"
          ]
        },
        {
          "name": "stdout",
          "output_type": "stream",
          "text": [
            "\u001b[1m315/315\u001b[0m \u001b[32m━━━━━━━━━━━━━━━━━━━━\u001b[0m\u001b[37m\u001b[0m \u001b[1m89s\u001b[0m 239ms/step - loss: 4777.7656 - mae: 49.8979 - val_loss: 1159.5406 - val_mae: 27.1878\n",
            "Epoch 2/10\n",
            "\u001b[1m315/315\u001b[0m \u001b[32m━━━━━━━━━━━━━━━━━━━━\u001b[0m\u001b[37m\u001b[0m \u001b[1m67s\u001b[0m 212ms/step - loss: 1617.9221 - mae: 31.8917 - val_loss: 993.0273 - val_mae: 25.0349\n",
            "Epoch 3/10\n",
            "\u001b[1m315/315\u001b[0m \u001b[32m━━━━━━━━━━━━━━━━━━━━\u001b[0m\u001b[37m\u001b[0m \u001b[1m83s\u001b[0m 215ms/step - loss: 1380.2119 - mae: 29.4556 - val_loss: 1091.6515 - val_mae: 26.5695\n",
            "Epoch 4/10\n",
            "\u001b[1m315/315\u001b[0m \u001b[32m━━━━━━━━━━━━━━━━━━━━\u001b[0m\u001b[37m\u001b[0m \u001b[1m66s\u001b[0m 210ms/step - loss: 1301.0472 - mae: 28.5389 - val_loss: 890.3702 - val_mae: 23.6344\n",
            "Epoch 5/10\n",
            "\u001b[1m315/315\u001b[0m \u001b[32m━━━━━━━━━━━━━━━━━━━━\u001b[0m\u001b[37m\u001b[0m \u001b[1m66s\u001b[0m 211ms/step - loss: 1200.3468 - mae: 27.3483 - val_loss: 911.2312 - val_mae: 24.0009\n",
            "Epoch 6/10\n",
            "\u001b[1m315/315\u001b[0m \u001b[32m━━━━━━━━━━━━━━━━━━━━\u001b[0m\u001b[37m\u001b[0m \u001b[1m67s\u001b[0m 211ms/step - loss: 1118.5786 - mae: 26.2441 - val_loss: 906.9199 - val_mae: 23.6204\n",
            "Epoch 7/10\n",
            "\u001b[1m315/315\u001b[0m \u001b[32m━━━━━━━━━━━━━━━━━━━━\u001b[0m\u001b[37m\u001b[0m \u001b[1m66s\u001b[0m 210ms/step - loss: 1105.4785 - mae: 26.3705 - val_loss: 963.0163 - val_mae: 24.8093\n",
            "Epoch 8/10\n",
            "\u001b[1m315/315\u001b[0m \u001b[32m━━━━━━━━━━━━━━━━━━━━\u001b[0m\u001b[37m\u001b[0m \u001b[1m73s\u001b[0m 233ms/step - loss: 1067.4751 - mae: 25.8935 - val_loss: 927.9630 - val_mae: 24.0863\n",
            "Epoch 9/10\n",
            "\u001b[1m315/315\u001b[0m \u001b[32m━━━━━━━━━━━━━━━━━━━━\u001b[0m\u001b[37m\u001b[0m \u001b[1m67s\u001b[0m 212ms/step - loss: 1064.4774 - mae: 25.7645 - val_loss: 879.6805 - val_mae: 23.3951\n",
            "Epoch 10/10\n",
            "\u001b[1m315/315\u001b[0m \u001b[32m━━━━━━━━━━━━━━━━━━━━\u001b[0m\u001b[37m\u001b[0m \u001b[1m66s\u001b[0m 211ms/step - loss: 1002.7239 - mae: 25.0175 - val_loss: 921.1902 - val_mae: 23.9117\n"
          ]
        },
        {
          "ename": "NameError",
          "evalue": "name 'history' is not defined",
          "output_type": "error",
          "traceback": [
            "\u001b[0;31m---------------------------------------------------------------------------\u001b[0m",
            "\u001b[0;31mNameError\u001b[0m                                 Traceback (most recent call last)",
            "\u001b[0;32m<ipython-input-26-7c83aab08bd3>\u001b[0m in \u001b[0;36m<cell line: 0>\u001b[0;34m()\u001b[0m\n\u001b[1;32m     13\u001b[0m \u001b[0;34m\u001b[0m\u001b[0m\n\u001b[1;32m     14\u001b[0m \u001b[0;31m# Convertir l'history en DataFrame\u001b[0m\u001b[0;34m\u001b[0m\u001b[0;34m\u001b[0m\u001b[0m\n\u001b[0;32m---> 15\u001b[0;31m \u001b[0mhistory_df\u001b[0m \u001b[0;34m=\u001b[0m \u001b[0mpd\u001b[0m\u001b[0;34m.\u001b[0m\u001b[0mDataFrame\u001b[0m\u001b[0;34m(\u001b[0m\u001b[0mhistory\u001b[0m\u001b[0;34m.\u001b[0m\u001b[0mhistory\u001b[0m\u001b[0;34m)\u001b[0m\u001b[0;34m\u001b[0m\u001b[0;34m\u001b[0m\u001b[0m\n\u001b[0m\u001b[1;32m     16\u001b[0m \u001b[0;34m\u001b[0m\u001b[0m\n\u001b[1;32m     17\u001b[0m \u001b[0;31m# Sauvegarder dans un fichier CSV\u001b[0m\u001b[0;34m\u001b[0m\u001b[0;34m\u001b[0m\u001b[0m\n",
            "\u001b[0;31mNameError\u001b[0m: name 'history' is not defined"
          ]
        }
      ],
      "source": [
        "import pandas as pd\n",
        "\n",
        "# Création des générateurs\n",
        "train_gen = SimpleDataGenerator(X_train, sex_train, y_train, batch_size=32)\n",
        "val_gen = SimpleDataGenerator(X_val, sex_val, y_val, batch_size=32)\n",
        "\n",
        "# Création et compilation du modèle\n",
        "model = create_vgg16_with_sex_input()\n",
        "model.compile(optimizer='adam', loss='mean_squared_error', metrics=['mae'])\n",
        "\n",
        "# Entraînement\n",
        "model.fit(train_gen, validation_data=val_gen, epochs=10)\n"
      ]
    },
    {
      "cell_type": "code",
      "execution_count": null,
      "metadata": {
        "colab": {
          "base_uri": "https://localhost:8080/"
        },
        "id": "DCMgSWO_auSW",
        "outputId": "87f7a56c-caa5-4ee0-c74a-17ab3cdd8cf8"
      },
      "outputs": [
        {
          "name": "stderr",
          "output_type": "stream",
          "text": [
            "WARNING:absl:You are saving your model as an HDF5 file via `model.save()` or `keras.saving.save_model(model)`. This file format is considered legacy. We recommend using instead the native Keras format, e.g. `model.save('my_model.keras')` or `keras.saving.save_model(model, 'my_model.keras')`. \n"
          ]
        }
      ],
      "source": [
        "model.save(\"bone_age_model_v2.h5\")\n"
      ]
    },
    {
      "cell_type": "code",
      "execution_count": null,
      "metadata": {
        "colab": {
          "base_uri": "https://localhost:8080/"
        },
        "id": "OdR2163xbmYl",
        "outputId": "2f2fd545-aa9b-4248-8c18-0cd1590a36d5"
      },
      "outputs": [
        {
          "name": "stdout",
          "output_type": "stream",
          "text": [
            "Epoch 1/30\n",
            "\u001b[1m315/315\u001b[0m \u001b[32m━━━━━━━━━━━━━━━━━━━━\u001b[0m\u001b[37m\u001b[0m \u001b[1m68s\u001b[0m 214ms/step - loss: 987.1363 - mae: 24.7392 - val_loss: 980.7655 - val_mae: 24.8752\n",
            "Epoch 2/30\n",
            "\u001b[1m315/315\u001b[0m \u001b[32m━━━━━━━━━━━━━━━━━━━━\u001b[0m\u001b[37m\u001b[0m \u001b[1m67s\u001b[0m 212ms/step - loss: 1011.7796 - mae: 25.1587 - val_loss: 952.0410 - val_mae: 24.4173\n",
            "Epoch 3/30\n",
            "\u001b[1m315/315\u001b[0m \u001b[32m━━━━━━━━━━━━━━━━━━━━\u001b[0m\u001b[37m\u001b[0m \u001b[1m74s\u001b[0m 234ms/step - loss: 990.0218 - mae: 24.6505 - val_loss: 1032.6506 - val_mae: 25.5451\n",
            "Epoch 4/30\n",
            "\u001b[1m315/315\u001b[0m \u001b[32m━━━━━━━━━━━━━━━━━━━━\u001b[0m\u001b[37m\u001b[0m \u001b[1m67s\u001b[0m 212ms/step - loss: 986.5960 - mae: 24.8087 - val_loss: 1064.0112 - val_mae: 25.8511\n",
            "Epoch 5/30\n",
            "\u001b[1m315/315\u001b[0m \u001b[32m━━━━━━━━━━━━━━━━━━━━\u001b[0m\u001b[37m\u001b[0m \u001b[1m66s\u001b[0m 211ms/step - loss: 945.9680 - mae: 24.1284 - val_loss: 913.4373 - val_mae: 23.7424\n",
            "Epoch 6/30\n",
            "\u001b[1m315/315\u001b[0m \u001b[32m━━━━━━━━━━━━━━━━━━━━\u001b[0m\u001b[37m\u001b[0m \u001b[1m74s\u001b[0m 234ms/step - loss: 937.9149 - mae: 24.0645 - val_loss: 865.7515 - val_mae: 23.0591\n",
            "Epoch 7/30\n",
            "\u001b[1m315/315\u001b[0m \u001b[32m━━━━━━━━━━━━━━━━━━━━\u001b[0m\u001b[37m\u001b[0m \u001b[1m67s\u001b[0m 212ms/step - loss: 936.5684 - mae: 24.2782 - val_loss: 883.0210 - val_mae: 23.2699\n",
            "Epoch 8/30\n",
            "\u001b[1m315/315\u001b[0m \u001b[32m━━━━━━━━━━━━━━━━━━━━\u001b[0m\u001b[37m\u001b[0m \u001b[1m66s\u001b[0m 211ms/step - loss: 907.1339 - mae: 23.6715 - val_loss: 929.8394 - val_mae: 24.2139\n",
            "Epoch 9/30\n",
            "\u001b[1m315/315\u001b[0m \u001b[32m━━━━━━━━━━━━━━━━━━━━\u001b[0m\u001b[37m\u001b[0m \u001b[1m66s\u001b[0m 210ms/step - loss: 904.2517 - mae: 23.5934 - val_loss: 910.7789 - val_mae: 23.8480\n",
            "Epoch 10/30\n",
            "\u001b[1m315/315\u001b[0m \u001b[32m━━━━━━━━━━━━━━━━━━━━\u001b[0m\u001b[37m\u001b[0m \u001b[1m83s\u001b[0m 214ms/step - loss: 884.4586 - mae: 23.3583 - val_loss: 908.4187 - val_mae: 23.6288\n",
            "Epoch 11/30\n",
            "\u001b[1m315/315\u001b[0m \u001b[32m━━━━━━━━━━━━━━━━━━━━\u001b[0m\u001b[37m\u001b[0m \u001b[1m66s\u001b[0m 210ms/step - loss: 828.9355 - mae: 22.6705 - val_loss: 906.7639 - val_mae: 23.6357\n"
          ]
        },
        {
          "data": {
            "text/plain": [
              "<keras.src.callbacks.history.History at 0x7f8434770e10>"
            ]
          },
          "execution_count": 29,
          "metadata": {},
          "output_type": "execute_result"
        }
      ],
      "source": [
        "from keras.callbacks import EarlyStopping\n",
        "\n",
        "early_stop = EarlyStopping(patience=5, restore_best_weights=True)\n",
        "\n",
        "model.fit(train_gen, validation_data=val_gen, epochs=30, callbacks=[early_stop])\n"
      ]
    },
    {
      "cell_type": "code",
      "execution_count": null,
      "metadata": {
        "colab": {
          "base_uri": "https://localhost:8080/"
        },
        "id": "cYH99uncfMlx",
        "outputId": "8205b58a-b9fb-4013-8119-dd5bb66a2606"
      },
      "outputs": [
        {
          "name": "stdout",
          "output_type": "stream",
          "text": [
            "Epoch 1/10\n",
            "\u001b[1m315/315\u001b[0m \u001b[32m━━━━━━━━━━━━━━━━━━━━\u001b[0m\u001b[37m\u001b[0m \u001b[1m0s\u001b[0m 274ms/step - loss: 984.8557 - mae: 24.7151 - mse: 984.8557\n",
            "Epoch 1: val_loss improved from inf to 1045.16418, saving model to best_model_vgg.h5\n"
          ]
        },
        {
          "name": "stderr",
          "output_type": "stream",
          "text": [
            "WARNING:absl:You are saving your model as an HDF5 file via `model.save()` or `keras.saving.save_model(model)`. This file format is considered legacy. We recommend using instead the native Keras format, e.g. `model.save('my_model.keras')` or `keras.saving.save_model(model, 'my_model.keras')`. \n"
          ]
        },
        {
          "name": "stdout",
          "output_type": "stream",
          "text": [
            "\b\b\b\b\b\b\b\b\b\b\b\b\b\b\b\b\b\b\b\b\b\b\b\b\b\b\b\b\b\b\b\b\b\b\b\b\b\b\b\b\b\b\b\b\b\b\b\b\b\b\b\b\b\b\b\b\b\b\b\b\b\b\b\b\b\b\b\b\b\b\b\b\b\b\b\b\b\b\b\b\b\b\b\b\b\b\b\b\b\b\r\u001b[1m315/315\u001b[0m \u001b[32m━━━━━━━━━━━━━━━━━━━━\u001b[0m\u001b[37m\u001b[0m \u001b[1m117s\u001b[0m 323ms/step - loss: 984.8430 - mae: 24.7150 - mse: 984.8430 - val_loss: 1045.1642 - val_mae: 25.7995 - val_mse: 1045.1642\n",
            "Epoch 2/10\n",
            "\u001b[1m315/315\u001b[0m \u001b[32m━━━━━━━━━━━━━━━━━━━━\u001b[0m\u001b[37m\u001b[0m \u001b[1m0s\u001b[0m 264ms/step - loss: 904.7253 - mae: 23.5979 - mse: 904.7253\n",
            "Epoch 2: val_loss improved from 1045.16418 to 920.51624, saving model to best_model_vgg.h5\n"
          ]
        },
        {
          "name": "stderr",
          "output_type": "stream",
          "text": [
            "WARNING:absl:You are saving your model as an HDF5 file via `model.save()` or `keras.saving.save_model(model)`. This file format is considered legacy. We recommend using instead the native Keras format, e.g. `model.save('my_model.keras')` or `keras.saving.save_model(model, 'my_model.keras')`. \n"
          ]
        },
        {
          "name": "stdout",
          "output_type": "stream",
          "text": [
            "\b\b\b\b\b\b\b\b\b\b\b\b\b\b\b\b\b\b\b\b\b\b\b\b\b\b\b\b\b\b\b\b\b\b\b\b\b\b\b\b\b\b\b\b\b\b\b\b\b\b\b\b\b\b\b\b\b\b\b\b\b\b\b\b\b\b\b\b\b\b\b\b\b\b\b\b\b\b\b\b\b\b\b\b\b\b\b\b\b\b\r\u001b[1m315/315\u001b[0m \u001b[32m━━━━━━━━━━━━━━━━━━━━\u001b[0m\u001b[37m\u001b[0m \u001b[1m132s\u001b[0m 331ms/step - loss: 904.7221 - mae: 23.5977 - mse: 904.7221 - val_loss: 920.5162 - val_mae: 24.2390 - val_mse: 920.5162\n",
            "Epoch 3/10\n",
            "\u001b[1m315/315\u001b[0m \u001b[32m━━━━━━━━━━━━━━━━━━━━\u001b[0m\u001b[37m\u001b[0m \u001b[1m0s\u001b[0m 263ms/step - loss: 795.5776 - mae: 22.1150 - mse: 795.5776\n",
            "Epoch 3: val_loss improved from 920.51624 to 718.54358, saving model to best_model_vgg.h5\n"
          ]
        },
        {
          "name": "stderr",
          "output_type": "stream",
          "text": [
            "WARNING:absl:You are saving your model as an HDF5 file via `model.save()` or `keras.saving.save_model(model)`. This file format is considered legacy. We recommend using instead the native Keras format, e.g. `model.save('my_model.keras')` or `keras.saving.save_model(model, 'my_model.keras')`. \n"
          ]
        },
        {
          "name": "stdout",
          "output_type": "stream",
          "text": [
            "\b\b\b\b\b\b\b\b\b\b\b\b\b\b\b\b\b\b\b\b\b\b\b\b\b\b\b\b\b\b\b\b\b\b\b\b\b\b\b\b\b\b\b\b\b\b\b\b\b\b\b\b\b\b\b\b\b\b\b\b\b\b\b\b\b\b\b\b\b\b\b\b\b\b\b\b\b\b\b\b\b\b\b\b\b\b\b\b\b\b\r\u001b[1m315/315\u001b[0m \u001b[32m━━━━━━━━━━━━━━━━━━━━\u001b[0m\u001b[37m\u001b[0m \u001b[1m104s\u001b[0m 330ms/step - loss: 795.6157 - mae: 22.1152 - mse: 795.6157 - val_loss: 718.5436 - val_mae: 20.8430 - val_mse: 718.5436\n",
            "Epoch 4/10\n",
            "\u001b[1m315/315\u001b[0m \u001b[32m━━━━━━━━━━━━━━━━━━━━\u001b[0m\u001b[37m\u001b[0m \u001b[1m0s\u001b[0m 263ms/step - loss: 815.1624 - mae: 22.5268 - mse: 815.1624\n",
            "Epoch 4: val_loss did not improve from 718.54358\n",
            "\u001b[1m315/315\u001b[0m \u001b[32m━━━━━━━━━━━━━━━━━━━━\u001b[0m\u001b[37m\u001b[0m \u001b[1m96s\u001b[0m 305ms/step - loss: 815.1127 - mae: 22.5256 - mse: 815.1127 - val_loss: 833.1057 - val_mae: 22.7399 - val_mse: 833.1057\n",
            "Epoch 5/10\n",
            "\u001b[1m315/315\u001b[0m \u001b[32m━━━━━━━━━━━━━━━━━━━━\u001b[0m\u001b[37m\u001b[0m \u001b[1m0s\u001b[0m 264ms/step - loss: 778.0175 - mae: 21.8101 - mse: 778.0175\n",
            "Epoch 5: val_loss improved from 718.54358 to 699.55811, saving model to best_model_vgg.h5\n"
          ]
        },
        {
          "name": "stderr",
          "output_type": "stream",
          "text": [
            "WARNING:absl:You are saving your model as an HDF5 file via `model.save()` or `keras.saving.save_model(model)`. This file format is considered legacy. We recommend using instead the native Keras format, e.g. `model.save('my_model.keras')` or `keras.saving.save_model(model, 'my_model.keras')`. \n"
          ]
        },
        {
          "name": "stdout",
          "output_type": "stream",
          "text": [
            "\b\b\b\b\b\b\b\b\b\b\b\b\b\b\b\b\b\b\b\b\b\b\b\b\b\b\b\b\b\b\b\b\b\b\b\b\b\b\b\b\b\b\b\b\b\b\b\b\b\b\b\b\b\b\b\b\b\b\b\b\b\b\b\b\b\b\b\b\b\b\b\b\b\b\b\b\b\b\b\b\b\b\b\b\b\b\b\b\b\b\r\u001b[1m315/315\u001b[0m \u001b[32m━━━━━━━━━━━━━━━━━━━━\u001b[0m\u001b[37m\u001b[0m \u001b[1m143s\u001b[0m 307ms/step - loss: 777.9567 - mae: 21.8096 - mse: 777.9567 - val_loss: 699.5581 - val_mae: 20.6062 - val_mse: 699.5581\n",
            "Epoch 6/10\n",
            "\u001b[1m315/315\u001b[0m \u001b[32m━━━━━━━━━━━━━━━━━━━━\u001b[0m\u001b[37m\u001b[0m \u001b[1m0s\u001b[0m 263ms/step - loss: 747.1719 - mae: 21.2078 - mse: 747.1719\n",
            "Epoch 6: val_loss did not improve from 699.55811\n",
            "\u001b[1m315/315\u001b[0m \u001b[32m━━━━━━━━━━━━━━━━━━━━\u001b[0m\u001b[37m\u001b[0m \u001b[1m96s\u001b[0m 305ms/step - loss: 747.1494 - mae: 21.2078 - mse: 747.1494 - val_loss: 711.1707 - val_mae: 20.8440 - val_mse: 711.1707\n",
            "Epoch 7/10\n",
            "\u001b[1m315/315\u001b[0m \u001b[32m━━━━━━━━━━━━━━━━━━━━\u001b[0m\u001b[37m\u001b[0m \u001b[1m0s\u001b[0m 263ms/step - loss: 734.5713 - mae: 20.9969 - mse: 734.5713\n",
            "Epoch 7: val_loss improved from 699.55811 to 678.69934, saving model to best_model_vgg.h5\n"
          ]
        },
        {
          "name": "stderr",
          "output_type": "stream",
          "text": [
            "WARNING:absl:You are saving your model as an HDF5 file via `model.save()` or `keras.saving.save_model(model)`. This file format is considered legacy. We recommend using instead the native Keras format, e.g. `model.save('my_model.keras')` or `keras.saving.save_model(model, 'my_model.keras')`. \n"
          ]
        },
        {
          "name": "stdout",
          "output_type": "stream",
          "text": [
            "\b\b\b\b\b\b\b\b\b\b\b\b\b\b\b\b\b\b\b\b\b\b\b\b\b\b\b\b\b\b\b\b\b\b\b\b\b\b\b\b\b\b\b\b\b\b\b\b\b\b\b\b\b\b\b\b\b\b\b\b\b\b\b\b\b\b\b\b\b\b\b\b\b\b\b\b\b\b\b\b\b\b\b\b\b\b\b\b\b\b\r\u001b[1m315/315\u001b[0m \u001b[32m━━━━━━━━━━━━━━━━━━━━\u001b[0m\u001b[37m\u001b[0m \u001b[1m104s\u001b[0m 329ms/step - loss: 734.5853 - mae: 20.9971 - mse: 734.5853 - val_loss: 678.6993 - val_mae: 20.5074 - val_mse: 678.6993\n",
            "Epoch 8/10\n",
            "\u001b[1m315/315\u001b[0m \u001b[32m━━━━━━━━━━━━━━━━━━━━\u001b[0m\u001b[37m\u001b[0m \u001b[1m0s\u001b[0m 262ms/step - loss: 674.0944 - mae: 20.1304 - mse: 674.0944\n",
            "Epoch 8: val_loss did not improve from 678.69934\n",
            "\u001b[1m315/315\u001b[0m \u001b[32m━━━━━━━━━━━━━━━━━━━━\u001b[0m\u001b[37m\u001b[0m \u001b[1m96s\u001b[0m 304ms/step - loss: 674.1928 - mae: 20.1319 - mse: 674.1928 - val_loss: 882.7784 - val_mae: 23.7462 - val_mse: 882.7784\n",
            "Epoch 9/10\n",
            "\u001b[1m315/315\u001b[0m \u001b[32m━━━━━━━━━━━━━━━━━━━━\u001b[0m\u001b[37m\u001b[0m \u001b[1m0s\u001b[0m 263ms/step - loss: 700.8603 - mae: 20.6692 - mse: 700.8603\n",
            "Epoch 9: val_loss improved from 678.69934 to 641.40649, saving model to best_model_vgg.h5\n"
          ]
        },
        {
          "name": "stderr",
          "output_type": "stream",
          "text": [
            "WARNING:absl:You are saving your model as an HDF5 file via `model.save()` or `keras.saving.save_model(model)`. This file format is considered legacy. We recommend using instead the native Keras format, e.g. `model.save('my_model.keras')` or `keras.saving.save_model(model, 'my_model.keras')`. \n"
          ]
        },
        {
          "name": "stdout",
          "output_type": "stream",
          "text": [
            "\b\b\b\b\b\b\b\b\b\b\b\b\b\b\b\b\b\b\b\b\b\b\b\b\b\b\b\b\b\b\b\b\b\b\b\b\b\b\b\b\b\b\b\b\b\b\b\b\b\b\b\b\b\b\b\b\b\b\b\b\b\b\b\b\b\b\b\b\b\b\b\b\b\b\b\b\b\b\b\b\b\b\b\b\b\b\b\b\b\b\r\u001b[1m315/315\u001b[0m \u001b[32m━━━━━━━━━━━━━━━━━━━━\u001b[0m\u001b[37m\u001b[0m \u001b[1m97s\u001b[0m 307ms/step - loss: 700.8639 - mae: 20.6692 - mse: 700.8639 - val_loss: 641.4065 - val_mae: 19.5305 - val_mse: 641.4065\n",
            "Epoch 10/10\n",
            "\u001b[1m315/315\u001b[0m \u001b[32m━━━━━━━━━━━━━━━━━━━━\u001b[0m\u001b[37m\u001b[0m \u001b[1m0s\u001b[0m 264ms/step - loss: 668.5505 - mae: 20.0935 - mse: 668.5505\n",
            "Epoch 10: val_loss did not improve from 641.40649\n",
            "\u001b[1m315/315\u001b[0m \u001b[32m━━━━━━━━━━━━━━━━━━━━\u001b[0m\u001b[37m\u001b[0m \u001b[1m142s\u001b[0m 306ms/step - loss: 668.5476 - mae: 20.0935 - mse: 668.5476 - val_loss: 705.6285 - val_mae: 20.7984 - val_mse: 705.6285\n"
          ]
        }
      ],
      "source": [
        "from tensorflow.keras.applications import vgg16\n",
        "from tensorflow.keras.optimizers import Adam\n",
        "from tensorflow.keras.models import Model\n",
        "\n",
        "# 1. Débloquer certaines couches de VGG16 (ici les 4 derniers blocs conv)\n",
        "# Tu peux choisir à partir de quel layer tu veux commencer à entraîner\n",
        "for layer in model.layers:\n",
        "    if 'block5' in layer.name or 'block4' in layer.name:\n",
        "        layer.trainable = True\n",
        "    else:\n",
        "        layer.trainable = False\n",
        "\n",
        "# 2. Recompiler le modèle avec un learning rate plus petit\n",
        "model.compile(\n",
        "    optimizer=Adam(learning_rate=1e-5),  # Plus petit que 1e-4 pour éviter de casser les poids pré-entraînés\n",
        "    loss='mse',\n",
        "    metrics=['mae', 'mse']\n",
        ")\n",
        "\n",
        "# 3. Reprendre l'entraînement avec les générateurs\n",
        "history_finetune = model.fit(\n",
        "    train_generator,\n",
        "    validation_data=val_generator,\n",
        "    epochs=10,  # tu peux augmenter\n",
        "    callbacks=[checkpoint]\n",
        ")\n"
      ]
    },
    {
      "cell_type": "code",
      "execution_count": null,
      "metadata": {
        "colab": {
          "base_uri": "https://localhost:8080/"
        },
        "id": "u8Nocel_VOE1",
        "outputId": "0dafb0ec-6853-4393-ce5a-0dfa1e569f34"
      },
      "outputs": [
        {
          "name": "stdout",
          "output_type": "stream",
          "text": [
            "               total        used        free      shared  buff/cache   available\n",
            "Mem:            12Gi       1.1Gi        10Gi       2.0Mi       836Mi        11Gi\n",
            "Swap:             0B          0B          0B\n"
          ]
        }
      ],
      "source": [
        "!free -h  # Affiche l'utilisation actuelle de la mémoire"
      ]
    },
    {
      "cell_type": "code",
      "execution_count": null,
      "metadata": {
        "colab": {
          "base_uri": "https://localhost:8080/"
        },
        "id": "CY3XRniaV6MQ",
        "outputId": "aefa1ef9-868d-4ed8-be59-da5ff43cb422"
      },
      "outputs": [
        {
          "name": "stdout",
          "output_type": "stream",
          "text": [
            "\n",
            "🚀 Entraînement sur le segment 1/5\n"
          ]
        },
        {
          "name": "stderr",
          "output_type": "stream",
          "text": [
            "/usr/local/lib/python3.11/dist-packages/keras/src/trainers/data_adapters/py_dataset_adapter.py:121: UserWarning: Your `PyDataset` class should call `super().__init__(**kwargs)` in its constructor. `**kwargs` can include `workers`, `use_multiprocessing`, `max_queue_size`. Do not pass these arguments to `fit()`, as they will be ignored.\n",
            "  self._warn_if_super_not_called()\n"
          ]
        },
        {
          "name": "stdout",
          "output_type": "stream",
          "text": [
            "Epoch 1/10\n"
          ]
        },
        {
          "name": "stderr",
          "output_type": "stream",
          "text": [
            "/usr/local/lib/python3.11/dist-packages/keras/src/models/functional.py:237: UserWarning: The structure of `inputs` doesn't match the expected structure.\n",
            "Expected: ['keras_tensor_22']\n",
            "Received: inputs=Tensor(shape=(None, 224, 224, 3))\n",
            "  warnings.warn(msg)\n"
          ]
        },
        {
          "name": "stdout",
          "output_type": "stream",
          "text": [
            "\n",
            "Epoch 1: val_loss improved from inf to 17390.63086, saving model to /content/drive/MyDrive/dataset-v2/checkpoints/model_part_1.h5\n"
          ]
        },
        {
          "name": "stderr",
          "output_type": "stream",
          "text": [
            "WARNING:absl:You are saving your model as an HDF5 file via `model.save()` or `keras.saving.save_model(model)`. This file format is considered legacy. We recommend using instead the native Keras format, e.g. `model.save('my_model.keras')` or `keras.saving.save_model(model, 'my_model.keras')`. \n"
          ]
        },
        {
          "name": "stdout",
          "output_type": "stream",
          "text": [
            "63/63 - 2507s - 40s/step - loss: 17567.8340 - mae: 126.0781 - val_loss: 17390.6309 - val_mae: 125.0658 - learning_rate: 1.0000e-04\n",
            "Epoch 2/10\n",
            "\n",
            "Epoch 2: val_loss improved from 17390.63086 to 16640.27734, saving model to /content/drive/MyDrive/dataset-v2/checkpoints/model_part_1.h5\n"
          ]
        },
        {
          "name": "stderr",
          "output_type": "stream",
          "text": [
            "WARNING:absl:You are saving your model as an HDF5 file via `model.save()` or `keras.saving.save_model(model)`. This file format is considered legacy. We recommend using instead the native Keras format, e.g. `model.save('my_model.keras')` or `keras.saving.save_model(model, 'my_model.keras')`. \n"
          ]
        },
        {
          "name": "stdout",
          "output_type": "stream",
          "text": [
            "63/63 - 2484s - 39s/step - loss: 16782.3320 - mae: 122.9393 - val_loss: 16640.2773 - val_mae: 122.0343 - learning_rate: 1.0000e-04\n",
            "Epoch 3/10\n",
            "\n",
            "Epoch 3: val_loss improved from 16640.27734 to 15889.37695, saving model to /content/drive/MyDrive/dataset-v2/checkpoints/model_part_1.h5\n"
          ]
        },
        {
          "name": "stderr",
          "output_type": "stream",
          "text": [
            "WARNING:absl:You are saving your model as an HDF5 file via `model.save()` or `keras.saving.save_model(model)`. This file format is considered legacy. We recommend using instead the native Keras format, e.g. `model.save('my_model.keras')` or `keras.saving.save_model(model, 'my_model.keras')`. \n"
          ]
        },
        {
          "name": "stdout",
          "output_type": "stream",
          "text": [
            "63/63 - 2537s - 40s/step - loss: 16033.7686 - mae: 119.8644 - val_loss: 15889.3770 - val_mae: 118.9247 - learning_rate: 1.0000e-04\n",
            "Epoch 4/10\n",
            "\n",
            "Epoch 4: val_loss improved from 15889.37695 to 15056.40918, saving model to /content/drive/MyDrive/dataset-v2/checkpoints/model_part_1.h5\n"
          ]
        },
        {
          "name": "stderr",
          "output_type": "stream",
          "text": [
            "WARNING:absl:You are saving your model as an HDF5 file via `model.save()` or `keras.saving.save_model(model)`. This file format is considered legacy. We recommend using instead the native Keras format, e.g. `model.save('my_model.keras')` or `keras.saving.save_model(model, 'my_model.keras')`. \n"
          ]
        },
        {
          "name": "stdout",
          "output_type": "stream",
          "text": [
            "63/63 - 2493s - 40s/step - loss: 15255.9492 - mae: 116.5818 - val_loss: 15056.4092 - val_mae: 115.3814 - learning_rate: 1.0000e-04\n",
            "Epoch 5/10\n",
            "\n",
            "Epoch 5: val_loss improved from 15056.40918 to 14159.13574, saving model to /content/drive/MyDrive/dataset-v2/checkpoints/model_part_1.h5\n"
          ]
        },
        {
          "name": "stderr",
          "output_type": "stream",
          "text": [
            "WARNING:absl:You are saving your model as an HDF5 file via `model.save()` or `keras.saving.save_model(model)`. This file format is considered legacy. We recommend using instead the native Keras format, e.g. `model.save('my_model.keras')` or `keras.saving.save_model(model, 'my_model.keras')`. \n"
          ]
        },
        {
          "name": "stdout",
          "output_type": "stream",
          "text": [
            "63/63 - 2489s - 40s/step - loss: 14385.9678 - mae: 112.8013 - val_loss: 14159.1357 - val_mae: 111.4504 - learning_rate: 1.0000e-04\n",
            "Epoch 6/10\n",
            "\n",
            "Epoch 6: val_loss improved from 14159.13574 to 13224.00293, saving model to /content/drive/MyDrive/dataset-v2/checkpoints/model_part_1.h5\n"
          ]
        },
        {
          "name": "stderr",
          "output_type": "stream",
          "text": [
            "WARNING:absl:You are saving your model as an HDF5 file via `model.save()` or `keras.saving.save_model(model)`. This file format is considered legacy. We recommend using instead the native Keras format, e.g. `model.save('my_model.keras')` or `keras.saving.save_model(model, 'my_model.keras')`. \n"
          ]
        },
        {
          "name": "stdout",
          "output_type": "stream",
          "text": [
            "63/63 - 2484s - 39s/step - loss: 13471.7529 - mae: 108.7159 - val_loss: 13224.0029 - val_mae: 107.2096 - learning_rate: 1.0000e-04\n",
            "Epoch 7/10\n",
            "\n",
            "Epoch 7: val_loss improved from 13224.00293 to 12262.55664, saving model to /content/drive/MyDrive/dataset-v2/checkpoints/model_part_1.h5\n"
          ]
        },
        {
          "name": "stderr",
          "output_type": "stream",
          "text": [
            "WARNING:absl:You are saving your model as an HDF5 file via `model.save()` or `keras.saving.save_model(model)`. This file format is considered legacy. We recommend using instead the native Keras format, e.g. `model.save('my_model.keras')` or `keras.saving.save_model(model, 'my_model.keras')`. \n"
          ]
        },
        {
          "name": "stdout",
          "output_type": "stream",
          "text": [
            "63/63 - 2494s - 40s/step - loss: 12525.4033 - mae: 104.3593 - val_loss: 12262.5566 - val_mae: 102.7061 - learning_rate: 1.0000e-04\n",
            "Epoch 8/10\n",
            "\n",
            "Epoch 8: val_loss improved from 12262.55664 to 11287.23145, saving model to /content/drive/MyDrive/dataset-v2/checkpoints/model_part_1.h5\n"
          ]
        },
        {
          "name": "stderr",
          "output_type": "stream",
          "text": [
            "WARNING:absl:You are saving your model as an HDF5 file via `model.save()` or `keras.saving.save_model(model)`. This file format is considered legacy. We recommend using instead the native Keras format, e.g. `model.save('my_model.keras')` or `keras.saving.save_model(model, 'my_model.keras')`. \n"
          ]
        },
        {
          "name": "stdout",
          "output_type": "stream",
          "text": [
            "63/63 - 2485s - 39s/step - loss: 11560.0391 - mae: 99.7088 - val_loss: 11287.2314 - val_mae: 97.9906 - learning_rate: 1.0000e-04\n",
            "Epoch 9/10\n",
            "\n",
            "Epoch 9: val_loss improved from 11287.23145 to 10316.11328, saving model to /content/drive/MyDrive/dataset-v2/checkpoints/model_part_1.h5\n"
          ]
        },
        {
          "name": "stderr",
          "output_type": "stream",
          "text": [
            "WARNING:absl:You are saving your model as an HDF5 file via `model.save()` or `keras.saving.save_model(model)`. This file format is considered legacy. We recommend using instead the native Keras format, e.g. `model.save('my_model.keras')` or `keras.saving.save_model(model, 'my_model.keras')`. \n"
          ]
        },
        {
          "name": "stdout",
          "output_type": "stream",
          "text": [
            "63/63 - 2484s - 39s/step - loss: 10589.6885 - mae: 94.8842 - val_loss: 10316.1133 - val_mae: 93.0975 - learning_rate: 1.0000e-04\n",
            "Epoch 10/10\n",
            "\n",
            "Epoch 10: val_loss improved from 10316.11328 to 9355.88672, saving model to /content/drive/MyDrive/dataset-v2/checkpoints/model_part_1.h5\n"
          ]
        },
        {
          "name": "stderr",
          "output_type": "stream",
          "text": [
            "WARNING:absl:You are saving your model as an HDF5 file via `model.save()` or `keras.saving.save_model(model)`. This file format is considered legacy. We recommend using instead the native Keras format, e.g. `model.save('my_model.keras')` or `keras.saving.save_model(model, 'my_model.keras')`. \n"
          ]
        },
        {
          "name": "stdout",
          "output_type": "stream",
          "text": [
            "63/63 - 2485s - 39s/step - loss: 9624.4043 - mae: 89.8750 - val_loss: 9355.8867 - val_mae: 88.0782 - learning_rate: 1.0000e-04\n"
          ]
        }
      ],
      "source": [
        "import numpy as np\n",
        "import os\n",
        "import gc\n",
        "import pandas as pd\n",
        "from sklearn.metrics import mean_absolute_error, mean_squared_error\n",
        "from tensorflow.keras.applications import VGG16\n",
        "from tensorflow.keras.models import Model\n",
        "from tensorflow.keras.layers import Dense, Flatten, GlobalAveragePooling2D, Input\n",
        "from tensorflow.keras.callbacks import EarlyStopping, ReduceLROnPlateau, ModelCheckpoint\n",
        "from tensorflow.keras.optimizers import Adam\n",
        "from tensorflow.keras.utils import Sequence\n",
        "\n",
        "# 📁 Charger les données de validation\n",
        "x_val = np.load('/content/drive/MyDrive/dataset-v2/npy_files/X_val.npy') / 255.0\n",
        "y_val = np.load('/content/drive/MyDrive/dataset-v2/npy_files/y_val_age.npy')\n",
        "\n",
        "# Convertir les données de validation de grayscale en RGB\n",
        "x_val_rgb = np.repeat(x_val, 3, axis=-1)\n",
        "\n",
        "# 📂 Data Generator pour charger les données par lot\n",
        "class DataGenerator(Sequence):\n",
        "    def __init__(self, x_path, y_path, batch_size, part_idx, total_parts):\n",
        "        self.x_path = x_path\n",
        "        self.y_path = y_path\n",
        "        self.batch_size = batch_size\n",
        "        self.part_idx = part_idx\n",
        "        self.total_parts = total_parts\n",
        "        self.x, self.y = self.load_data_slice()  # Charger la portion de données\n",
        "\n",
        "    def load_data_slice(self):\n",
        "        x = np.load(self.x_path)\n",
        "        y = np.load(self.y_path)\n",
        "\n",
        "        total_len = len(x)\n",
        "        part_size = total_len // self.total_parts\n",
        "        start = self.part_idx * part_size\n",
        "        end = (self.part_idx + 1) * part_size if self.part_idx < self.total_parts - 1 else total_len\n",
        "\n",
        "        return x[start:end], y[start:end]\n",
        "\n",
        "    def __len__(self):\n",
        "        # Nombre de batches par epoch\n",
        "        return int(np.ceil(len(self.x) / self.batch_size))\n",
        "\n",
        "    def __getitem__(self, idx):\n",
        "        # Charger un batch\n",
        "        batch_x = self.x[idx * self.batch_size:(idx + 1) * self.batch_size]\n",
        "        batch_y = self.y[idx * self.batch_size:(idx + 1) * self.batch_size]\n",
        "\n",
        "        # Normaliser et convertir en RGB\n",
        "        batch_x = batch_x / 255.0\n",
        "        batch_x = np.repeat(batch_x, 3, axis=-1)\n",
        "\n",
        "        return batch_x, batch_y\n",
        "\n",
        "# 🧠 Construire le modèle basé sur VGG16\n",
        "def build_model():\n",
        "    base = VGG16(weights='imagenet', include_top=False, input_tensor=Input(shape=(224, 224, 3)))\n",
        "    for layer in base.layers:\n",
        "        layer.trainable = False  # On fige les couches de base\n",
        "\n",
        "    x = base.output\n",
        "    x = GlobalAveragePooling2D()(x)\n",
        "    x = Dense(128, activation='relu')(x)\n",
        "    output = Dense(1)(x)  # Prédiction de l'âge\n",
        "\n",
        "    model = Model(inputs=base.input, outputs=output)\n",
        "    model.compile(optimizer=Adam(learning_rate=1e-4), loss='mse', metrics=['mae'])\n",
        "    return model\n",
        "\n",
        "model = build_model()\n",
        "\n",
        "# ⚙️ Paramètres d'entraînement\n",
        "BATCH_SIZE = 32\n",
        "EPOCHS = 10\n",
        "PARTS = 5  # 5 x 20% = 100%\n",
        "\n",
        "# 📁 Créer un dossier pour les checkpoints\n",
        "checkpoint_dir = '/content/drive/MyDrive/dataset-v2/checkpoints'\n",
        "os.makedirs(checkpoint_dir, exist_ok=True)\n",
        "\n",
        "# 📊 Journal pour MAE/MSE\n",
        "results = []\n",
        "\n",
        "for i in range(PARTS):\n",
        "    print(f\"\\n🚀 Entraînement sur le segment {i+1}/{PARTS}\")\n",
        "\n",
        "    # Créer un générateur pour la partie des données\n",
        "    train_generator = DataGenerator(\n",
        "        x_path='/content/drive/MyDrive/dataset-v2/npy_files/X_train.npy',\n",
        "        y_path='/content/drive/MyDrive/dataset-v2/npy_files/y_train_age.npy',\n",
        "        batch_size=BATCH_SIZE,\n",
        "        part_idx=i,\n",
        "        total_parts=PARTS\n",
        "    )\n",
        "\n",
        "    checkpoint_path = f\"{checkpoint_dir}/model_part_{i+1}.h5\"\n",
        "\n",
        "    callbacks = [\n",
        "        EarlyStopping(patience=3, restore_best_weights=True),\n",
        "        ReduceLROnPlateau(patience=2, factor=0.5, verbose=1),\n",
        "        ModelCheckpoint(filepath=checkpoint_path, save_best_only=True, monitor='val_loss', verbose=1)\n",
        "    ]\n",
        "\n",
        "    # Entraîner le modèle avec le générateur\n",
        "    model.fit(\n",
        "        train_generator,\n",
        "        epochs=EPOCHS,\n",
        "        validation_data=(x_val_rgb, y_val),\n",
        "        callbacks=callbacks,\n",
        "        verbose=2\n",
        "    )\n",
        "\n",
        "    # 📈 Évaluation sur x_val\n",
        "    predictions = model.predict(x_val_rgb)\n",
        "    mae = mean_absolute_error(y_val, predictions)\n",
        "    mse = mean_squared_error(y_val, predictions)\n",
        "    print(f\"\\n📊 [Partie {i+1}] MAE: {mae:.4f} | MSE: {mse:.4f}\")\n",
        "    results.append((i+1, mae, mse))\n",
        "\n",
        "    # 🧹 Nettoyage mémoire\n",
        "    gc.collect()\n",
        "\n",
        "# 💾 Sauvegarder les résultats dans un CSV\n",
        "df = pd.DataFrame(results, columns=[\"Partie\", \"MAE\", \"MSE\"])\n",
        "df.to_csv('/content/drive/MyDrive/dataset-v2/results_log.csv', index=False)"
      ]
    },
    {
      "cell_type": "code",
      "execution_count": 28,
      "metadata": {
        "colab": {
          "base_uri": "https://localhost:8080/"
        },
        "id": "EnEL0HOxAHTO",
        "outputId": "b9079091-cfaa-4aa9-820d-f8153abf339d"
      },
      "outputs": [
        {
          "output_type": "execute_result",
          "data": {
            "text/plain": [
              "0"
            ]
          },
          "metadata": {},
          "execution_count": 28
        }
      ],
      "source": [
        "import gc\n",
        "gc.collect()"
      ]
    },
    {
      "cell_type": "code",
      "execution_count": 9,
      "metadata": {
        "colab": {
          "base_uri": "https://localhost:8080/"
        },
        "id": "DiC53Ukh9Qul",
        "outputId": "f4acc7bf-3f7c-4ec7-f7b0-279a40939180"
      },
      "outputs": [
        {
          "output_type": "stream",
          "name": "stdout",
          "text": [
            "\n",
            "🚀 Training on segment 2/5 with sex as input\n",
            "Epoch 1/10\n",
            "\n",
            "Epoch 1: val_loss improved from inf to 17417.65625, saving model to /content/drive/MyDrive/dataset-v2/checkpoints/model_part_2_with_sex.h5\n"
          ]
        },
        {
          "output_type": "stream",
          "name": "stderr",
          "text": [
            "WARNING:absl:You are saving your model as an HDF5 file via `model.save()` or `keras.saving.save_model(model)`. This file format is considered legacy. We recommend using instead the native Keras format, e.g. `model.save('my_model.keras')` or `keras.saving.save_model(model, 'my_model.keras')`. \n"
          ]
        },
        {
          "output_type": "stream",
          "name": "stdout",
          "text": [
            "63/63 - 87s - 1s/step - loss: 17692.0664 - mae: 126.5055 - val_loss: 17417.6562 - val_mae: 125.1739 - learning_rate: 1.0000e-04\n",
            "Epoch 2/10\n",
            "\n",
            "Epoch 2: val_loss improved from 17417.65625 to 16591.96094, saving model to /content/drive/MyDrive/dataset-v2/checkpoints/model_part_2_with_sex.h5\n"
          ]
        },
        {
          "output_type": "stream",
          "name": "stderr",
          "text": [
            "WARNING:absl:You are saving your model as an HDF5 file via `model.save()` or `keras.saving.save_model(model)`. This file format is considered legacy. We recommend using instead the native Keras format, e.g. `model.save('my_model.keras')` or `keras.saving.save_model(model, 'my_model.keras')`. \n"
          ]
        },
        {
          "output_type": "stream",
          "name": "stdout",
          "text": [
            "63/63 - 89s - 1s/step - loss: 16811.9883 - mae: 122.9855 - val_loss: 16591.9609 - val_mae: 121.8379 - learning_rate: 1.0000e-04\n",
            "Epoch 3/10\n",
            "\n",
            "Epoch 3: val_loss improved from 16591.96094 to 15781.28809, saving model to /content/drive/MyDrive/dataset-v2/checkpoints/model_part_2_with_sex.h5\n"
          ]
        },
        {
          "output_type": "stream",
          "name": "stderr",
          "text": [
            "WARNING:absl:You are saving your model as an HDF5 file via `model.save()` or `keras.saving.save_model(model)`. This file format is considered legacy. We recommend using instead the native Keras format, e.g. `model.save('my_model.keras')` or `keras.saving.save_model(model, 'my_model.keras')`. \n"
          ]
        },
        {
          "output_type": "stream",
          "name": "stdout",
          "text": [
            "63/63 - 32s - 513ms/step - loss: 16001.6133 - mae: 119.6522 - val_loss: 15781.2881 - val_mae: 118.4720 - learning_rate: 1.0000e-04\n",
            "Epoch 4/10\n",
            "\n",
            "Epoch 4: val_loss improved from 15781.28809 to 14919.79980, saving model to /content/drive/MyDrive/dataset-v2/checkpoints/model_part_2_with_sex.h5\n"
          ]
        },
        {
          "output_type": "stream",
          "name": "stderr",
          "text": [
            "WARNING:absl:You are saving your model as an HDF5 file via `model.save()` or `keras.saving.save_model(model)`. This file format is considered legacy. We recommend using instead the native Keras format, e.g. `model.save('my_model.keras')` or `keras.saving.save_model(model, 'my_model.keras')`. \n"
          ]
        },
        {
          "output_type": "stream",
          "name": "stdout",
          "text": [
            "63/63 - 32s - 507ms/step - loss: 15172.6562 - mae: 116.1502 - val_loss: 14919.7998 - val_mae: 114.7933 - learning_rate: 1.0000e-04\n",
            "Epoch 5/10\n",
            "\n",
            "Epoch 5: val_loss improved from 14919.79980 to 13987.28418, saving model to /content/drive/MyDrive/dataset-v2/checkpoints/model_part_2_with_sex.h5\n"
          ]
        },
        {
          "output_type": "stream",
          "name": "stderr",
          "text": [
            "WARNING:absl:You are saving your model as an HDF5 file via `model.save()` or `keras.saving.save_model(model)`. This file format is considered legacy. We recommend using instead the native Keras format, e.g. `model.save('my_model.keras')` or `keras.saving.save_model(model, 'my_model.keras')`. \n"
          ]
        },
        {
          "output_type": "stream",
          "name": "stdout",
          "text": [
            "63/63 - 32s - 508ms/step - loss: 14279.5615 - mae: 112.2641 - val_loss: 13987.2842 - val_mae: 110.6864 - learning_rate: 1.0000e-04\n",
            "Epoch 6/10\n",
            "\n",
            "Epoch 6: val_loss improved from 13987.28418 to 12995.25391, saving model to /content/drive/MyDrive/dataset-v2/checkpoints/model_part_2_with_sex.h5\n"
          ]
        },
        {
          "output_type": "stream",
          "name": "stderr",
          "text": [
            "WARNING:absl:You are saving your model as an HDF5 file via `model.save()` or `keras.saving.save_model(model)`. This file format is considered legacy. We recommend using instead the native Keras format, e.g. `model.save('my_model.keras')` or `keras.saving.save_model(model, 'my_model.keras')`. \n"
          ]
        },
        {
          "output_type": "stream",
          "name": "stdout",
          "text": [
            "63/63 - 33s - 524ms/step - loss: 13320.6787 - mae: 107.9508 - val_loss: 12995.2539 - val_mae: 106.1547 - learning_rate: 1.0000e-04\n",
            "Epoch 7/10\n",
            "\n",
            "Epoch 7: val_loss improved from 12995.25391 to 11954.68945, saving model to /content/drive/MyDrive/dataset-v2/checkpoints/model_part_2_with_sex.h5\n"
          ]
        },
        {
          "output_type": "stream",
          "name": "stderr",
          "text": [
            "WARNING:absl:You are saving your model as an HDF5 file via `model.save()` or `keras.saving.save_model(model)`. This file format is considered legacy. We recommend using instead the native Keras format, e.g. `model.save('my_model.keras')` or `keras.saving.save_model(model, 'my_model.keras')`. \n"
          ]
        },
        {
          "output_type": "stream",
          "name": "stdout",
          "text": [
            "63/63 - 40s - 633ms/step - loss: 12307.1250 - mae: 103.2286 - val_loss: 11954.6895 - val_mae: 101.2450 - learning_rate: 1.0000e-04\n",
            "Epoch 8/10\n",
            "\n",
            "Epoch 8: val_loss improved from 11954.68945 to 10893.84668, saving model to /content/drive/MyDrive/dataset-v2/checkpoints/model_part_2_with_sex.h5\n"
          ]
        },
        {
          "output_type": "stream",
          "name": "stderr",
          "text": [
            "WARNING:absl:You are saving your model as an HDF5 file via `model.save()` or `keras.saving.save_model(model)`. This file format is considered legacy. We recommend using instead the native Keras format, e.g. `model.save('my_model.keras')` or `keras.saving.save_model(model, 'my_model.keras')`. \n"
          ]
        },
        {
          "output_type": "stream",
          "name": "stdout",
          "text": [
            "63/63 - 33s - 529ms/step - loss: 11258.9541 - mae: 98.1592 - val_loss: 10893.8467 - val_mae: 96.0430 - learning_rate: 1.0000e-04\n",
            "Epoch 9/10\n",
            "\n",
            "Epoch 9: val_loss improved from 10893.84668 to 9836.92188, saving model to /content/drive/MyDrive/dataset-v2/checkpoints/model_part_2_with_sex.h5\n"
          ]
        },
        {
          "output_type": "stream",
          "name": "stderr",
          "text": [
            "WARNING:absl:You are saving your model as an HDF5 file via `model.save()` or `keras.saving.save_model(model)`. This file format is considered legacy. We recommend using instead the native Keras format, e.g. `model.save('my_model.keras')` or `keras.saving.save_model(model, 'my_model.keras')`. \n"
          ]
        },
        {
          "output_type": "stream",
          "name": "stdout",
          "text": [
            "63/63 - 25s - 393ms/step - loss: 10203.2383 - mae: 92.8287 - val_loss: 9836.9219 - val_mae: 90.6295 - learning_rate: 1.0000e-04\n",
            "Epoch 10/10\n",
            "\n",
            "Epoch 10: val_loss improved from 9836.92188 to 8804.74902, saving model to /content/drive/MyDrive/dataset-v2/checkpoints/model_part_2_with_sex.h5\n"
          ]
        },
        {
          "output_type": "stream",
          "name": "stderr",
          "text": [
            "WARNING:absl:You are saving your model as an HDF5 file via `model.save()` or `keras.saving.save_model(model)`. This file format is considered legacy. We recommend using instead the native Keras format, e.g. `model.save('my_model.keras')` or `keras.saving.save_model(model, 'my_model.keras')`. \n"
          ]
        },
        {
          "output_type": "stream",
          "name": "stdout",
          "text": [
            "63/63 - 32s - 513ms/step - loss: 9162.2588 - mae: 87.3255 - val_loss: 8804.7490 - val_mae: 85.1190 - learning_rate: 1.0000e-04\n",
            "\u001b[1m79/79\u001b[0m \u001b[32m━━━━━━━━━━━━━━━━━━━━\u001b[0m\u001b[37m\u001b[0m \u001b[1m14s\u001b[0m 170ms/step\n",
            "\n",
            "📊 [Segment 2 with sex input] MAE: 85.1190 | MSE: 8804.7490\n"
          ]
        },
        {
          "output_type": "execute_result",
          "data": {
            "text/plain": [
              "3266"
            ]
          },
          "metadata": {},
          "execution_count": 9
        }
      ],
      "source": [
        "import numpy as np\n",
        "import os\n",
        "import gc\n",
        "from sklearn.metrics import mean_absolute_error, mean_squared_error\n",
        "from tensorflow.keras.applications import VGG16\n",
        "from tensorflow.keras.models import Model\n",
        "from tensorflow.keras.layers import Dense, GlobalAveragePooling2D, Input, Concatenate\n",
        "from tensorflow.keras.callbacks import EarlyStopping, ReduceLROnPlateau, ModelCheckpoint\n",
        "from tensorflow.keras.optimizers import Adam\n",
        "import tensorflow as tf\n",
        "\n",
        "# Modified Data Generator\n",
        "class DataGeneratorWithSex:\n",
        "    def __init__(self, x_path, y_age_path, y_sex_path, batch_size, part_idx, total_parts):\n",
        "        self.x_path = x_path\n",
        "        self.y_age_path = y_age_path\n",
        "        self.y_sex_path = y_sex_path\n",
        "        self.batch_size = batch_size\n",
        "        self.part_idx = part_idx\n",
        "        self.total_parts = total_parts\n",
        "        self.x, self.y_age, self.y_sex = self.load_data_slice()\n",
        "\n",
        "    def load_data_slice(self):\n",
        "        x = np.load(self.x_path)\n",
        "        y_age = np.load(self.y_age_path)\n",
        "        y_sex = np.load(self.y_sex_path)\n",
        "\n",
        "        total_len = len(x)\n",
        "        part_size = total_len // self.total_parts\n",
        "        start = self.part_idx * part_size\n",
        "        end = (self.part_idx + 1) * part_size if self.part_idx < self.total_parts - 1 else total_len\n",
        "\n",
        "        return x[start:end], y_age[start:end], y_sex[start:end]\n",
        "\n",
        "    def create_tf_dataset(self):\n",
        "        # Prepare data\n",
        "        x = self.x / 255.0\n",
        "        x = np.repeat(x, 3, axis=-1).astype(np.float32)  # Convert to RGB\n",
        "\n",
        "        y_sex = self.y_sex.astype(np.float32)\n",
        "        y_sex = np.expand_dims(y_sex, axis=-1)\n",
        "\n",
        "        y_age = self.y_age.astype(np.float32)\n",
        "\n",
        "        # Create dataset directly from numpy arrays\n",
        "        dataset = tf.data.Dataset.from_tensor_slices(\n",
        "            (\n",
        "                {\n",
        "                    \"image_input\": x,\n",
        "                    \"sex_input\": y_sex\n",
        "                },\n",
        "                y_age\n",
        "            )\n",
        "        )\n",
        "\n",
        "        # Batch the dataset\n",
        "        dataset = dataset.batch(self.batch_size)\n",
        "\n",
        "        # Prefetch for better performance\n",
        "        dataset = dataset.prefetch(tf.data.AUTOTUNE)\n",
        "\n",
        "        return dataset\n",
        "\n",
        "# Model with Sex Input (unchanged)\n",
        "def build_model_with_sex_input():\n",
        "    # Image input\n",
        "    image_input = Input(shape=(224, 224, 3), name=\"image_input\")\n",
        "    base = VGG16(weights='imagenet', include_top=False, input_tensor=image_input)\n",
        "    for layer in base.layers:\n",
        "        layer.trainable = False  # Freeze base layers for transfer learning\n",
        "\n",
        "    x = base.output\n",
        "    x = GlobalAveragePooling2D()(x)\n",
        "\n",
        "    # Sex input\n",
        "    sex_input = Input(shape=(1,), name=\"sex_input\")\n",
        "\n",
        "    # Combine both inputs\n",
        "    combined = Concatenate()([x, sex_input])\n",
        "    combined = Dense(128, activation='relu')(combined)\n",
        "    output = Dense(1)(combined)  # Predict age\n",
        "\n",
        "    model = Model(inputs=[image_input, sex_input], outputs=output)\n",
        "    model.compile(optimizer=Adam(learning_rate=1e-4), loss='mse', metrics=['mae'])\n",
        "    return model\n",
        "\n",
        "# Training setup\n",
        "BATCH_SIZE = 32\n",
        "EPOCHS = 10\n",
        "PARTS = 5  # 5 segments (20% each)\n",
        "\n",
        "# Checkpoints directory\n",
        "checkpoint_dir = '/content/drive/MyDrive/dataset-v2/checkpoints'\n",
        "os.makedirs(checkpoint_dir, exist_ok=True)\n",
        "\n",
        "# Create the model\n",
        "model = build_model_with_sex_input()\n",
        "\n",
        "# Create data generator for training\n",
        "train_generator = DataGeneratorWithSex(\n",
        "    x_path='/content/drive/MyDrive/dataset-v2/npy_files/X_train.npy',\n",
        "    y_age_path='/content/drive/MyDrive/dataset-v2/npy_files/y_train_age.npy',\n",
        "    y_sex_path='/content/drive/MyDrive/dataset-v2/npy_files/sex_train.npy',\n",
        "    batch_size=BATCH_SIZE,\n",
        "    part_idx=1,  # Second segment\n",
        "    total_parts=PARTS\n",
        ")\n",
        "\n",
        "# Create TF dataset\n",
        "train_dataset = train_generator.create_tf_dataset()\n",
        "\n",
        "# Prepare validation data\n",
        "x_val = np.load('/content/drive/MyDrive/dataset-v2/npy_files/X_val.npy') / 255.0\n",
        "y_val_age = np.load('/content/drive/MyDrive/dataset-v2/npy_files/y_val_age.npy')\n",
        "y_val_sex = np.load('/content/drive/MyDrive/dataset-v2/npy_files/sex_val.npy')\n",
        "x_val_rgb = np.repeat(x_val, 3, axis=-1).astype(np.float32)\n",
        "y_val_sex = np.expand_dims(y_val_sex, axis=-1).astype(np.float32)\n",
        "\n",
        "# Training Callbacks\n",
        "callbacks = [\n",
        "    EarlyStopping(patience=3, restore_best_weights=True),\n",
        "    ReduceLROnPlateau(patience=2, factor=0.5, verbose=1),\n",
        "    ModelCheckpoint(filepath=f\"{checkpoint_dir}/model_part_2_with_sex.h5\", save_best_only=True, monitor='val_loss', verbose=1)\n",
        "]\n",
        "\n",
        "print(\"\\n🚀 Training on segment 2/5 with sex as input\")\n",
        "model.fit(\n",
        "    train_dataset,\n",
        "    epochs=EPOCHS,\n",
        "    validation_data=(\n",
        "        {\n",
        "            \"image_input\": x_val_rgb,\n",
        "            \"sex_input\": y_val_sex\n",
        "        },\n",
        "        y_val_age\n",
        "    ),\n",
        "    callbacks=callbacks,\n",
        "    verbose=2\n",
        ")\n",
        "\n",
        "# Evaluate on validation data\n",
        "predictions = model.predict({\n",
        "    \"image_input\": x_val_rgb,\n",
        "    \"sex_input\": y_val_sex\n",
        "})\n",
        "mae = mean_absolute_error(y_val_age, predictions)\n",
        "mse = mean_squared_error(y_val_age, predictions)\n",
        "print(f\"\\n📊 [Segment 2 with sex input] MAE: {mae:.4f} | MSE: {mse:.4f}\")\n",
        "\n",
        "# Clean up memory after training\n",
        "gc.collect()"
      ]
    },
    {
      "cell_type": "code",
      "source": [
        "import json\n",
        "import numpy as np\n",
        "import pandas as pd\n",
        "import matplotlib.pyplot as plt\n",
        "\n",
        "# During training, capture the history object\n",
        "history = model.fit(\n",
        "    train_dataset,\n",
        "    epochs=EPOCHS,\n",
        "    validation_data=(\n",
        "        {\n",
        "            \"image_input\": x_val_rgb,\n",
        "            \"sex_input\": y_val_sex\n",
        "        },\n",
        "        y_val_age\n",
        "    ),\n",
        "    callbacks=callbacks,\n",
        "    verbose=2\n",
        ")\n",
        "\n",
        "# After training, save the history to a file\n",
        "history_dict = history.history\n",
        "\n",
        "# Option 1: Save as JSON\n",
        "history_file = f\"{checkpoint_dir}/history_part_2_with_sex.json\"\n",
        "# Convert numpy values to Python native types for JSON serialization\n",
        "for key in history_dict:\n",
        "    history_dict[key] = [float(i) for i in history_dict[key]]\n",
        "\n",
        "with open(history_file, 'w') as f:\n",
        "    json.dump(history_dict, f)\n",
        "print(f\"Training history saved to {history_file}\")\n",
        "\n",
        "# Option 2: Save as CSV (easier to analyze in spreadsheet software)\n",
        "history_df = pd.DataFrame(history_dict)\n",
        "csv_file = f\"{checkpoint_dir}/history_part_2_with_sex.csv\"\n",
        "history_df.to_csv(csv_file, index_label='epoch')\n",
        "print(f\"Training history saved to {csv_file}\")\n",
        "\n",
        "# Option 3: Create and save training plots\n",
        "plt.figure(figsize=(12, 4))\n",
        "\n",
        "# Plot training & validation loss values\n",
        "plt.subplot(1, 2, 1)\n",
        "plt.plot(history_dict['loss'])\n",
        "plt.plot(history_dict['val_loss'])\n",
        "plt.title('Model loss')\n",
        "plt.ylabel('Loss')\n",
        "plt.xlabel('Epoch')\n",
        "plt.legend(['Train', 'Validation'], loc='upper right')\n",
        "\n",
        "# Plot training & validation mae values\n",
        "plt.subplot(1, 2, 2)\n",
        "plt.plot(history_dict['mae'])\n",
        "plt.plot(history_dict['val_mae'])\n",
        "plt.title('Model MAE')\n",
        "plt.ylabel('MAE')\n",
        "plt.xlabel('Epoch')\n",
        "plt.legend(['Train', 'Validation'], loc='upper right')\n",
        "\n",
        "plt.tight_layout()\n",
        "plot_file = f\"{checkpoint_dir}/training_plot_part_2_with_sex.png\"\n",
        "plt.savefig(plot_file)\n",
        "print(f\"Training plot saved to {plot_file}\")"
      ],
      "metadata": {
        "colab": {
          "base_uri": "https://localhost:8080/",
          "height": 1000
        },
        "id": "R2ZiH0UBvY-k",
        "outputId": "b08204b7-f254-4486-9f25-1362e7e864f7"
      },
      "execution_count": 10,
      "outputs": [
        {
          "output_type": "stream",
          "name": "stdout",
          "text": [
            "Epoch 1/10\n",
            "\n",
            "Epoch 1: val_loss improved from 8804.74902 to 7815.83447, saving model to /content/drive/MyDrive/dataset-v2/checkpoints/model_part_2_with_sex.h5\n"
          ]
        },
        {
          "output_type": "stream",
          "name": "stderr",
          "text": [
            "WARNING:absl:You are saving your model as an HDF5 file via `model.save()` or `keras.saving.save_model(model)`. This file format is considered legacy. We recommend using instead the native Keras format, e.g. `model.save('my_model.keras')` or `keras.saving.save_model(model, 'my_model.keras')`. \n"
          ]
        },
        {
          "output_type": "stream",
          "name": "stdout",
          "text": [
            "63/63 - 37s - 592ms/step - loss: 8155.6743 - mae: 81.7247 - val_loss: 7815.8345 - val_mae: 79.5898 - learning_rate: 1.0000e-04\n",
            "Epoch 2/10\n",
            "\n",
            "Epoch 2: val_loss improved from 7815.83447 to 6886.12500, saving model to /content/drive/MyDrive/dataset-v2/checkpoints/model_part_2_with_sex.h5\n"
          ]
        },
        {
          "output_type": "stream",
          "name": "stderr",
          "text": [
            "WARNING:absl:You are saving your model as an HDF5 file via `model.save()` or `keras.saving.save_model(model)`. This file format is considered legacy. We recommend using instead the native Keras format, e.g. `model.save('my_model.keras')` or `keras.saving.save_model(model, 'my_model.keras')`. \n"
          ]
        },
        {
          "output_type": "stream",
          "name": "stdout",
          "text": [
            "63/63 - 36s - 569ms/step - loss: 7200.7212 - mae: 76.1497 - val_loss: 6886.1250 - val_mae: 74.1041 - learning_rate: 1.0000e-04\n",
            "Epoch 3/10\n",
            "\n",
            "Epoch 3: val_loss improved from 6886.12500 to 6028.63428, saving model to /content/drive/MyDrive/dataset-v2/checkpoints/model_part_2_with_sex.h5\n"
          ]
        },
        {
          "output_type": "stream",
          "name": "stderr",
          "text": [
            "WARNING:absl:You are saving your model as an HDF5 file via `model.save()` or `keras.saving.save_model(model)`. This file format is considered legacy. We recommend using instead the native Keras format, e.g. `model.save('my_model.keras')` or `keras.saving.save_model(model, 'my_model.keras')`. \n"
          ]
        },
        {
          "output_type": "stream",
          "name": "stdout",
          "text": [
            "63/63 - 42s - 663ms/step - loss: 6311.8774 - mae: 70.6520 - val_loss: 6028.6343 - val_mae: 68.7831 - learning_rate: 1.0000e-04\n",
            "Epoch 4/10\n",
            "\n",
            "Epoch 4: val_loss improved from 6028.63428 to 5253.10303, saving model to /content/drive/MyDrive/dataset-v2/checkpoints/model_part_2_with_sex.h5\n"
          ]
        },
        {
          "output_type": "stream",
          "name": "stderr",
          "text": [
            "WARNING:absl:You are saving your model as an HDF5 file via `model.save()` or `keras.saving.save_model(model)`. This file format is considered legacy. We recommend using instead the native Keras format, e.g. `model.save('my_model.keras')` or `keras.saving.save_model(model, 'my_model.keras')`. \n"
          ]
        },
        {
          "output_type": "stream",
          "name": "stdout",
          "text": [
            "63/63 - 40s - 636ms/step - loss: 5500.5073 - mae: 65.4030 - val_loss: 5253.1030 - val_mae: 63.7193 - learning_rate: 1.0000e-04\n",
            "Epoch 5/10\n",
            "\n",
            "Epoch 5: val_loss improved from 5253.10303 to 4565.77979, saving model to /content/drive/MyDrive/dataset-v2/checkpoints/model_part_2_with_sex.h5\n"
          ]
        },
        {
          "output_type": "stream",
          "name": "stderr",
          "text": [
            "WARNING:absl:You are saving your model as an HDF5 file via `model.save()` or `keras.saving.save_model(model)`. This file format is considered legacy. We recommend using instead the native Keras format, e.g. `model.save('my_model.keras')` or `keras.saving.save_model(model, 'my_model.keras')`. \n"
          ]
        },
        {
          "output_type": "stream",
          "name": "stdout",
          "text": [
            "63/63 - 41s - 646ms/step - loss: 4774.5723 - mae: 60.4941 - val_loss: 4565.7798 - val_mae: 59.0185 - learning_rate: 1.0000e-04\n",
            "Epoch 6/10\n",
            "\n",
            "Epoch 6: val_loss improved from 4565.77979 to 3969.36328, saving model to /content/drive/MyDrive/dataset-v2/checkpoints/model_part_2_with_sex.h5\n"
          ]
        },
        {
          "output_type": "stream",
          "name": "stderr",
          "text": [
            "WARNING:absl:You are saving your model as an HDF5 file via `model.save()` or `keras.saving.save_model(model)`. This file format is considered legacy. We recommend using instead the native Keras format, e.g. `model.save('my_model.keras')` or `keras.saving.save_model(model, 'my_model.keras')`. \n"
          ]
        },
        {
          "output_type": "stream",
          "name": "stdout",
          "text": [
            "63/63 - 41s - 654ms/step - loss: 4138.4888 - mae: 55.9606 - val_loss: 3969.3633 - val_mae: 54.6979 - learning_rate: 1.0000e-04\n",
            "Epoch 7/10\n",
            "\n",
            "Epoch 7: val_loss improved from 3969.36328 to 3463.14014, saving model to /content/drive/MyDrive/dataset-v2/checkpoints/model_part_2_with_sex.h5\n"
          ]
        },
        {
          "output_type": "stream",
          "name": "stderr",
          "text": [
            "WARNING:absl:You are saving your model as an HDF5 file via `model.save()` or `keras.saving.save_model(model)`. This file format is considered legacy. We recommend using instead the native Keras format, e.g. `model.save('my_model.keras')` or `keras.saving.save_model(model, 'my_model.keras')`. \n"
          ]
        },
        {
          "output_type": "stream",
          "name": "stdout",
          "text": [
            "63/63 - 42s - 663ms/step - loss: 3593.1733 - mae: 51.8676 - val_loss: 3463.1401 - val_mae: 50.8097 - learning_rate: 1.0000e-04\n",
            "Epoch 8/10\n",
            "\n",
            "Epoch 8: val_loss improved from 3463.14014 to 3043.29126, saving model to /content/drive/MyDrive/dataset-v2/checkpoints/model_part_2_with_sex.h5\n"
          ]
        },
        {
          "output_type": "stream",
          "name": "stderr",
          "text": [
            "WARNING:absl:You are saving your model as an HDF5 file via `model.save()` or `keras.saving.save_model(model)`. This file format is considered legacy. We recommend using instead the native Keras format, e.g. `model.save('my_model.keras')` or `keras.saving.save_model(model, 'my_model.keras')`. \n"
          ]
        },
        {
          "output_type": "stream",
          "name": "stdout",
          "text": [
            "63/63 - 33s - 527ms/step - loss: 3136.2600 - mae: 48.2946 - val_loss: 3043.2913 - val_mae: 47.4405 - learning_rate: 1.0000e-04\n",
            "Epoch 9/10\n",
            "\n",
            "Epoch 9: val_loss improved from 3043.29126 to 2703.38843, saving model to /content/drive/MyDrive/dataset-v2/checkpoints/model_part_2_with_sex.h5\n"
          ]
        },
        {
          "output_type": "stream",
          "name": "stderr",
          "text": [
            "WARNING:absl:You are saving your model as an HDF5 file via `model.save()` or `keras.saving.save_model(model)`. This file format is considered legacy. We recommend using instead the native Keras format, e.g. `model.save('my_model.keras')` or `keras.saving.save_model(model, 'my_model.keras')`. \n"
          ]
        },
        {
          "output_type": "stream",
          "name": "stdout",
          "text": [
            "63/63 - 32s - 507ms/step - loss: 2762.5088 - mae: 45.2150 - val_loss: 2703.3884 - val_mae: 44.5545 - learning_rate: 1.0000e-04\n",
            "Epoch 10/10\n",
            "\n",
            "Epoch 10: val_loss improved from 2703.38843 to 2435.03174, saving model to /content/drive/MyDrive/dataset-v2/checkpoints/model_part_2_with_sex.h5\n"
          ]
        },
        {
          "output_type": "stream",
          "name": "stderr",
          "text": [
            "WARNING:absl:You are saving your model as an HDF5 file via `model.save()` or `keras.saving.save_model(model)`. This file format is considered legacy. We recommend using instead the native Keras format, e.g. `model.save('my_model.keras')` or `keras.saving.save_model(model, 'my_model.keras')`. \n"
          ]
        },
        {
          "output_type": "stream",
          "name": "stdout",
          "text": [
            "63/63 - 25s - 398ms/step - loss: 2464.3794 - mae: 42.6654 - val_loss: 2435.0317 - val_mae: 42.1689 - learning_rate: 1.0000e-04\n",
            "Training history saved to /content/drive/MyDrive/dataset-v2/checkpoints/history_part_2_with_sex.json\n",
            "Training history saved to /content/drive/MyDrive/dataset-v2/checkpoints/history_part_2_with_sex.csv\n",
            "Training plot saved to /content/drive/MyDrive/dataset-v2/checkpoints/training_plot_part_2_with_sex.png\n"
          ]
        },
        {
          "output_type": "display_data",
          "data": {
            "text/plain": [
              "<Figure size 1200x400 with 2 Axes>"
            ],
            "image/png": "[encoded data removed]"
          },
          "metadata": {}
        }
      ]
    },
    {
      "cell_type": "code",
      "source": [
        "import numpy as np\n",
        "import os\n",
        "import gc\n",
        "import json\n",
        "import pandas as pd\n",
        "import matplotlib.pyplot as plt\n",
        "from sklearn.metrics import mean_absolute_error, mean_squared_error\n",
        "from tensorflow.keras.applications import VGG16\n",
        "from tensorflow.keras.models import Model, load_model\n",
        "from tensorflow.keras.layers import Dense, GlobalAveragePooling2D, Input, Concatenate\n",
        "from tensorflow.keras.callbacks import EarlyStopping, ReduceLROnPlateau, ModelCheckpoint\n",
        "from tensorflow.keras.optimizers import Adam\n",
        "import tensorflow as tf\n",
        "\n",
        "# Générateur de données avec sexe\n",
        "class DataGeneratorWithSex:\n",
        "    def __init__(self, x_path, y_age_path, y_sex_path, batch_size, part_idx, total_parts):\n",
        "        self.x_path = x_path\n",
        "        self.y_age_path = y_age_path\n",
        "        self.y_sex_path = y_sex_path\n",
        "        self.batch_size = batch_size\n",
        "        self.part_idx = part_idx\n",
        "        self.total_parts = total_parts\n",
        "        self.x, self.y_age, self.y_sex = self.load_data_slice()\n",
        "\n",
        "    def load_data_slice(self):\n",
        "        x = np.load(self.x_path)\n",
        "        y_age = np.load(self.y_age_path)\n",
        "        y_sex = np.load(self.y_sex_path)\n",
        "\n",
        "        total_len = len(x)\n",
        "        part_size = total_len // self.total_parts\n",
        "        start = self.part_idx * part_size\n",
        "        end = (self.part_idx + 1) * part_size if self.part_idx < self.total_parts - 1 else total_len\n",
        "\n",
        "        return x[start:end], y_age[start:end], y_sex[start:end]\n",
        "\n",
        "    def create_tf_dataset(self):\n",
        "        # Préparer les données\n",
        "        x = self.x / 255.0\n",
        "        x = np.repeat(x, 3, axis=-1).astype(np.float32)  # Convertir en RGB\n",
        "\n",
        "        y_sex = self.y_sex.astype(np.float32)\n",
        "        y_sex = np.expand_dims(y_sex, axis=-1)\n",
        "\n",
        "        y_age = self.y_age.astype(np.float32)\n",
        "\n",
        "        # Créer le dataset directement à partir des tableaux numpy\n",
        "        dataset = tf.data.Dataset.from_tensor_slices(\n",
        "            (\n",
        "                {\n",
        "                    \"image_input\": x,\n",
        "                    \"sex_input\": y_sex\n",
        "                },\n",
        "                y_age\n",
        "            )\n",
        "        )\n",
        "\n",
        "        # Batching du dataset\n",
        "        dataset = dataset.batch(self.batch_size)\n",
        "\n",
        "        # Prefetch pour de meilleures performances\n",
        "        dataset = dataset.prefetch(tf.data.AUTOTUNE)\n",
        "\n",
        "        return dataset\n",
        "\n",
        "# Fonction pour construire le modèle avec entrée de sexe\n",
        "def build_model_with_sex_input():\n",
        "    # Entrée d'image\n",
        "    image_input = Input(shape=(224, 224, 3), name=\"image_input\")\n",
        "    base = VGG16(weights='imagenet', include_top=False, input_tensor=image_input)\n",
        "    for layer in base.layers:\n",
        "        layer.trainable = False  # Geler les couches de base pour le transfer learning\n",
        "\n",
        "    x = base.output\n",
        "    x = GlobalAveragePooling2D()(x)\n",
        "\n",
        "    # Entrée de sexe\n",
        "    sex_input = Input(shape=(1,), name=\"sex_input\")\n",
        "\n",
        "    # Combiner les deux entrées\n",
        "    combined = Concatenate()([x, sex_input])\n",
        "    combined = Dense(128, activation='relu')(combined)\n",
        "    output = Dense(1)(combined)  # Prédire l'âge\n",
        "\n",
        "    model = Model(inputs=[image_input, sex_input], outputs=output)\n",
        "    model.compile(optimizer=Adam(learning_rate=1e-4), loss='mse', metrics=['mae'])\n",
        "    return model\n",
        "\n",
        "# Paramètres d'entraînement\n",
        "BATCH_SIZE = 32\n",
        "EPOCHS = 10\n",
        "PARTS = 5\n",
        "SEGMENT = 3  # 3ème segment\n",
        "\n",
        "# Répertoire des checkpoints\n",
        "checkpoint_dir = '/content/drive/MyDrive/dataset-v2/checkpoints'\n",
        "os.makedirs(checkpoint_dir, exist_ok=True)\n",
        "\n",
        "# Deux options:\n",
        "# 1. Charger le modèle précédent (segment 2)\n",
        "try:\n",
        "    print(f\"Tentative de chargement du modèle du segment 2...\")\n",
        "    # Essayer d'abord le format .h5\n",
        "    model_path = f\"{checkpoint_dir}/model_part_2_with_sex.h5\"\n",
        "    if os.path.exists(model_path):\n",
        "        model = load_model(model_path)\n",
        "        print(f\"Modèle chargé depuis {model_path}\")\n",
        "    else:\n",
        "        # Essayer le format .keras\n",
        "        model_path = f\"{checkpoint_dir}/model_part_2_with_sex.keras\"\n",
        "        if os.path.exists(model_path):\n",
        "            model = load_model(model_path)\n",
        "            print(f\"Modèle chargé depuis {model_path}\")\n",
        "        else:\n",
        "            raise FileNotFoundError(\"Aucun modèle trouvé pour le segment 2\")\n",
        "except Exception as e:\n",
        "    print(f\"Erreur lors du chargement du modèle: {e}\")\n",
        "    print(\"Création d'un nouveau modèle...\")\n",
        "    # 2. Ou créer un nouveau modèle\n",
        "    model = build_model_with_sex_input()\n",
        "\n",
        "# Créer le générateur de données pour l'entraînement\n",
        "train_generator = DataGeneratorWithSex(\n",
        "    x_path='/content/drive/MyDrive/dataset-v2/npy_files/X_train.npy',\n",
        "    y_age_path='/content/drive/MyDrive/dataset-v2/npy_files/y_train_age.npy',\n",
        "    y_sex_path='/content/drive/MyDrive/dataset-v2/npy_files/sex_train.npy',\n",
        "    batch_size=BATCH_SIZE,\n",
        "    part_idx=SEGMENT-1,  # Convertir en index 0-based (segment 3 = index 2)\n",
        "    total_parts=PARTS\n",
        ")\n",
        "\n",
        "# Créer le dataset TF\n",
        "train_dataset = train_generator.create_tf_dataset()\n",
        "\n",
        "# Préparer les données de validation\n",
        "x_val = np.load('/content/drive/MyDrive/dataset-v2/npy_files/X_val.npy') / 255.0\n",
        "y_val_age = np.load('/content/drive/MyDrive/dataset-v2/npy_files/y_val_age.npy')\n",
        "y_val_sex = np.load('/content/drive/MyDrive/dataset-v2/npy_files/sex_val.npy')\n",
        "x_val_rgb = np.repeat(x_val, 3, axis=-1).astype(np.float32)\n",
        "y_val_sex = np.expand_dims(y_val_sex, axis=-1).astype(np.float32)\n",
        "\n",
        "# Callbacks d'entraînement\n",
        "model_path = f\"{checkpoint_dir}/model_part_{SEGMENT}_with_sex.h5\"\n",
        "callbacks = [\n",
        "    EarlyStopping(patience=3, restore_best_weights=True),\n",
        "    ReduceLROnPlateau(patience=2, factor=0.5, verbose=1),\n",
        "    ModelCheckpoint(filepath=model_path, save_best_only=True, monitor='val_loss', verbose=1)\n",
        "]\n",
        "\n",
        "print(f\"\\n🚀 Entraînement sur le segment {SEGMENT}/{PARTS} avec le sexe comme entrée\")\n",
        "history = model.fit(\n",
        "    train_dataset,\n",
        "    epochs=EPOCHS,\n",
        "    validation_data=(\n",
        "        {\n",
        "            \"image_input\": x_val_rgb,\n",
        "            \"sex_input\": y_val_sex\n",
        "        },\n",
        "        y_val_age\n",
        "    ),\n",
        "    callbacks=callbacks,\n",
        "    verbose=2\n",
        ")\n",
        "\n",
        "# Sauvegarder l'historique d'entraînement\n",
        "history_dict = history.history\n",
        "\n",
        "# Convertir les valeurs numpy en types Python natifs pour la sérialisation JSON\n",
        "for key in history_dict:\n",
        "    history_dict[key] = [float(i) for i in history_dict[key]]\n",
        "\n",
        "# Sauvegarder en JSON\n",
        "history_file = f\"{checkpoint_dir}/history_part_{SEGMENT}_with_sex.json\"\n",
        "with open(history_file, 'w') as f:\n",
        "    json.dump(history_dict, f)\n",
        "print(f\"Historique d'entraînement sauvegardé dans {history_file}\")\n",
        "\n",
        "# Sauvegarder en CSV\n",
        "history_df = pd.DataFrame(history_dict)\n",
        "csv_file = f\"{checkpoint_dir}/history_part_{SEGMENT}_with_sex.csv\"\n",
        "history_df.to_csv(csv_file, index_label='epoch')\n",
        "print(f\"Historique d'entraînement sauvegardé dans {csv_file}\")\n",
        "\n",
        "# Créer et sauvegarder les graphiques d'entraînement\n",
        "plt.figure(figsize=(12, 4))\n",
        "\n",
        "# Graphique des valeurs de perte d'entraînement et de validation\n",
        "plt.subplot(1, 2, 1)\n",
        "plt.plot(history_dict['loss'])\n",
        "plt.plot(history_dict['val_loss'])\n",
        "plt.title('Perte du modèle')\n",
        "plt.ylabel('Perte')\n",
        "plt.xlabel('Époque')\n",
        "plt.legend(['Entraînement', 'Validation'], loc='upper right')\n",
        "\n",
        "# Graphique des valeurs MAE d'entraînement et de validation\n",
        "plt.subplot(1, 2, 2)\n",
        "plt.plot(history_dict['mae'])\n",
        "plt.plot(history_dict['val_mae'])\n",
        "plt.title('MAE du modèle')\n",
        "plt.ylabel('MAE')\n",
        "plt.xlabel('Époque')\n",
        "plt.legend(['Entraînement', 'Validation'], loc='upper right')\n",
        "\n",
        "plt.tight_layout()\n",
        "plot_file = f\"{checkpoint_dir}/training_plot_part_{SEGMENT}_with_sex.png\"\n",
        "plt.savefig(plot_file)\n",
        "print(f\"Graphique d'entraînement sauvegardé dans {plot_file}\")\n",
        "\n",
        "# Évaluer sur les données de validation\n",
        "predictions = model.predict({\n",
        "    \"image_input\": x_val_rgb,\n",
        "    \"sex_input\": y_val_sex\n",
        "})\n",
        "mae = mean_absolute_error(y_val_age, predictions)\n",
        "mse = mean_squared_error(y_val_age, predictions)\n",
        "print(f\"\\n📊 [Segment {SEGMENT} avec entrée de sexe] MAE: {mae:.4f} | MSE: {mse:.4f}\")\n",
        "\n",
        "# Sauvegarder les métriques dans un fichier\n",
        "metrics_file = f\"{checkpoint_dir}/metrics_part_{SEGMENT}_with_sex.txt\"\n",
        "with open(metrics_file, 'w') as f:\n",
        "    f.write(f\"MAE: {mae:.4f}\\n\")\n",
        "    f.write(f\"MSE: {mse:.4f}\\n\")\n",
        "print(f\"Métriques sauvegardées dans {metrics_file}\")\n",
        "\n",
        "# Libérer la mémoire après l'entraînement\n",
        "gc.collect()"
      ],
      "metadata": {
        "colab": {
          "base_uri": "https://localhost:8080/",
          "height": 1000
        },
        "id": "u7o7kaG-xiHO",
        "outputId": "b487f2d8-ab6e-4b73-a9aa-08f543947974"
      },
      "execution_count": 14,
      "outputs": [
        {
          "output_type": "stream",
          "name": "stdout",
          "text": [
            "Tentative de chargement du modèle du segment 2...\n",
            "Erreur lors du chargement du modèle: Could not locate function 'mse'. Make sure custom classes are decorated with `@keras.saving.register_keras_serializable()`. Full object config: {'module': 'keras.metrics', 'class_name': 'function', 'config': 'mse', 'registered_name': 'mse'}\n",
            "Création d'un nouveau modèle...\n",
            "\n",
            "🚀 Entraînement sur le segment 3/5 avec le sexe comme entrée\n",
            "Epoch 1/10\n",
            "\n",
            "Epoch 1: val_loss improved from inf to 17076.31055, saving model to /content/drive/MyDrive/dataset-v2/checkpoints/model_part_3_with_sex.h5\n"
          ]
        },
        {
          "output_type": "stream",
          "name": "stderr",
          "text": [
            "WARNING:absl:You are saving your model as an HDF5 file via `model.save()` or `keras.saving.save_model(model)`. This file format is considered legacy. We recommend using instead the native Keras format, e.g. `model.save('my_model.keras')` or `keras.saving.save_model(model, 'my_model.keras')`. \n"
          ]
        },
        {
          "output_type": "stream",
          "name": "stdout",
          "text": [
            "63/63 - 38s - 606ms/step - loss: 17291.8594 - mae: 125.0430 - val_loss: 17076.3105 - val_mae: 123.8029 - learning_rate: 1.0000e-04\n",
            "Epoch 2/10\n",
            "\n",
            "Epoch 2: val_loss improved from 17076.31055 to 16162.33691, saving model to /content/drive/MyDrive/dataset-v2/checkpoints/model_part_3_with_sex.h5\n"
          ]
        },
        {
          "output_type": "stream",
          "name": "stderr",
          "text": [
            "WARNING:absl:You are saving your model as an HDF5 file via `model.save()` or `keras.saving.save_model(model)`. This file format is considered legacy. We recommend using instead the native Keras format, e.g. `model.save('my_model.keras')` or `keras.saving.save_model(model, 'my_model.keras')`. \n"
          ]
        },
        {
          "output_type": "stream",
          "name": "stdout",
          "text": [
            "63/63 - 32s - 513ms/step - loss: 16365.5264 - mae: 121.2897 - val_loss: 16162.3369 - val_mae: 120.0642 - learning_rate: 1.0000e-04\n",
            "Epoch 3/10\n",
            "\n",
            "Epoch 3: val_loss improved from 16162.33691 to 15257.61719, saving model to /content/drive/MyDrive/dataset-v2/checkpoints/model_part_3_with_sex.h5\n"
          ]
        },
        {
          "output_type": "stream",
          "name": "stderr",
          "text": [
            "WARNING:absl:You are saving your model as an HDF5 file via `model.save()` or `keras.saving.save_model(model)`. This file format is considered legacy. We recommend using instead the native Keras format, e.g. `model.save('my_model.keras')` or `keras.saving.save_model(model, 'my_model.keras')`. \n"
          ]
        },
        {
          "output_type": "stream",
          "name": "stdout",
          "text": [
            "63/63 - 32s - 507ms/step - loss: 15473.1963 - mae: 117.5608 - val_loss: 15257.6172 - val_mae: 116.2473 - learning_rate: 1.0000e-04\n",
            "Epoch 4/10\n",
            "\n",
            "Epoch 4: val_loss improved from 15257.61719 to 14298.01660, saving model to /content/drive/MyDrive/dataset-v2/checkpoints/model_part_3_with_sex.h5\n"
          ]
        },
        {
          "output_type": "stream",
          "name": "stderr",
          "text": [
            "WARNING:absl:You are saving your model as an HDF5 file via `model.save()` or `keras.saving.save_model(model)`. This file format is considered legacy. We recommend using instead the native Keras format, e.g. `model.save('my_model.keras')` or `keras.saving.save_model(model, 'my_model.keras')`. \n"
          ]
        },
        {
          "output_type": "stream",
          "name": "stdout",
          "text": [
            "63/63 - 33s - 525ms/step - loss: 14550.5664 - mae: 113.5819 - val_loss: 14298.0166 - val_mae: 112.0686 - learning_rate: 1.0000e-04\n",
            "Epoch 5/10\n",
            "\n",
            "Epoch 5: val_loss improved from 14298.01660 to 13284.73926, saving model to /content/drive/MyDrive/dataset-v2/checkpoints/model_part_3_with_sex.h5\n"
          ]
        },
        {
          "output_type": "stream",
          "name": "stderr",
          "text": [
            "WARNING:absl:You are saving your model as an HDF5 file via `model.save()` or `keras.saving.save_model(model)`. This file format is considered legacy. We recommend using instead the native Keras format, e.g. `model.save('my_model.keras')` or `keras.saving.save_model(model, 'my_model.keras')`. \n"
          ]
        },
        {
          "output_type": "stream",
          "name": "stdout",
          "text": [
            "63/63 - 32s - 509ms/step - loss: 13571.8076 - mae: 109.2094 - val_loss: 13284.7393 - val_mae: 107.4933 - learning_rate: 1.0000e-04\n",
            "Epoch 6/10\n",
            "\n",
            "Epoch 6: val_loss improved from 13284.73926 to 12234.22656, saving model to /content/drive/MyDrive/dataset-v2/checkpoints/model_part_3_with_sex.h5\n"
          ]
        },
        {
          "output_type": "stream",
          "name": "stderr",
          "text": [
            "WARNING:absl:You are saving your model as an HDF5 file via `model.save()` or `keras.saving.save_model(model)`. This file format is considered legacy. We recommend using instead the native Keras format, e.g. `model.save('my_model.keras')` or `keras.saving.save_model(model, 'my_model.keras')`. \n"
          ]
        },
        {
          "output_type": "stream",
          "name": "stdout",
          "text": [
            "63/63 - 41s - 649ms/step - loss: 12547.6895 - mae: 104.4579 - val_loss: 12234.2266 - val_mae: 102.5777 - learning_rate: 1.0000e-04\n",
            "Epoch 7/10\n",
            "\n",
            "Epoch 7: val_loss improved from 12234.22656 to 11165.61133, saving model to /content/drive/MyDrive/dataset-v2/checkpoints/model_part_3_with_sex.h5\n"
          ]
        },
        {
          "output_type": "stream",
          "name": "stderr",
          "text": [
            "WARNING:absl:You are saving your model as an HDF5 file via `model.save()` or `keras.saving.save_model(model)`. This file format is considered legacy. We recommend using instead the native Keras format, e.g. `model.save('my_model.keras')` or `keras.saving.save_model(model, 'my_model.keras')`. \n"
          ]
        },
        {
          "output_type": "stream",
          "name": "stdout",
          "text": [
            "63/63 - 32s - 513ms/step - loss: 11496.1387 - mae: 99.3777 - val_loss: 11165.6113 - val_mae: 97.3986 - learning_rate: 1.0000e-04\n",
            "Epoch 8/10\n",
            "\n",
            "Epoch 8: val_loss improved from 11165.61133 to 10098.78906, saving model to /content/drive/MyDrive/dataset-v2/checkpoints/model_part_3_with_sex.h5\n"
          ]
        },
        {
          "output_type": "stream",
          "name": "stderr",
          "text": [
            "WARNING:absl:You are saving your model as an HDF5 file via `model.save()` or `keras.saving.save_model(model)`. This file format is considered legacy. We recommend using instead the native Keras format, e.g. `model.save('my_model.keras')` or `keras.saving.save_model(model, 'my_model.keras')`. \n"
          ]
        },
        {
          "output_type": "stream",
          "name": "stdout",
          "text": [
            "63/63 - 32s - 507ms/step - loss: 10436.6562 - mae: 94.0343 - val_loss: 10098.7891 - val_mae: 91.9890 - learning_rate: 1.0000e-04\n",
            "Epoch 9/10\n",
            "\n",
            "Epoch 9: val_loss improved from 10098.78906 to 9053.33984, saving model to /content/drive/MyDrive/dataset-v2/checkpoints/model_part_3_with_sex.h5\n"
          ]
        },
        {
          "output_type": "stream",
          "name": "stderr",
          "text": [
            "WARNING:absl:You are saving your model as an HDF5 file via `model.save()` or `keras.saving.save_model(model)`. This file format is considered legacy. We recommend using instead the native Keras format, e.g. `model.save('my_model.keras')` or `keras.saving.save_model(model, 'my_model.keras')`. \n"
          ]
        },
        {
          "output_type": "stream",
          "name": "stdout",
          "text": [
            "63/63 - 32s - 508ms/step - loss: 9388.9277 - mae: 88.5360 - val_loss: 9053.3398 - val_mae: 86.4678 - learning_rate: 1.0000e-04\n",
            "Epoch 10/10\n",
            "\n",
            "Epoch 10: val_loss improved from 9053.33984 to 8047.60840, saving model to /content/drive/MyDrive/dataset-v2/checkpoints/model_part_3_with_sex.h5\n"
          ]
        },
        {
          "output_type": "stream",
          "name": "stderr",
          "text": [
            "WARNING:absl:You are saving your model as an HDF5 file via `model.save()` or `keras.saving.save_model(model)`. This file format is considered legacy. We recommend using instead the native Keras format, e.g. `model.save('my_model.keras')` or `keras.saving.save_model(model, 'my_model.keras')`. \n"
          ]
        },
        {
          "output_type": "stream",
          "name": "stdout",
          "text": [
            "63/63 - 41s - 649ms/step - loss: 8371.8604 - mae: 82.9454 - val_loss: 8047.6084 - val_mae: 80.9133 - learning_rate: 1.0000e-04\n",
            "Historique d'entraînement sauvegardé dans /content/drive/MyDrive/dataset-v2/checkpoints/history_part_3_with_sex.json\n",
            "Historique d'entraînement sauvegardé dans /content/drive/MyDrive/dataset-v2/checkpoints/history_part_3_with_sex.csv\n",
            "Graphique d'entraînement sauvegardé dans /content/drive/MyDrive/dataset-v2/checkpoints/training_plot_part_3_with_sex.png\n",
            "\u001b[1m79/79\u001b[0m \u001b[32m━━━━━━━━━━━━━━━━━━━━\u001b[0m\u001b[37m\u001b[0m \u001b[1m14s\u001b[0m 173ms/step\n",
            "\n",
            "📊 [Segment 3 avec entrée de sexe] MAE: 80.9133 | MSE: 8047.6099\n",
            "Métriques sauvegardées dans /content/drive/MyDrive/dataset-v2/checkpoints/metrics_part_3_with_sex.txt\n"
          ]
        },
        {
          "output_type": "execute_result",
          "data": {
            "text/plain": [
              "10329"
            ]
          },
          "metadata": {},
          "execution_count": 14
        },
        {
          "output_type": "display_data",
          "data": {
            "text/plain": [
              "<Figure size 1200x400 with 2 Axes>"
            ],
            "image/png": "[encoded data removed]"
          },
          "metadata": {}
        }
      ]
    },
    {
      "cell_type": "code",
      "source": [
        "import numpy as np\n",
        "import os\n",
        "import gc\n",
        "import json\n",
        "import pandas as pd\n",
        "import matplotlib.pyplot as plt\n",
        "from sklearn.metrics import mean_absolute_error, mean_squared_error\n",
        "from tensorflow.keras.applications import VGG16\n",
        "from tensorflow.keras.models import Model, load_model\n",
        "from tensorflow.keras.layers import Dense, GlobalAveragePooling2D, Input, Concatenate, Dropout, BatchNormalization\n",
        "from tensorflow.keras.callbacks import EarlyStopping, ReduceLROnPlateau, ModelCheckpoint\n",
        "from tensorflow.keras.optimizers import Adam\n",
        "from tensorflow.keras.regularizers import l2\n",
        "import tensorflow as tf\n",
        "\n",
        "# Générateur de données avec sexe (inchangé)\n",
        "class DataGeneratorWithSex:\n",
        "    def __init__(self, x_path, y_age_path, y_sex_path, batch_size, part_idx, total_parts):\n",
        "        self.x_path = x_path\n",
        "        self.y_age_path = y_age_path\n",
        "        self.y_sex_path = y_sex_path\n",
        "        self.batch_size = batch_size\n",
        "        self.part_idx = part_idx\n",
        "        self.total_parts = total_parts\n",
        "        self.x, self.y_age, self.y_sex = self.load_data_slice()\n",
        "\n",
        "    def load_data_slice(self):\n",
        "        x = np.load(self.x_path)\n",
        "        y_age = np.load(self.y_age_path)\n",
        "        y_sex = np.load(self.y_sex_path)\n",
        "\n",
        "        total_len = len(x)\n",
        "        part_size = total_len // self.total_parts\n",
        "        start = self.part_idx * part_size\n",
        "        end = (self.part_idx + 1) * part_size if self.part_idx < self.total_parts - 1 else total_len\n",
        "\n",
        "        return x[start:end], y_age[start:end], y_sex[start:end]\n",
        "\n",
        "    def create_tf_dataset(self):\n",
        "        # Préparer les données\n",
        "        x = self.x / 255.0\n",
        "        x = np.repeat(x, 3, axis=-1).astype(np.float32)  # Convertir en RGB\n",
        "\n",
        "        y_sex = self.y_sex.astype(np.float32)\n",
        "        y_sex = np.expand_dims(y_sex, axis=-1)\n",
        "\n",
        "        y_age = self.y_age.astype(np.float32)\n",
        "\n",
        "        # Créer le dataset directement à partir des tableaux numpy\n",
        "        dataset = tf.data.Dataset.from_tensor_slices(\n",
        "            (\n",
        "                {\n",
        "                    \"image_input\": x,\n",
        "                    \"sex_input\": y_sex\n",
        "                },\n",
        "                y_age\n",
        "            )\n",
        "        )\n",
        "\n",
        "        # Batching du dataset\n",
        "        dataset = dataset.batch(self.batch_size)\n",
        "\n",
        "        # Prefetch pour de meilleures performances\n",
        "        dataset = dataset.prefetch(tf.data.AUTOTUNE)\n",
        "\n",
        "        return dataset\n",
        "\n",
        "# Fonction améliorée pour construire le modèle avec entrée de sexe\n",
        "def build_improved_model_with_sex_input():\n",
        "    # Entrée d'image\n",
        "    image_input = Input(shape=(224, 224, 3), name=\"image_input\")\n",
        "\n",
        "    # Charger VGG16 sans les couches supérieures\n",
        "    base = VGG16(weights='imagenet', include_top=False, input_tensor=image_input)\n",
        "\n",
        "    # Geler les premières couches mais dégeler les dernières pour un fine-tuning\n",
        "    # Geler les 15 premières couches (sur 19 au total dans VGG16)\n",
        "    for layer in base.layers[:15]:\n",
        "        layer.trainable = False\n",
        "\n",
        "    # Dégeler les 4 dernières couches pour permettre un ajustement fin\n",
        "    for layer in base.layers[15:]:\n",
        "        layer.trainable = True\n",
        "\n",
        "    # Extraction de caractéristiques\n",
        "    x = base.output\n",
        "    x = GlobalAveragePooling2D()(x)\n",
        "\n",
        "    # Amélioration: Ajouter BatchNormalization pour stabiliser l'entraînement\n",
        "    x = BatchNormalization()(x)\n",
        "\n",
        "    # Entrée de sexe\n",
        "    sex_input = Input(shape=(1,), name=\"sex_input\")\n",
        "\n",
        "    # Combiner les deux entrées\n",
        "    combined = Concatenate()([x, sex_input])\n",
        "\n",
        "    # Amélioration: Architecture plus profonde avec régularisation\n",
        "    combined = Dense(256, activation='relu', kernel_regularizer=l2(0.001))(combined)\n",
        "    combined = BatchNormalization()(combined)\n",
        "    combined = Dropout(0.3)(combined)\n",
        "\n",
        "    combined = Dense(128, activation='relu', kernel_regularizer=l2(0.001))(combined)\n",
        "    combined = BatchNormalization()(combined)\n",
        "    combined = Dropout(0.2)(combined)\n",
        "\n",
        "    # Couche de sortie pour prédire l'âge\n",
        "    output = Dense(1)(combined)\n",
        "\n",
        "    model = Model(inputs=[image_input, sex_input], outputs=output)\n",
        "\n",
        "    # Utiliser un taux d'apprentissage plus faible pour le fine-tuning\n",
        "    model.compile(optimizer=Adam(learning_rate=5e-5), loss='mse', metrics=['mae'])\n",
        "\n",
        "    return model\n",
        "\n",
        "# Paramètres d'entraînement\n",
        "BATCH_SIZE = 32\n",
        "EPOCHS = 15  # Augmenter le nombre d'époques pour permettre un meilleur apprentissage\n",
        "PARTS = 5\n",
        "SEGMENT = 4  # 4ème segment\n",
        "\n",
        "# Répertoire des checkpoints\n",
        "checkpoint_dir = '/content/drive/MyDrive/dataset-v2/checkpoints'\n",
        "os.makedirs(checkpoint_dir, exist_ok=True)\n",
        "\n",
        "# Charger le modèle précédent (segment 3) ou créer un nouveau modèle amélioré\n",
        "try:\n",
        "    print(f\"Tentative de chargement du modèle du segment 3...\")\n",
        "    model_path = f\"{checkpoint_dir}/model_part_3_with_sex.h5\"\n",
        "    if os.path.exists(model_path):\n",
        "        # Charger le modèle de base\n",
        "        base_model = load_model(model_path)\n",
        "        print(f\"Modèle chargé depuis {model_path}\")\n",
        "\n",
        "        # Extraire les poids pour les transférer au modèle amélioré\n",
        "        weights = base_model.get_weights()\n",
        "\n",
        "        # Créer le modèle amélioré\n",
        "        model = build_improved_model_with_sex_input()\n",
        "\n",
        "        # Tenter de transférer les poids compatibles\n",
        "        try:\n",
        "            model.set_weights(weights)\n",
        "            print(\"Poids transférés avec succès au modèle amélioré\")\n",
        "        except ValueError:\n",
        "            print(\"Impossible de transférer les poids directement - architecture différente\")\n",
        "            print(\"Utilisation du modèle amélioré avec initialisation des poids par défaut\")\n",
        "    else:\n",
        "        raise FileNotFoundError(\"Aucun modèle trouvé pour le segment 3\")\n",
        "except Exception as e:\n",
        "    print(f\"Erreur lors du chargement du modèle: {e}\")\n",
        "    print(\"Création d'un nouveau modèle amélioré...\")\n",
        "    model = build_improved_model_with_sex_input()\n",
        "\n",
        "# Créer le générateur de données pour l'entraînement\n",
        "train_generator = DataGeneratorWithSex(\n",
        "    x_path='/content/drive/MyDrive/dataset-v2/npy_files/X_train.npy',\n",
        "    y_age_path='/content/drive/MyDrive/dataset-v2/npy_files/y_train_age.npy',\n",
        "    y_sex_path='/content/drive/MyDrive/dataset-v2/npy_files/sex_train.npy',\n",
        "    batch_size=BATCH_SIZE,\n",
        "    part_idx=SEGMENT-1,  # Convertir en index 0-based (segment 4 = index 3)\n",
        "    total_parts=PARTS\n",
        ")\n",
        "\n",
        "# Créer le dataset TF\n",
        "train_dataset = train_generator.create_tf_dataset()\n",
        "\n",
        "# Préparer les données de validation\n",
        "x_val = np.load('/content/drive/MyDrive/dataset-v2/npy_files/X_val.npy') / 255.0\n",
        "y_val_age = np.load('/content/drive/MyDrive/dataset-v2/npy_files/y_val_age.npy')\n",
        "y_val_sex = np.load('/content/drive/MyDrive/dataset-v2/npy_files/sex_val.npy')\n",
        "x_val_rgb = np.repeat(x_val, 3, axis=-1).astype(np.float32)\n",
        "y_val_sex = np.expand_dims(y_val_sex, axis=-1).astype(np.float32)\n",
        "\n",
        "# Callbacks d'entraînement améliorés\n",
        "model_path = f\"{checkpoint_dir}/model_part_{SEGMENT}_with_sex.h5\"\n",
        "callbacks = [\n",
        "    # Patience augmentée pour permettre plus de temps d'apprentissage\n",
        "    EarlyStopping(patience=5, restore_best_weights=True),\n",
        "\n",
        "    # Réduction du taux d'apprentissage plus progressive\n",
        "    ReduceLROnPlateau(patience=3, factor=0.2, min_lr=1e-6, verbose=1),\n",
        "\n",
        "    # Sauvegarde du modèle\n",
        "    ModelCheckpoint(filepath=model_path, save_best_only=True, monitor='val_loss', verbose=1)\n",
        "]\n",
        "\n",
        "print(f\"\\n🚀 Entraînement sur le segment {SEGMENT}/{PARTS} avec le sexe comme entrée\")\n",
        "print(f\"🔄 Utilisation du modèle avec fine-tuning des dernières couches VGG16\")\n",
        "\n",
        "# Libérer de la mémoire avant l'entraînement\n",
        "gc.collect()\n",
        "tf.keras.backend.clear_session()\n",
        "\n",
        "# Entraînement avec historique\n",
        "history = model.fit(\n",
        "    train_dataset,\n",
        "    epochs=EPOCHS,\n",
        "    validation_data=(\n",
        "        {\n",
        "            \"image_input\": x_val_rgb,\n",
        "            \"sex_input\": y_val_sex\n",
        "        },\n",
        "        y_val_age\n",
        "    ),\n",
        "    callbacks=callbacks,\n",
        "    verbose=2\n",
        ")\n",
        "\n",
        "# Sauvegarder l'historique d'entraînement\n",
        "history_dict = history.history\n",
        "\n",
        "# Convertir les valeurs numpy en types Python natifs pour la sérialisation JSON\n",
        "for key in history_dict:\n",
        "    history_dict[key] = [float(i) for i in history_dict[key]]\n",
        "\n",
        "# Sauvegarder en JSON\n",
        "history_file = f\"{checkpoint_dir}/history_part_{SEGMENT}_with_sex.json\"\n",
        "with open(history_file, 'w') as f:\n",
        "    json.dump(history_dict, f)\n",
        "print(f\"Historique d'entraînement sauvegardé dans {history_file}\")\n",
        "\n",
        "# Sauvegarder en CSV\n",
        "history_df = pd.DataFrame(history_dict)\n",
        "csv_file = f\"{checkpoint_dir}/history_part_{SEGMENT}_with_sex.csv\"\n",
        "history_df.to_csv(csv_file, index_label='epoch')\n",
        "print(f\"Historique d'entraînement sauvegardé dans {csv_file}\")\n",
        "\n",
        "# Créer et sauvegarder les graphiques d'entraînement\n",
        "plt.figure(figsize=(12, 4))\n",
        "\n",
        "# Graphique des valeurs de perte d'entraînement et de validation\n",
        "plt.subplot(1, 2, 1)\n",
        "plt.plot(history_dict['loss'])\n",
        "plt.plot(history_dict['val_loss'])\n",
        "plt.title('Perte du modèle')\n",
        "plt.ylabel('Perte')\n",
        "plt.xlabel('Époque')\n",
        "plt.legend(['Entraînement', 'Validation'], loc='upper right')\n",
        "\n",
        "# Graphique des valeurs MAE d'entraînement et de validation\n",
        "plt.subplot(1, 2, 2)\n",
        "plt.plot(history_dict['mae'])\n",
        "plt.plot(history_dict['val_mae'])\n",
        "plt.title('MAE du modèle')\n",
        "plt.ylabel('MAE')\n",
        "plt.xlabel('Époque')\n",
        "plt.legend(['Entraînement', 'Validation'], loc='upper right')\n",
        "\n",
        "plt.tight_layout()\n",
        "plot_file = f\"{checkpoint_dir}/training_plot_part_{SEGMENT}_with_sex.png\"\n",
        "plt.savefig(plot_file)\n",
        "print(f\"Graphique d'entraînement sauvegardé dans {plot_file}\")\n",
        "\n",
        "# Évaluer sur les données de validation\n",
        "predictions = model.predict({\n",
        "    \"image_input\": x_val_rgb,\n",
        "    \"sex_input\": y_val_sex\n",
        "})\n",
        "mae = mean_absolute_error(y_val_age, predictions)\n",
        "mse = mean_squared_error(y_val_age, predictions)\n",
        "print(f\"\\n📊 [Segment {SEGMENT} avec entrée de sexe] MAE: {mae:.4f} | MSE: {mse:.4f}\")\n",
        "\n",
        "# Sauvegarder les métriques dans un fichier\n",
        "metrics_file = f\"{checkpoint_dir}/metrics_part_{SEGMENT}_with_sex.txt\"\n",
        "with open(metrics_file, 'w') as f:\n",
        "    f.write(f\"MAE: {mae:.4f}\\n\")\n",
        "    f.write(f\"MSE: {mse:.4f}\\n\")\n",
        "print(f\"Métriques sauvegardées dans {metrics_file}\")\n",
        "\n",
        "# Libérer la mémoire après l'entraînement\n",
        "gc.collect()"
      ],
      "metadata": {
        "colab": {
          "base_uri": "https://localhost:8080/",
          "height": 1000
        },
        "id": "Q740uAI60R2U",
        "outputId": "f327abdb-362d-420b-944a-93cfdb7f37ea"
      },
      "execution_count": 18,
      "outputs": [
        {
          "output_type": "stream",
          "name": "stdout",
          "text": [
            "Tentative de chargement du modèle du segment 3...\n",
            "Erreur lors du chargement du modèle: Could not locate function 'mse'. Make sure custom classes are decorated with `@keras.saving.register_keras_serializable()`. Full object config: {'module': 'keras.metrics', 'class_name': 'function', 'config': 'mse', 'registered_name': 'mse'}\n",
            "Création d'un nouveau modèle amélioré...\n",
            "\n",
            "🚀 Entraînement sur le segment 4/5 avec le sexe comme entrée\n",
            "🔄 Utilisation du modèle avec fine-tuning des dernières couches VGG16\n",
            "Epoch 1/15\n",
            "\n",
            "Epoch 1: val_loss improved from inf to 18100.86719, saving model to /content/drive/MyDrive/dataset-v2/checkpoints/model_part_4_with_sex.h5\n"
          ]
        },
        {
          "output_type": "stream",
          "name": "stderr",
          "text": [
            "WARNING:absl:You are saving your model as an HDF5 file via `model.save()` or `keras.saving.save_model(model)`. This file format is considered legacy. We recommend using instead the native Keras format, e.g. `model.save('my_model.keras')` or `keras.saving.save_model(model, 'my_model.keras')`. \n"
          ]
        },
        {
          "output_type": "stream",
          "name": "stdout",
          "text": [
            "63/63 - 44s - 701ms/step - loss: 17678.5352 - mae: 126.6348 - val_loss: 18100.8672 - val_mae: 127.8822 - learning_rate: 5.0000e-05\n",
            "Epoch 2/15\n",
            "\n",
            "Epoch 2: val_loss improved from 18100.86719 to 17977.51758, saving model to /content/drive/MyDrive/dataset-v2/checkpoints/model_part_4_with_sex.h5\n"
          ]
        },
        {
          "output_type": "stream",
          "name": "stderr",
          "text": [
            "WARNING:absl:You are saving your model as an HDF5 file via `model.save()` or `keras.saving.save_model(model)`. This file format is considered legacy. We recommend using instead the native Keras format, e.g. `model.save('my_model.keras')` or `keras.saving.save_model(model, 'my_model.keras')`. \n"
          ]
        },
        {
          "output_type": "stream",
          "name": "stdout",
          "text": [
            "63/63 - 34s - 543ms/step - loss: 17557.4180 - mae: 126.5675 - val_loss: 17977.5176 - val_mae: 127.4819 - learning_rate: 5.0000e-05\n",
            "Epoch 3/15\n",
            "\n",
            "Epoch 3: val_loss did not improve from 17977.51758\n",
            "63/63 - 39s - 624ms/step - loss: 17440.8848 - mae: 126.5499 - val_loss: 17981.2090 - val_mae: 127.6469 - learning_rate: 5.0000e-05\n",
            "Epoch 4/15\n",
            "\n",
            "Epoch 4: val_loss did not improve from 17977.51758\n",
            "63/63 - 41s - 649ms/step - loss: 17328.8965 - mae: 126.4746 - val_loss: 18012.8223 - val_mae: 128.0840 - learning_rate: 5.0000e-05\n",
            "Epoch 5/15\n",
            "\n",
            "Epoch 5: ReduceLROnPlateau reducing learning rate to 9.999999747378752e-06.\n",
            "\n",
            "Epoch 5: val_loss did not improve from 17977.51758\n",
            "63/63 - 25s - 396ms/step - loss: 17239.5410 - mae: 126.4514 - val_loss: 18060.8340 - val_mae: 128.6401 - learning_rate: 5.0000e-05\n",
            "Epoch 6/15\n",
            "\n",
            "Epoch 6: val_loss improved from 17977.51758 to 17614.46875, saving model to /content/drive/MyDrive/dataset-v2/checkpoints/model_part_4_with_sex.h5\n"
          ]
        },
        {
          "output_type": "stream",
          "name": "stderr",
          "text": [
            "WARNING:absl:You are saving your model as an HDF5 file via `model.save()` or `keras.saving.save_model(model)`. This file format is considered legacy. We recommend using instead the native Keras format, e.g. `model.save('my_model.keras')` or `keras.saving.save_model(model, 'my_model.keras')`. \n"
          ]
        },
        {
          "output_type": "stream",
          "name": "stdout",
          "text": [
            "63/63 - 36s - 566ms/step - loss: 17165.9219 - mae: 126.3782 - val_loss: 17614.4688 - val_mae: 126.9729 - learning_rate: 1.0000e-05\n",
            "Epoch 7/15\n",
            "\n",
            "Epoch 7: val_loss did not improve from 17614.46875\n",
            "63/63 - 38s - 606ms/step - loss: 17145.4766 - mae: 126.3708 - val_loss: 17690.0430 - val_mae: 127.4175 - learning_rate: 1.0000e-05\n",
            "Epoch 8/15\n",
            "\n",
            "Epoch 8: val_loss did not improve from 17614.46875\n",
            "63/63 - 41s - 648ms/step - loss: 17131.0078 - mae: 126.3815 - val_loss: 17696.7871 - val_mae: 127.5942 - learning_rate: 1.0000e-05\n",
            "Epoch 9/15\n",
            "\n",
            "Epoch 9: val_loss improved from 17614.46875 to 17589.76953, saving model to /content/drive/MyDrive/dataset-v2/checkpoints/model_part_4_with_sex.h5\n"
          ]
        },
        {
          "output_type": "stream",
          "name": "stderr",
          "text": [
            "WARNING:absl:You are saving your model as an HDF5 file via `model.save()` or `keras.saving.save_model(model)`. This file format is considered legacy. We recommend using instead the native Keras format, e.g. `model.save('my_model.keras')` or `keras.saving.save_model(model, 'my_model.keras')`. \n"
          ]
        },
        {
          "output_type": "stream",
          "name": "stdout",
          "text": [
            "63/63 - 36s - 569ms/step - loss: 17112.6758 - mae: 126.3647 - val_loss: 17589.7695 - val_mae: 127.3148 - learning_rate: 1.0000e-05\n",
            "Epoch 10/15\n",
            "\n",
            "Epoch 10: val_loss did not improve from 17589.76953\n",
            "63/63 - 33s - 524ms/step - loss: 17085.9961 - mae: 126.3219 - val_loss: 17669.2402 - val_mae: 127.8018 - learning_rate: 1.0000e-05\n",
            "Epoch 11/15\n",
            "\n",
            "Epoch 11: val_loss did not improve from 17589.76953\n",
            "63/63 - 33s - 522ms/step - loss: 17074.7441 - mae: 126.3235 - val_loss: 17756.9590 - val_mae: 128.1985 - learning_rate: 1.0000e-05\n",
            "Epoch 12/15\n",
            "\n",
            "Epoch 12: val_loss improved from 17589.76953 to 17576.11523, saving model to /content/drive/MyDrive/dataset-v2/checkpoints/model_part_4_with_sex.h5\n"
          ]
        },
        {
          "output_type": "stream",
          "name": "stderr",
          "text": [
            "WARNING:absl:You are saving your model as an HDF5 file via `model.save()` or `keras.saving.save_model(model)`. This file format is considered legacy. We recommend using instead the native Keras format, e.g. `model.save('my_model.keras')` or `keras.saving.save_model(model, 'my_model.keras')`. \n"
          ]
        },
        {
          "output_type": "stream",
          "name": "stdout",
          "text": [
            "63/63 - 35s - 558ms/step - loss: 17062.5703 - mae: 126.3278 - val_loss: 17576.1152 - val_mae: 127.5402 - learning_rate: 1.0000e-05\n",
            "Epoch 13/15\n",
            "\n",
            "Epoch 13: val_loss did not improve from 17576.11523\n",
            "63/63 - 39s - 614ms/step - loss: 17046.8457 - mae: 126.3245 - val_loss: 17633.0312 - val_mae: 127.7711 - learning_rate: 1.0000e-05\n",
            "Epoch 14/15\n",
            "\n",
            "Epoch 14: val_loss improved from 17576.11523 to 17530.62500, saving model to /content/drive/MyDrive/dataset-v2/checkpoints/model_part_4_with_sex.h5\n"
          ]
        },
        {
          "output_type": "stream",
          "name": "stderr",
          "text": [
            "WARNING:absl:You are saving your model as an HDF5 file via `model.save()` or `keras.saving.save_model(model)`. This file format is considered legacy. We recommend using instead the native Keras format, e.g. `model.save('my_model.keras')` or `keras.saving.save_model(model, 'my_model.keras')`. \n"
          ]
        },
        {
          "output_type": "stream",
          "name": "stdout",
          "text": [
            "63/63 - 44s - 698ms/step - loss: 17033.9355 - mae: 126.3253 - val_loss: 17530.6250 - val_mae: 127.4160 - learning_rate: 1.0000e-05\n",
            "Epoch 15/15\n",
            "\n",
            "Epoch 15: val_loss improved from 17530.62500 to 17237.75977, saving model to /content/drive/MyDrive/dataset-v2/checkpoints/model_part_4_with_sex.h5\n"
          ]
        },
        {
          "output_type": "stream",
          "name": "stderr",
          "text": [
            "WARNING:absl:You are saving your model as an HDF5 file via `model.save()` or `keras.saving.save_model(model)`. This file format is considered legacy. We recommend using instead the native Keras format, e.g. `model.save('my_model.keras')` or `keras.saving.save_model(model, 'my_model.keras')`. \n"
          ]
        },
        {
          "output_type": "stream",
          "name": "stdout",
          "text": [
            "63/63 - 38s - 602ms/step - loss: 17015.8281 - mae: 126.3047 - val_loss: 17237.7598 - val_mae: 126.3665 - learning_rate: 1.0000e-05\n",
            "Historique d'entraînement sauvegardé dans /content/drive/MyDrive/dataset-v2/checkpoints/history_part_4_with_sex.json\n",
            "Historique d'entraînement sauvegardé dans /content/drive/MyDrive/dataset-v2/checkpoints/history_part_4_with_sex.csv\n",
            "Graphique d'entraînement sauvegardé dans /content/drive/MyDrive/dataset-v2/checkpoints/training_plot_part_4_with_sex.png\n",
            "\u001b[1m79/79\u001b[0m \u001b[32m━━━━━━━━━━━━━━━━━━━━\u001b[0m\u001b[37m\u001b[0m \u001b[1m15s\u001b[0m 171ms/step\n",
            "\n",
            "📊 [Segment 4 avec entrée de sexe] MAE: 126.3665 | MSE: 17237.2500\n",
            "Métriques sauvegardées dans /content/drive/MyDrive/dataset-v2/checkpoints/metrics_part_4_with_sex.txt\n"
          ]
        },
        {
          "output_type": "execute_result",
          "data": {
            "text/plain": [
              "11334"
            ]
          },
          "metadata": {},
          "execution_count": 18
        },
        {
          "output_type": "display_data",
          "data": {
            "text/plain": [
              "<Figure size 1200x400 with 2 Axes>"
            ],
            "image/png": "[encoded data removed]"
          },
          "metadata": {}
        }
      ]
    },
    {
      "cell_type": "code",
      "source": [
        "import gc\n",
        "gc.collect()"
      ],
      "metadata": {
        "colab": {
          "base_uri": "https://localhost:8080/"
        },
        "id": "SRh9ewb34N9O",
        "outputId": "442afe61-6823-44f4-fb6e-77b429548111"
      },
      "execution_count": 23,
      "outputs": [
        {
          "output_type": "execute_result",
          "data": {
            "text/plain": [
              "0"
            ]
          },
          "metadata": {},
          "execution_count": 23
        }
      ]
    },
    {
      "cell_type": "code",
      "source": [
        "import numpy as np\n",
        "import os\n",
        "import gc\n",
        "import json\n",
        "import pandas as pd\n",
        "import matplotlib.pyplot as plt\n",
        "from sklearn.metrics import mean_absolute_error, mean_squared_error\n",
        "from tensorflow.keras.applications import VGG16\n",
        "from tensorflow.keras.models import Model\n",
        "from tensorflow.keras.layers import Dense, GlobalAveragePooling2D, Input, Concatenate\n",
        "from tensorflow.keras.callbacks import EarlyStopping, ReduceLROnPlateau, ModelCheckpoint\n",
        "from tensorflow.keras.optimizers import Adam\n",
        "import tensorflow as tf\n",
        "\n",
        "# Générateur de données avec sexe\n",
        "class DataGeneratorWithSex:\n",
        "    def __init__(self, x_path, y_age_path, y_sex_path, batch_size, part_idx, total_parts):\n",
        "        self.x_path = x_path\n",
        "        self.y_age_path = y_age_path\n",
        "        self.y_sex_path = y_sex_path\n",
        "        self.batch_size = batch_size\n",
        "        self.part_idx = part_idx\n",
        "        self.total_parts = total_parts\n",
        "        self.x, self.y_age, self.y_sex = self.load_data_slice()\n",
        "\n",
        "    def load_data_slice(self):\n",
        "        x = np.load(self.x_path)\n",
        "        y_age = np.load(self.y_age_path)\n",
        "        y_sex = np.load(self.y_sex_path)\n",
        "\n",
        "        total_len = len(x)\n",
        "        part_size = total_len // self.total_parts\n",
        "        start = self.part_idx * part_size\n",
        "        end = (self.part_idx + 1) * part_size if self.part_idx < self.total_parts - 1 else total_len\n",
        "\n",
        "        return x[start:end], y_age[start:end], y_sex[start:end]\n",
        "\n",
        "    def create_tf_dataset(self):\n",
        "        # Préparer les données\n",
        "        x = self.x / 255.0\n",
        "        x = np.repeat(x, 3, axis=-1).astype(np.float32)  # Convertir en RGB\n",
        "\n",
        "        y_sex = self.y_sex.astype(np.float32)\n",
        "        y_sex = np.expand_dims(y_sex, axis=-1)\n",
        "\n",
        "        y_age = self.y_age.astype(np.float32)\n",
        "\n",
        "        # Créer le dataset directement à partir des tableaux numpy\n",
        "        dataset = tf.data.Dataset.from_tensor_slices(\n",
        "            (\n",
        "                {\n",
        "                    \"image_input\": x,\n",
        "                    \"sex_input\": y_sex\n",
        "                },\n",
        "                y_age\n",
        "            )\n",
        "        )\n",
        "\n",
        "        # Batching du dataset\n",
        "        dataset = dataset.batch(self.batch_size)\n",
        "\n",
        "        # Prefetch pour de meilleures performances\n",
        "        dataset = dataset.prefetch(tf.data.AUTOTUNE)\n",
        "\n",
        "        return dataset\n",
        "\n",
        "# Modèle avec entrée de sexe (inchangé)\n",
        "def build_model_with_sex_input():\n",
        "    # Entrée d'image\n",
        "    image_input = Input(shape=(224, 224, 3), name=\"image_input\")\n",
        "    base = VGG16(weights='imagenet', include_top=False, input_tensor=image_input)\n",
        "    for layer in base.layers:\n",
        "        layer.trainable = False  # Geler les couches de base pour le transfer learning\n",
        "\n",
        "    x = base.output\n",
        "    x = GlobalAveragePooling2D()(x)\n",
        "\n",
        "    # Entrée de sexe\n",
        "    sex_input = Input(shape=(1,), name=\"sex_input\")\n",
        "\n",
        "    # Combiner les deux entrées\n",
        "    combined = Concatenate()([x, sex_input])\n",
        "    combined = Dense(128, activation='relu')(combined)\n",
        "    output = Dense(1)(combined)  # Prédire l'âge\n",
        "\n",
        "    model = Model(inputs=[image_input, sex_input], outputs=output)\n",
        "    model.compile(optimizer=Adam(learning_rate=1e-4), loss='mse', metrics=['mae'])\n",
        "    return model\n",
        "\n",
        "# Paramètres d'entraînement\n",
        "BATCH_SIZE = 32\n",
        "EPOCHS = 10\n",
        "PARTS = 5\n",
        "SEGMENT = 4  # 4ème segment\n",
        "\n",
        "# Répertoire des checkpoints\n",
        "checkpoint_dir = '/content/drive/MyDrive/dataset-v2/checkpoints'\n",
        "os.makedirs(checkpoint_dir, exist_ok=True)\n",
        "\n",
        "# Créer le modèle\n",
        "model = build_model_with_sex_input()\n",
        "\n",
        "# Créer le générateur de données pour l'entraînement\n",
        "train_generator = DataGeneratorWithSex(\n",
        "    x_path='/content/drive/MyDrive/dataset-v2/npy_files/X_train.npy',\n",
        "    y_age_path='/content/drive/MyDrive/dataset-v2/npy_files/y_train_age.npy',\n",
        "    y_sex_path='/content/drive/MyDrive/dataset-v2/npy_files/sex_train.npy',\n",
        "    batch_size=BATCH_SIZE,\n",
        "    part_idx=SEGMENT-1,  # Convertir en index 0-based (segment 4 = index 3)\n",
        "    total_parts=PARTS\n",
        ")\n",
        "\n",
        "# Créer le dataset TF\n",
        "train_dataset = train_generator.create_tf_dataset()\n",
        "\n",
        "# Préparer les données de validation\n",
        "x_val = np.load('/content/drive/MyDrive/dataset-v2/npy_files/X_val.npy') / 255.0\n",
        "y_val_age = np.load('/content/drive/MyDrive/dataset-v2/npy_files/y_val_age.npy')\n",
        "y_val_sex = np.load('/content/drive/MyDrive/dataset-v2/npy_files/sex_val.npy')\n",
        "x_val_rgb = np.repeat(x_val, 3, axis=-1).astype(np.float32)\n",
        "y_val_sex = np.expand_dims(y_val_sex, axis=-1).astype(np.float32)\n",
        "\n",
        "# Callbacks d'entraînement\n",
        "model_path = f\"{checkpoint_dir}/model_part_{SEGMENT}_with_sex.h5\"\n",
        "callbacks = [\n",
        "    EarlyStopping(patience=3, restore_best_weights=True),\n",
        "    ReduceLROnPlateau(patience=2, factor=0.5, verbose=1),\n",
        "    ModelCheckpoint(filepath=model_path, save_best_only=True, monitor='val_loss', verbose=1)\n",
        "]\n",
        "\n",
        "print(f\"\\n🚀 Entraînement sur le segment {SEGMENT}/{PARTS} avec entrée de sexe\")\n",
        "\n",
        "# Libérer de la mémoire avant l'entraînement\n",
        "gc.collect()\n",
        "tf.keras.backend.clear_session()\n",
        "\n",
        "# Entraînement avec historique\n",
        "history = model.fit(\n",
        "    train_dataset,\n",
        "    epochs=EPOCHS,\n",
        "    validation_data=(\n",
        "        {\n",
        "            \"image_input\": x_val_rgb,\n",
        "            \"sex_input\": y_val_sex\n",
        "        },\n",
        "        y_val_age\n",
        "    ),\n",
        "    callbacks=callbacks,\n",
        "    verbose=2\n",
        ")\n",
        "\n",
        "# Sauvegarder l'historique d'entraînement (optionnel)\n",
        "history_dict = history.history\n",
        "\n",
        "# Convertir les valeurs numpy en types Python natifs pour la sérialisation JSON\n",
        "for key in history_dict:\n",
        "    history_dict[key] = [float(i) for i in history_dict[key]]\n",
        "\n",
        "# Sauvegarder en JSON\n",
        "history_file = f\"{checkpoint_dir}/history_part_{SEGMENT}_with_sex.json\"\n",
        "with open(history_file, 'w') as f:\n",
        "    json.dump(history_dict, f)\n",
        "print(f\"Historique d'entraînement sauvegardé dans {history_file}\")\n",
        "\n",
        "# Sauvegarder en CSV\n",
        "history_df = pd.DataFrame(history_dict)\n",
        "csv_file = f\"{checkpoint_dir}/history_part_{SEGMENT}_with_sex.csv\"\n",
        "history_df.to_csv(csv_file, index_label='epoch')\n",
        "print(f\"Historique d'entraînement sauvegardé dans {csv_file}\")\n",
        "\n",
        "# Créer et sauvegarder les graphiques d'entraînement\n",
        "plt.figure(figsize=(12, 4))\n",
        "\n",
        "# Graphique des valeurs de perte d'entraînement et de validation\n",
        "plt.subplot(1, 2, 1)\n",
        "plt.plot(history_dict['loss'])\n",
        "plt.plot(history_dict['val_loss'])\n",
        "plt.title('Perte du modèle')\n",
        "plt.ylabel('Perte')\n",
        "plt.xlabel('Époque')\n",
        "plt.legend(['Entraînement', 'Validation'], loc='upper right')\n",
        "\n",
        "# Graphique des valeurs MAE d'entraînement et de validation\n",
        "plt.subplot(1, 2, 2)\n",
        "plt.plot(history_dict['mae'])\n",
        "plt.plot(history_dict['val_mae'])\n",
        "plt.title('MAE du modèle')\n",
        "plt.ylabel('MAE')\n",
        "plt.xlabel('Époque')\n",
        "plt.legend(['Entraînement', 'Validation'], loc='upper right')\n",
        "\n",
        "plt.tight_layout()\n",
        "plot_file = f\"{checkpoint_dir}/training_plot_part_{SEGMENT}_with_sex.png\"\n",
        "plt.savefig(plot_file)\n",
        "print(f\"Graphique d'entraînement sauvegardé dans {plot_file}\")\n",
        "\n",
        "# Évaluer sur les données de validation\n",
        "predictions = model.predict({\n",
        "    \"image_input\": x_val_rgb,\n",
        "    \"sex_input\": y_val_sex\n",
        "})\n",
        "mae = mean_absolute_error(y_val_age, predictions)\n",
        "mse = mean_squared_error(y_val_age, predictions)\n",
        "print(f\"\\n📊 [Segment {SEGMENT} avec entrée de sexe] MAE: {mae:.4f} | MSE: {mse:.4f}\")\n",
        "\n",
        "# Sauvegarder les métriques dans un fichier\n",
        "metrics_file = f\"{checkpoint_dir}/metrics_part_{SEGMENT}_with_sex.txt\"\n",
        "with open(metrics_file, 'w') as f:\n",
        "    f.write(f\"MAE: {mae:.4f}\\n\")\n",
        "    f.write(f\"MSE: {mse:.4f}\\n\")\n",
        "print(f\"Métriques sauvegardées dans {metrics_file}\")\n",
        "\n",
        "# Libérer la mémoire après l'entraînement\n",
        "gc.collect()"
      ],
      "metadata": {
        "colab": {
          "base_uri": "https://localhost:8080/",
          "height": 1000
        },
        "id": "FJPB3e0m57Ih",
        "outputId": "a38d047a-a5ad-4c10-fafa-0eb15c47742c"
      },
      "execution_count": 21,
      "outputs": [
        {
          "output_type": "stream",
          "name": "stdout",
          "text": [
            "\n",
            "🚀 Entraînement sur le segment 4/5 avec entrée de sexe\n",
            "Epoch 1/10\n",
            "\n",
            "Epoch 1: val_loss improved from inf to 16940.20703, saving model to /content/drive/MyDrive/dataset-v2/checkpoints/model_part_4_with_sex.h5\n"
          ]
        },
        {
          "output_type": "stream",
          "name": "stderr",
          "text": [
            "WARNING:absl:You are saving your model as an HDF5 file via `model.save()` or `keras.saving.save_model(model)`. This file format is considered legacy. We recommend using instead the native Keras format, e.g. `model.save('my_model.keras')` or `keras.saving.save_model(model, 'my_model.keras')`. \n"
          ]
        },
        {
          "output_type": "stream",
          "name": "stdout",
          "text": [
            "63/63 - 32s - 511ms/step - loss: 16980.5703 - mae: 123.7274 - val_loss: 16940.2070 - val_mae: 123.2536 - learning_rate: 1.0000e-04\n",
            "Epoch 2/10\n",
            "\n",
            "Epoch 2: val_loss improved from 16940.20703 to 15989.74316, saving model to /content/drive/MyDrive/dataset-v2/checkpoints/model_part_4_with_sex.h5\n"
          ]
        },
        {
          "output_type": "stream",
          "name": "stderr",
          "text": [
            "WARNING:absl:You are saving your model as an HDF5 file via `model.save()` or `keras.saving.save_model(model)`. This file format is considered legacy. We recommend using instead the native Keras format, e.g. `model.save('my_model.keras')` or `keras.saving.save_model(model, 'my_model.keras')`. \n"
          ]
        },
        {
          "output_type": "stream",
          "name": "stdout",
          "text": [
            "63/63 - 44s - 692ms/step - loss: 16048.5703 - mae: 119.9138 - val_loss: 15989.7432 - val_mae: 119.3454 - learning_rate: 1.0000e-04\n",
            "Epoch 3/10\n",
            "\n",
            "Epoch 3: val_loss improved from 15989.74316 to 14983.94629, saving model to /content/drive/MyDrive/dataset-v2/checkpoints/model_part_4_with_sex.h5\n"
          ]
        },
        {
          "output_type": "stream",
          "name": "stderr",
          "text": [
            "WARNING:absl:You are saving your model as an HDF5 file via `model.save()` or `keras.saving.save_model(model)`. This file format is considered legacy. We recommend using instead the native Keras format, e.g. `model.save('my_model.keras')` or `keras.saving.save_model(model, 'my_model.keras')`. \n"
          ]
        },
        {
          "output_type": "stream",
          "name": "stdout",
          "text": [
            "63/63 - 33s - 526ms/step - loss: 15085.0615 - mae: 115.8436 - val_loss: 14983.9463 - val_mae: 115.0701 - learning_rate: 1.0000e-04\n",
            "Epoch 4/10\n",
            "\n",
            "Epoch 4: val_loss improved from 14983.94629 to 13892.31348, saving model to /content/drive/MyDrive/dataset-v2/checkpoints/model_part_4_with_sex.h5\n"
          ]
        },
        {
          "output_type": "stream",
          "name": "stderr",
          "text": [
            "WARNING:absl:You are saving your model as an HDF5 file via `model.save()` or `keras.saving.save_model(model)`. This file format is considered legacy. We recommend using instead the native Keras format, e.g. `model.save('my_model.keras')` or `keras.saving.save_model(model, 'my_model.keras')`. \n"
          ]
        },
        {
          "output_type": "stream",
          "name": "stdout",
          "text": [
            "63/63 - 32s - 503ms/step - loss: 14051.2930 - mae: 111.3261 - val_loss: 13892.3135 - val_mae: 110.2594 - learning_rate: 1.0000e-04\n",
            "Epoch 5/10\n",
            "\n",
            "Epoch 5: val_loss improved from 13892.31348 to 12727.98926, saving model to /content/drive/MyDrive/dataset-v2/checkpoints/model_part_4_with_sex.h5\n"
          ]
        },
        {
          "output_type": "stream",
          "name": "stderr",
          "text": [
            "WARNING:absl:You are saving your model as an HDF5 file via `model.save()` or `keras.saving.save_model(model)`. This file format is considered legacy. We recommend using instead the native Keras format, e.g. `model.save('my_model.keras')` or `keras.saving.save_model(model, 'my_model.keras')`. \n"
          ]
        },
        {
          "output_type": "stream",
          "name": "stdout",
          "text": [
            "63/63 - 31s - 499ms/step - loss: 12937.6143 - mae: 106.2795 - val_loss: 12727.9893 - val_mae: 104.9074 - learning_rate: 1.0000e-04\n",
            "Epoch 6/10\n",
            "\n",
            "Epoch 6: val_loss improved from 12727.98926 to 11518.64551, saving model to /content/drive/MyDrive/dataset-v2/checkpoints/model_part_4_with_sex.h5\n"
          ]
        },
        {
          "output_type": "stream",
          "name": "stderr",
          "text": [
            "WARNING:absl:You are saving your model as an HDF5 file via `model.save()` or `keras.saving.save_model(model)`. This file format is considered legacy. We recommend using instead the native Keras format, e.g. `model.save('my_model.keras')` or `keras.saving.save_model(model, 'my_model.keras')`. \n"
          ]
        },
        {
          "output_type": "stream",
          "name": "stdout",
          "text": [
            "63/63 - 41s - 654ms/step - loss: 11765.8086 - mae: 100.7262 - val_loss: 11518.6455 - val_mae: 99.1366 - learning_rate: 1.0000e-04\n",
            "Epoch 7/10\n",
            "\n",
            "Epoch 7: val_loss improved from 11518.64551 to 10297.09961, saving model to /content/drive/MyDrive/dataset-v2/checkpoints/model_part_4_with_sex.h5\n"
          ]
        },
        {
          "output_type": "stream",
          "name": "stderr",
          "text": [
            "WARNING:absl:You are saving your model as an HDF5 file via `model.save()` or `keras.saving.save_model(model)`. This file format is considered legacy. We recommend using instead the native Keras format, e.g. `model.save('my_model.keras')` or `keras.saving.save_model(model, 'my_model.keras')`. \n"
          ]
        },
        {
          "output_type": "stream",
          "name": "stdout",
          "text": [
            "63/63 - 32s - 506ms/step - loss: 10566.4502 - mae: 94.7735 - val_loss: 10297.0996 - val_mae: 93.0117 - learning_rate: 1.0000e-04\n",
            "Epoch 8/10\n",
            "\n",
            "Epoch 8: val_loss improved from 10297.09961 to 9095.76953, saving model to /content/drive/MyDrive/dataset-v2/checkpoints/model_part_4_with_sex.h5\n"
          ]
        },
        {
          "output_type": "stream",
          "name": "stderr",
          "text": [
            "WARNING:absl:You are saving your model as an HDF5 file via `model.save()` or `keras.saving.save_model(model)`. This file format is considered legacy. We recommend using instead the native Keras format, e.g. `model.save('my_model.keras')` or `keras.saving.save_model(model, 'my_model.keras')`. \n"
          ]
        },
        {
          "output_type": "stream",
          "name": "stdout",
          "text": [
            "63/63 - 41s - 645ms/step - loss: 9372.2129 - mae: 88.5280 - val_loss: 9095.7695 - val_mae: 86.6969 - learning_rate: 1.0000e-04\n",
            "Epoch 9/10\n",
            "\n",
            "Epoch 9: val_loss improved from 9095.76953 to 7944.34277, saving model to /content/drive/MyDrive/dataset-v2/checkpoints/model_part_4_with_sex.h5\n"
          ]
        },
        {
          "output_type": "stream",
          "name": "stderr",
          "text": [
            "WARNING:absl:You are saving your model as an HDF5 file via `model.save()` or `keras.saving.save_model(model)`. This file format is considered legacy. We recommend using instead the native Keras format, e.g. `model.save('my_model.keras')` or `keras.saving.save_model(model, 'my_model.keras')`. \n"
          ]
        },
        {
          "output_type": "stream",
          "name": "stdout",
          "text": [
            "63/63 - 25s - 394ms/step - loss: 8214.0000 - mae: 82.1272 - val_loss: 7944.3428 - val_mae: 80.3268 - learning_rate: 1.0000e-04\n",
            "Epoch 10/10\n",
            "\n",
            "Epoch 10: val_loss improved from 7944.34277 to 6868.52344, saving model to /content/drive/MyDrive/dataset-v2/checkpoints/model_part_4_with_sex.h5\n"
          ]
        },
        {
          "output_type": "stream",
          "name": "stderr",
          "text": [
            "WARNING:absl:You are saving your model as an HDF5 file via `model.save()` or `keras.saving.save_model(model)`. This file format is considered legacy. We recommend using instead the native Keras format, e.g. `model.save('my_model.keras')` or `keras.saving.save_model(model, 'my_model.keras')`. \n"
          ]
        },
        {
          "output_type": "stream",
          "name": "stdout",
          "text": [
            "63/63 - 32s - 505ms/step - loss: 7119.3345 - mae: 75.6679 - val_loss: 6868.5234 - val_mae: 74.0021 - learning_rate: 1.0000e-04\n",
            "Historique d'entraînement sauvegardé dans /content/drive/MyDrive/dataset-v2/checkpoints/history_part_4_with_sex.json\n",
            "Historique d'entraînement sauvegardé dans /content/drive/MyDrive/dataset-v2/checkpoints/history_part_4_with_sex.csv\n",
            "Graphique d'entraînement sauvegardé dans /content/drive/MyDrive/dataset-v2/checkpoints/training_plot_part_4_with_sex.png\n",
            "\u001b[1m79/79\u001b[0m \u001b[32m━━━━━━━━━━━━━━━━━━━━\u001b[0m\u001b[37m\u001b[0m \u001b[1m14s\u001b[0m 165ms/step\n",
            "\n",
            "📊 [Segment 4 avec entrée de sexe] MAE: 74.0021 | MSE: 6868.5244\n",
            "Métriques sauvegardées dans /content/drive/MyDrive/dataset-v2/checkpoints/metrics_part_4_with_sex.txt\n"
          ]
        },
        {
          "output_type": "execute_result",
          "data": {
            "text/plain": [
              "13363"
            ]
          },
          "metadata": {},
          "execution_count": 21
        },
        {
          "output_type": "display_data",
          "data": {
            "text/plain": [
              "<Figure size 1200x400 with 2 Axes>"
            ],
            "image/png": "[encoded data removed]"
          },
          "metadata": {}
        }
      ]
    },
    {
      "cell_type": "code",
      "source": [
        "import numpy as np\n",
        "import os\n",
        "import gc\n",
        "import json\n",
        "import pandas as pd\n",
        "import matplotlib.pyplot as plt\n",
        "from sklearn.metrics import mean_absolute_error, mean_squared_error\n",
        "from tensorflow.keras.applications import VGG16\n",
        "from tensorflow.keras.models import Model\n",
        "from tensorflow.keras.layers import Dense, GlobalAveragePooling2D, Input, Concatenate\n",
        "from tensorflow.keras.callbacks import EarlyStopping, ReduceLROnPlateau, ModelCheckpoint\n",
        "from tensorflow.keras.optimizers import Adam\n",
        "import tensorflow as tf\n",
        "\n",
        "# Générateur de données avec sexe\n",
        "class DataGeneratorWithSex:\n",
        "    def __init__(self, x_path, y_age_path, y_sex_path, batch_size, part_idx, total_parts):\n",
        "        self.x_path = x_path\n",
        "        self.y_age_path = y_age_path\n",
        "        self.y_sex_path = y_sex_path\n",
        "        self.batch_size = batch_size\n",
        "        self.part_idx = part_idx\n",
        "        self.total_parts = total_parts\n",
        "        self.x, self.y_age, self.y_sex = self.load_data_slice()\n",
        "\n",
        "    def load_data_slice(self):\n",
        "        x = np.load(self.x_path)\n",
        "        y_age = np.load(self.y_age_path)\n",
        "        y_sex = np.load(self.y_sex_path)\n",
        "\n",
        "        total_len = len(x)\n",
        "        part_size = total_len // self.total_parts\n",
        "        start = self.part_idx * part_size\n",
        "        end = (self.part_idx + 1) * part_size if self.part_idx < self.total_parts - 1 else total_len\n",
        "\n",
        "        return x[start:end], y_age[start:end], y_sex[start:end]\n",
        "\n",
        "    def create_tf_dataset(self):\n",
        "        # Préparer les données\n",
        "        x = self.x / 255.0\n",
        "        x = np.repeat(x, 3, axis=-1).astype(np.float32)  # Convertir en RGB\n",
        "\n",
        "        y_sex = self.y_sex.astype(np.float32)\n",
        "        y_sex = np.expand_dims(y_sex, axis=-1)\n",
        "\n",
        "        y_age = self.y_age.astype(np.float32)\n",
        "\n",
        "        # Créer le dataset directement à partir des tableaux numpy\n",
        "        dataset = tf.data.Dataset.from_tensor_slices(\n",
        "            (\n",
        "                {\n",
        "                    \"image_input\": x,\n",
        "                    \"sex_input\": y_sex\n",
        "                },\n",
        "                y_age\n",
        "            )\n",
        "        )\n",
        "\n",
        "        # Batching du dataset\n",
        "        dataset = dataset.batch(self.batch_size)\n",
        "\n",
        "        # Prefetch pour de meilleures performances\n",
        "        dataset = dataset.prefetch(tf.data.AUTOTUNE)\n",
        "\n",
        "        return dataset\n",
        "\n",
        "# Modèle avec entrée de sexe (inchangé)\n",
        "def build_model_with_sex_input():\n",
        "    # Entrée d'image\n",
        "    image_input = Input(shape=(224, 224, 3), name=\"image_input\")\n",
        "    base = VGG16(weights='imagenet', include_top=False, input_tensor=image_input)\n",
        "    for layer in base.layers:\n",
        "        layer.trainable = False  # Geler les couches de base pour le transfer learning\n",
        "\n",
        "    x = base.output\n",
        "    x = GlobalAveragePooling2D()(x)\n",
        "\n",
        "    # Entrée de sexe\n",
        "    sex_input = Input(shape=(1,), name=\"sex_input\")\n",
        "\n",
        "    # Combiner les deux entrées\n",
        "    combined = Concatenate()([x, sex_input])\n",
        "    combined = Dense(128, activation='relu')(combined)\n",
        "    output = Dense(1)(combined)  # Prédire l'âge\n",
        "\n",
        "    model = Model(inputs=[image_input, sex_input], outputs=output)\n",
        "    model.compile(optimizer=Adam(learning_rate=1e-4), loss='mse', metrics=['mae'])\n",
        "    return model\n",
        "\n",
        "# Paramètres d'entraînement\n",
        "BATCH_SIZE = 32\n",
        "EPOCHS = 10\n",
        "PARTS = 5\n",
        "SEGMENT = 5  # 5ème segment\n",
        "\n",
        "# Répertoire des checkpoints\n",
        "checkpoint_dir = '/content/drive/MyDrive/dataset-v2/checkpoints'\n",
        "os.makedirs(checkpoint_dir, exist_ok=True)\n",
        "\n",
        "# Créer le modèle\n",
        "model = build_model_with_sex_input()\n",
        "\n",
        "# Créer le générateur de données pour l'entraînement\n",
        "train_generator = DataGeneratorWithSex(\n",
        "    x_path='/content/drive/MyDrive/dataset-v2/npy_files/X_train.npy',\n",
        "    y_age_path='/content/drive/MyDrive/dataset-v2/npy_files/y_train_age.npy',\n",
        "    y_sex_path='/content/drive/MyDrive/dataset-v2/npy_files/sex_train.npy',\n",
        "    batch_size=BATCH_SIZE,\n",
        "    part_idx=SEGMENT-1,  # Convertir en index 0-based (segment 5 = index 4)\n",
        "    total_parts=PARTS\n",
        ")\n",
        "\n",
        "# Créer le dataset TF\n",
        "train_dataset = train_generator.create_tf_dataset()\n",
        "\n",
        "# Préparer les données de validation\n",
        "x_val = np.load('/content/drive/MyDrive/dataset-v2/npy_files/X_val.npy') / 255.0\n",
        "y_val_age = np.load('/content/drive/MyDrive/dataset-v2/npy_files/y_val_age.npy')\n",
        "y_val_sex = np.load('/content/drive/MyDrive/dataset-v2/npy_files/sex_val.npy')\n",
        "x_val_rgb = np.repeat(x_val, 3, axis=-1).astype(np.float32)\n",
        "y_val_sex = np.expand_dims(y_val_sex, axis=-1).astype(np.float32)\n",
        "\n",
        "# Callbacks d'entraînement\n",
        "model_path = f\"{checkpoint_dir}/model_part_{SEGMENT}_with_sex.h5\"\n",
        "callbacks = [\n",
        "    EarlyStopping(patience=3, restore_best_weights=True),\n",
        "    ReduceLROnPlateau(patience=2, factor=0.5, verbose=1),\n",
        "    ModelCheckpoint(filepath=model_path, save_best_only=True, monitor='val_loss', verbose=1)\n",
        "]\n",
        "\n",
        "print(f\"\\n🚀 Entraînement sur le segment {SEGMENT}/{PARTS} avec entrée de sexe\")\n",
        "\n",
        "# Libérer de la mémoire avant l'entraînement\n",
        "gc.collect()\n",
        "tf.keras.backend.clear_session()\n",
        "\n",
        "# Entraînement avec historique\n",
        "history = model.fit(\n",
        "    train_dataset,\n",
        "    epochs=EPOCHS,\n",
        "    validation_data=(\n",
        "        {\n",
        "            \"image_input\": x_val_rgb,\n",
        "            \"sex_input\": y_val_sex\n",
        "        },\n",
        "        y_val_age\n",
        "    ),\n",
        "    callbacks=callbacks,\n",
        "    verbose=2\n",
        ")\n",
        "\n",
        "# Sauvegarder l'historique d'entraînement\n",
        "history_dict = history.history\n",
        "history_dict = {key: [float(i) for i in history_dict[key]] for key in history_dict}  # Convertir pour JSON\n",
        "\n",
        "# Sauvegarder en JSON\n",
        "history_file = f\"{checkpoint_dir}/history_part_{SEGMENT}_with_sex.json\"\n",
        "with open(history_file, 'w') as f:\n",
        "    json.dump(history_dict, f)\n",
        "print(f\"Historique d'entraînement sauvegardé dans {history_file}\")\n",
        "\n",
        "# Sauvegarder en CSV\n",
        "history_df = pd.DataFrame(history_dict)\n",
        "csv_file = f\"{checkpoint_dir}/history_part_{SEGMENT}_with_sex.csv\"\n",
        "history_df.to_csv(csv_file, index_label='epoch')\n",
        "print(f\"Historique d'entraînement sauvegardé dans {csv_file}\")\n",
        "\n",
        "# Créer et sauvegarder les graphiques d'entraînement\n",
        "plt.figure(figsize=(12, 4))\n",
        "\n",
        "# Graphique des pertes\n",
        "plt.subplot(1, 2, 1)\n",
        "plt.plot(history_dict['loss'])\n",
        "plt.plot(history_dict['val_loss'])\n",
        "plt.title('Perte du modèle')\n",
        "plt.ylabel('Perte')\n",
        "plt.xlabel('Époque')\n",
        "plt.legend(['Entraînement', 'Validation'], loc='upper right')\n",
        "\n",
        "# Graphique des MAE\n",
        "plt.subplot(1, 2, 2)\n",
        "plt.plot(history_dict['mae'])\n",
        "plt.plot(history_dict['val_mae'])\n",
        "plt.title('MAE du modèle')\n",
        "plt.ylabel('MAE')\n",
        "plt.xlabel('Époque')\n",
        "plt.legend(['Entraînement', 'Validation'], loc='upper right')\n",
        "\n",
        "plt.tight_layout()\n",
        "plot_file = f\"{checkpoint_dir}/training_plot_part_{SEGMENT}_with_sex.png\"\n",
        "plt.savefig(plot_file)\n",
        "print(f\"Graphique d'entraînement sauvegardé dans {plot_file}\")\n",
        "\n",
        "# Évaluer sur les données de validation\n",
        "predictions = model.predict({\n",
        "    \"image_input\": x_val_rgb,\n",
        "    \"sex_input\": y_val_sex\n",
        "})\n",
        "mae = mean_absolute_error(y_val_age, predictions)\n",
        "mse = mean_squared_error(y_val_age, predictions)\n",
        "print(f\"\\n📊 [Segment {SEGMENT} avec entrée de sexe] MAE: {mae:.4f} | MSE: {mse:.4f}\")\n",
        "\n",
        "# Sauvegarder les métriques dans un fichier\n",
        "metrics_file = f\"{checkpoint_dir}/metrics_part_{SEGMENT}_with_sex.txt\"\n",
        "with open(metrics_file, 'w') as f:\n",
        "    f.write(f\"MAE: {mae:.4f}\\n\")\n",
        "    f.write(f\"MSE: {mse:.4f}\\n\")\n",
        "print(f\"Métriques sauvegardées dans {metrics_file}\")\n",
        "\n",
        "# Libérer la mémoire après l'entraînement\n",
        "gc.collect()"
      ],
      "metadata": {
        "colab": {
          "base_uri": "https://localhost:8080/",
          "height": 1000
        },
        "id": "3g-cBJuZ7xTc",
        "outputId": "1c5a5b9d-3457-44ef-bacc-94eba946c2fd"
      },
      "execution_count": 24,
      "outputs": [
        {
          "output_type": "stream",
          "name": "stdout",
          "text": [
            "\n",
            "🚀 Entraînement sur le segment 5/5 avec entrée de sexe\n",
            "Epoch 1/10\n",
            "\n",
            "Epoch 1: val_loss improved from inf to 17009.93945, saving model to /content/drive/MyDrive/dataset-v2/checkpoints/model_part_5_with_sex.h5\n"
          ]
        },
        {
          "output_type": "stream",
          "name": "stderr",
          "text": [
            "WARNING:absl:You are saving your model as an HDF5 file via `model.save()` or `keras.saving.save_model(model)`. This file format is considered legacy. We recommend using instead the native Keras format, e.g. `model.save('my_model.keras')` or `keras.saving.save_model(model, 'my_model.keras')`. \n"
          ]
        },
        {
          "output_type": "stream",
          "name": "stdout",
          "text": [
            "63/63 - 38s - 603ms/step - loss: 16936.0723 - mae: 123.4335 - val_loss: 17009.9395 - val_mae: 123.5364 - learning_rate: 1.0000e-04\n",
            "Epoch 2/10\n",
            "\n",
            "Epoch 2: val_loss improved from 17009.93945 to 16111.96484, saving model to /content/drive/MyDrive/dataset-v2/checkpoints/model_part_5_with_sex.h5\n"
          ]
        },
        {
          "output_type": "stream",
          "name": "stderr",
          "text": [
            "WARNING:absl:You are saving your model as an HDF5 file via `model.save()` or `keras.saving.save_model(model)`. This file format is considered legacy. We recommend using instead the native Keras format, e.g. `model.save('my_model.keras')` or `keras.saving.save_model(model, 'my_model.keras')`. \n"
          ]
        },
        {
          "output_type": "stream",
          "name": "stdout",
          "text": [
            "63/63 - 31s - 499ms/step - loss: 16012.2793 - mae: 119.6423 - val_loss: 16111.9648 - val_mae: 119.8557 - learning_rate: 1.0000e-04\n",
            "Epoch 3/10\n",
            "\n",
            "Epoch 3: val_loss improved from 16111.96484 to 15191.29199, saving model to /content/drive/MyDrive/dataset-v2/checkpoints/model_part_5_with_sex.h5\n"
          ]
        },
        {
          "output_type": "stream",
          "name": "stderr",
          "text": [
            "WARNING:absl:You are saving your model as an HDF5 file via `model.save()` or `keras.saving.save_model(model)`. This file format is considered legacy. We recommend using instead the native Keras format, e.g. `model.save('my_model.keras')` or `keras.saving.save_model(model, 'my_model.keras')`. \n"
          ]
        },
        {
          "output_type": "stream",
          "name": "stdout",
          "text": [
            "63/63 - 31s - 497ms/step - loss: 15126.0713 - mae: 115.8927 - val_loss: 15191.2920 - val_mae: 115.9643 - learning_rate: 1.0000e-04\n",
            "Epoch 4/10\n",
            "\n",
            "Epoch 4: val_loss improved from 15191.29199 to 14209.31641, saving model to /content/drive/MyDrive/dataset-v2/checkpoints/model_part_5_with_sex.h5\n"
          ]
        },
        {
          "output_type": "stream",
          "name": "stderr",
          "text": [
            "WARNING:absl:You are saving your model as an HDF5 file via `model.save()` or `keras.saving.save_model(model)`. This file format is considered legacy. We recommend using instead the native Keras format, e.g. `model.save('my_model.keras')` or `keras.saving.save_model(model, 'my_model.keras')`. \n"
          ]
        },
        {
          "output_type": "stream",
          "name": "stdout",
          "text": [
            "63/63 - 33s - 524ms/step - loss: 14191.9521 - mae: 111.8091 - val_loss: 14209.3164 - val_mae: 111.6775 - learning_rate: 1.0000e-04\n",
            "Epoch 5/10\n",
            "\n",
            "Epoch 5: val_loss improved from 14209.31641 to 13173.97461, saving model to /content/drive/MyDrive/dataset-v2/checkpoints/model_part_5_with_sex.h5\n"
          ]
        },
        {
          "output_type": "stream",
          "name": "stderr",
          "text": [
            "WARNING:absl:You are saving your model as an HDF5 file via `model.save()` or `keras.saving.save_model(model)`. This file format is considered legacy. We recommend using instead the native Keras format, e.g. `model.save('my_model.keras')` or `keras.saving.save_model(model, 'my_model.keras')`. \n"
          ]
        },
        {
          "output_type": "stream",
          "name": "stdout",
          "text": [
            "63/63 - 32s - 501ms/step - loss: 13200.3740 - mae: 107.3299 - val_loss: 13173.9746 - val_mae: 106.9847 - learning_rate: 1.0000e-04\n",
            "Epoch 6/10\n",
            "\n",
            "Epoch 6: val_loss improved from 13173.97461 to 12103.23340, saving model to /content/drive/MyDrive/dataset-v2/checkpoints/model_part_5_with_sex.h5\n"
          ]
        },
        {
          "output_type": "stream",
          "name": "stderr",
          "text": [
            "WARNING:absl:You are saving your model as an HDF5 file via `model.save()` or `keras.saving.save_model(model)`. This file format is considered legacy. We recommend using instead the native Keras format, e.g. `model.save('my_model.keras')` or `keras.saving.save_model(model, 'my_model.keras')`. \n"
          ]
        },
        {
          "output_type": "stream",
          "name": "stdout",
          "text": [
            "63/63 - 24s - 380ms/step - loss: 12165.6670 - mae: 102.4810 - val_loss: 12103.2334 - val_mae: 101.9574 - learning_rate: 1.0000e-04\n",
            "Epoch 7/10\n",
            "\n",
            "Epoch 7: val_loss improved from 12103.23340 to 11017.40918, saving model to /content/drive/MyDrive/dataset-v2/checkpoints/model_part_5_with_sex.h5\n"
          ]
        },
        {
          "output_type": "stream",
          "name": "stderr",
          "text": [
            "WARNING:absl:You are saving your model as an HDF5 file via `model.save()` or `keras.saving.save_model(model)`. This file format is considered legacy. We recommend using instead the native Keras format, e.g. `model.save('my_model.keras')` or `keras.saving.save_model(model, 'my_model.keras')`. \n"
          ]
        },
        {
          "output_type": "stream",
          "name": "stdout",
          "text": [
            "63/63 - 32s - 507ms/step - loss: 11107.0723 - mae: 97.3226 - val_loss: 11017.4092 - val_mae: 96.6647 - learning_rate: 1.0000e-04\n",
            "Epoch 8/10\n",
            "\n",
            "Epoch 8: val_loss improved from 11017.40918 to 9937.37891, saving model to /content/drive/MyDrive/dataset-v2/checkpoints/model_part_5_with_sex.h5\n"
          ]
        },
        {
          "output_type": "stream",
          "name": "stderr",
          "text": [
            "WARNING:absl:You are saving your model as an HDF5 file via `model.save()` or `keras.saving.save_model(model)`. This file format is considered legacy. We recommend using instead the native Keras format, e.g. `model.save('my_model.keras')` or `keras.saving.save_model(model, 'my_model.keras')`. \n"
          ]
        },
        {
          "output_type": "stream",
          "name": "stdout",
          "text": [
            "63/63 - 41s - 649ms/step - loss: 10045.1279 - mae: 91.9132 - val_loss: 9937.3789 - val_mae: 91.1574 - learning_rate: 1.0000e-04\n",
            "Epoch 9/10\n",
            "\n",
            "Epoch 9: val_loss improved from 9937.37891 to 8883.42188, saving model to /content/drive/MyDrive/dataset-v2/checkpoints/model_part_5_with_sex.h5\n"
          ]
        },
        {
          "output_type": "stream",
          "name": "stderr",
          "text": [
            "WARNING:absl:You are saving your model as an HDF5 file via `model.save()` or `keras.saving.save_model(model)`. This file format is considered legacy. We recommend using instead the native Keras format, e.g. `model.save('my_model.keras')` or `keras.saving.save_model(model, 'my_model.keras')`. \n"
          ]
        },
        {
          "output_type": "stream",
          "name": "stdout",
          "text": [
            "63/63 - 32s - 506ms/step - loss: 9000.3145 - mae: 86.3269 - val_loss: 8883.4219 - val_mae: 85.5526 - learning_rate: 1.0000e-04\n",
            "Epoch 10/10\n",
            "\n",
            "Epoch 10: val_loss improved from 8883.42188 to 7874.32373, saving model to /content/drive/MyDrive/dataset-v2/checkpoints/model_part_5_with_sex.h5\n"
          ]
        },
        {
          "output_type": "stream",
          "name": "stderr",
          "text": [
            "WARNING:absl:You are saving your model as an HDF5 file via `model.save()` or `keras.saving.save_model(model)`. This file format is considered legacy. We recommend using instead the native Keras format, e.g. `model.save('my_model.keras')` or `keras.saving.save_model(model, 'my_model.keras')`. \n"
          ]
        },
        {
          "output_type": "stream",
          "name": "stdout",
          "text": [
            "63/63 - 32s - 507ms/step - loss: 7992.0166 - mae: 80.6344 - val_loss: 7874.3237 - val_mae: 79.9302 - learning_rate: 1.0000e-04\n",
            "Historique d'entraînement sauvegardé dans /content/drive/MyDrive/dataset-v2/checkpoints/history_part_5_with_sex.json\n",
            "Historique d'entraînement sauvegardé dans /content/drive/MyDrive/dataset-v2/checkpoints/history_part_5_with_sex.csv\n",
            "Graphique d'entraînement sauvegardé dans /content/drive/MyDrive/dataset-v2/checkpoints/training_plot_part_5_with_sex.png\n",
            "\u001b[1m79/79\u001b[0m \u001b[32m━━━━━━━━━━━━━━━━━━━━\u001b[0m\u001b[37m\u001b[0m \u001b[1m14s\u001b[0m 169ms/step\n",
            "\n",
            "📊 [Segment 5 avec entrée de sexe] MAE: 79.9302 | MSE: 7874.3257\n",
            "Métriques sauvegardées dans /content/drive/MyDrive/dataset-v2/checkpoints/metrics_part_5_with_sex.txt\n"
          ]
        },
        {
          "output_type": "execute_result",
          "data": {
            "text/plain": [
              "10301"
            ]
          },
          "metadata": {},
          "execution_count": 24
        },
        {
          "output_type": "display_data",
          "data": {
            "text/plain": [
              "<Figure size 1200x400 with 2 Axes>"
            ],
            "image/png": "[encoded data removed]"
          },
          "metadata": {}
        }
      ]
    },
    {
      "cell_type": "code",
      "source": [
        "import numpy as np\n",
        "import os\n",
        "import json\n",
        "import gc\n",
        "import pandas as pd\n",
        "import matplotlib.pyplot as plt\n",
        "from sklearn.metrics import mean_absolute_error, mean_squared_error\n",
        "from tensorflow.keras.models import load_model\n",
        "from tensorflow.keras.applications import VGG16\n",
        "from tensorflow.keras.models import Model\n",
        "from tensorflow.keras.layers import Dense, GlobalAveragePooling2D, Input, Concatenate\n",
        "from tensorflow.keras.optimizers import Adam\n",
        "from tensorflow.keras.callbacks import ReduceLROnPlateau, EarlyStopping, ModelCheckpoint\n",
        "import tensorflow as tf\n",
        "\n",
        "# Fonction pour construire le modèle avec entrée de sexe\n",
        "def build_model_with_sex_input(trainable_base=False):\n",
        "    image_input = Input(shape=(224, 224, 3), name=\"image_input\")\n",
        "    base = VGG16(weights='imagenet', include_top=False, input_tensor=image_input)\n",
        "\n",
        "    # Rendre certaines couches de VGG16 entraînables ou non\n",
        "    for layer in base.layers:\n",
        "        layer.trainable = trainable_base\n",
        "\n",
        "    x = base.output\n",
        "    x = GlobalAveragePooling2D()(x)\n",
        "\n",
        "    sex_input = Input(shape=(1,), name=\"sex_input\")\n",
        "    combined = Concatenate()([x, sex_input])\n",
        "    combined = Dense(128, activation='relu')(combined)\n",
        "    output = Dense(1)(combined)\n",
        "\n",
        "    model = Model(inputs=[image_input, sex_input], outputs=output)\n",
        "    model.compile(optimizer=Adam(learning_rate=1e-4), loss='mse', metrics=['mae'])\n",
        "    return model\n",
        "\n",
        "# Charger le modèle final si nécessaire\n",
        "checkpoint_dir = '/content/drive/MyDrive/dataset-v2/checkpoints'\n",
        "final_model_path = f\"{checkpoint_dir}/final_model_with_sex.h5\"\n",
        "\n",
        "if os.path.exists(final_model_path):\n",
        "    print(\"📂 Chargement du modèle existant...\")\n",
        "    model = load_model(final_model_path)\n",
        "else:\n",
        "    print(\"⚙️ Construction d'un modèle neuf...\")\n",
        "    model = build_model_with_sex_input()\n",
        "\n",
        "# Charger toutes les données de validation\n",
        "x_val = np.load('/content/drive/MyDrive/dataset-v2/npy_files/X_val.npy') / 255.0\n",
        "y_val_age = np.load('/content/drive/MyDrive/dataset-v2/npy_files/y_val_age.npy')\n",
        "y_val_sex = np.load('/content/drive/MyDrive/dataset-v2/npy_files/sex_val.npy')\n",
        "\n",
        "x_val_rgb = np.repeat(x_val, 3, axis=-1).astype(np.float32)\n",
        "y_val_sex = np.expand_dims(y_val_sex, axis=-1).astype(np.float32)\n",
        "\n",
        "# Prédictions globales\n",
        "print(\"\\n🔍 Prédiction globale des données de validation...\")\n",
        "global_predictions = model.predict({\n",
        "    \"image_input\": x_val_rgb,\n",
        "    \"sex_input\": y_val_sex\n",
        "})\n",
        "\n",
        "# Calcul des métriques globales\n",
        "global_mae = mean_absolute_error(y_val_age, global_predictions)\n",
        "global_mse = mean_squared_error(y_val_age, global_predictions)\n",
        "print(f\"\\n📊 [Validation Finale] MAE: {global_mae:.4f} | MSE: {global_mse:.4f}\")\n",
        "\n",
        "# Sauvegarder les métriques dans un fichier\n",
        "metrics_file = f\"{checkpoint_dir}/final_metrics_with_sex.txt\"\n",
        "with open(metrics_file, 'w') as f:\n",
        "    f.write(f\"MAE: {global_mae:.4f}\\n\")\n",
        "    f.write(f\"MSE: {global_mse:.4f}\\n\")\n",
        "print(f\"Métriques sauvegardées dans {metrics_file}\")\n",
        "\n",
        "# Distribution des prédictions\n",
        "plt.figure(figsize=(10, 6))\n",
        "plt.scatter(y_val_age, global_predictions, alpha=0.5, label=\"Prédictions\")\n",
        "plt.plot([y_val_age.min(), y_val_age.max()], [y_val_age.min(), y_val_age.max()], 'r--', label=\"Idéal\")\n",
        "plt.xlabel(\"Âges réels\")\n",
        "plt.ylabel(\"Âges prédites\")\n",
        "plt.title(\"Distribution des Prédictions\")\n",
        "plt.legend()\n",
        "plt.grid(True)\n",
        "plot_distribution_file = f\"{checkpoint_dir}/final_prediction_distribution.png\"\n",
        "plt.savefig(plot_distribution_file)\n",
        "plt.show()\n",
        "print(f\"Graphique de distribution sauvegardé dans {plot_distribution_file}\")\n",
        "\n",
        "# Défiger et réentraîner pour améliorer les performances\n",
        "print(\"\\n⚙️ Réentraîner le modèle avec des couches non gelées pour améliorer les performances...\")\n",
        "model = build_model_with_sex_input(trainable_base=True)\n",
        "\n",
        "# Callbacks pour le réentraînement\n",
        "fine_tune_model_path = f\"{checkpoint_dir}/fine_tuned_model_with_sex.h5\"\n",
        "callbacks = [\n",
        "    EarlyStopping(patience=3, restore_best_weights=True),\n",
        "    ReduceLROnPlateau(patience=2, factor=0.5, verbose=1),\n",
        "    ModelCheckpoint(filepath=fine_tune_model_path, save_best_only=True, monitor='val_loss', verbose=1)\n",
        "]\n",
        "\n",
        "# Réentraîner le modèle\n",
        "history = model.fit(\n",
        "    {\n",
        "        \"image_input\": x_val_rgb,\n",
        "        \"sex_input\": y_val_sex\n",
        "    },\n",
        "    y_val_age,\n",
        "    epochs=10,\n",
        "    batch_size=32,\n",
        "    validation_split=0.2,\n",
        "    callbacks=callbacks,\n",
        "    verbose=2\n",
        ")\n",
        "\n",
        "# Sauvegarder l'historique d'entraînement\n",
        "fine_tune_history_file = f\"{checkpoint_dir}/fine_tune_history_with_sex.json\"\n",
        "history_dict = history.history\n",
        "with open(fine_tune_history_file, 'w') as f:\n",
        "    json.dump(history_dict, f)\n",
        "print(f\"Historique de réentraînement sauvegardé dans {fine_tune_history_file}\")\n",
        "\n",
        "# Visualisation des résultats de réentraînement\n",
        "plt.figure(figsize=(12, 4))\n",
        "plt.subplot(1, 2, 1)\n",
        "plt.plot(history_dict['loss'], label='Perte entraînement')\n",
        "plt.plot(history_dict['val_loss'], label='Perte validation')\n",
        "plt.title('Perte du modèle (Fine-Tuning)')\n",
        "plt.legend()\n",
        "\n",
        "plt.subplot(1, 2, 2)\n",
        "plt.plot(history_dict['mae'], label='MAE entraînement')\n",
        "plt.plot(history_dict['val_mae'], label='MAE validation')\n",
        "plt.title('MAE du modèle (Fine-Tuning)')\n",
        "plt.legend()\n",
        "\n",
        "fine_tune_plot_file = f\"{checkpoint_dir}/fine_tune_training_plot_with_sex.png\"\n",
        "plt.savefig(fine_tune_plot_file)\n",
        "print(f\"Graphique de réentraînement sauvegardé dans {fine_tune_plot_file}\")\n",
        "plt.show()\n",
        "\n",
        "# Sauvegarder le modèle final\n",
        "model.save(fine_tune_model_path)\n",
        "print(f\"📂 Modèle final (après fine-tuning) sauvegardé dans {fine_tune_model_path}\")"
      ],
      "metadata": {
        "colab": {
          "base_uri": "https://localhost:8080/",
          "height": 1000
        },
        "id": "MxJ_S9Qp-hNd",
        "outputId": "0667e1a5-e7f0-406a-ef94-2be735a04d78"
      },
      "execution_count": 25,
      "outputs": [
        {
          "metadata": {
            "tags": null
          },
          "name": "stdout",
          "output_type": "stream",
          "text": [
            "⚙️ Construction d'un modèle neuf...\n",
            "\n",
            "🔍 Prédiction globale des données de validation...\n",
            "\u001b[1m79/79\u001b[0m \u001b[32m━━━━━━━━━━━━━━━━━━━━\u001b[0m\u001b[37m\u001b[0m \u001b[1m13s\u001b[0m 154ms/step\n",
            "\n",
            "📊 [Validation Finale] MAE: 128.3370 | MSE: 18222.1719\n",
            "Métriques sauvegardées dans /content/drive/MyDrive/dataset-v2/checkpoints/final_metrics_with_sex.txt\n"
          ]
        },
        {
          "data": {
            "image/png": "[encoded data removed]",
            "text/plain": [
              "<Figure size 1000x600 with 1 Axes>"
            ]
          },
          "metadata": {},
          "output_type": "display_data"
        },
        {
          "metadata": {
            "tags": null
          },
          "name": "stdout",
          "output_type": "stream",
          "text": [
            "Graphique de distribution sauvegardé dans /content/drive/MyDrive/dataset-v2/checkpoints/final_prediction_distribution.png\n",
            "\n",
            "⚙️ Réentraîner le modèle avec des couches non gelées pour améliorer les performances...\n",
            "Epoch 1/10\n",
            "\n",
            "Epoch 1: val_loss improved from inf to 1637.06946, saving model to /content/drive/MyDrive/dataset-v2/checkpoints/fine_tuned_model_with_sex.h5\n"
          ]
        },
        {
          "metadata": {
            "tags": null
          },
          "name": "stderr",
          "output_type": "stream",
          "text": [
            "WARNING:absl:You are saving your model as an HDF5 file via `model.save()` or `keras.saving.save_model(model)`. This file format is considered legacy. We recommend using instead the native Keras format, e.g. `model.save('my_model.keras')` or `keras.saving.save_model(model, 'my_model.keras')`. \n"
          ]
        },
        {
          "output_type": "stream",
          "name": "stdout",
          "text": [
            "63/63 - 113s - 2s/step - loss: 2948.6707 - mae: 42.1315 - val_loss: 1637.0695 - val_mae: 33.3805 - learning_rate: 1.0000e-04\n",
            "Epoch 2/10\n",
            "\n",
            "Epoch 2: val_loss did not improve from 1637.06946\n",
            "63/63 - 64s - 1s/step - loss: 1831.5389 - mae: 34.9439 - val_loss: 1825.1637 - val_mae: 36.2941 - learning_rate: 1.0000e-04\n",
            "Epoch 3/10\n",
            "\n",
            "Epoch 3: ReduceLROnPlateau reducing learning rate to 4.999999873689376e-05.\n",
            "\n",
            "Epoch 3: val_loss did not improve from 1637.06946\n",
            "63/63 - 34s - 533ms/step - loss: 1946.2957 - mae: 35.9866 - val_loss: 1766.0936 - val_mae: 32.0615 - learning_rate: 1.0000e-04\n",
            "Epoch 4/10\n",
            "\n",
            "Epoch 4: val_loss improved from 1637.06946 to 1517.59741, saving model to /content/drive/MyDrive/dataset-v2/checkpoints/fine_tuned_model_with_sex.h5\n"
          ]
        },
        {
          "output_type": "stream",
          "name": "stderr",
          "text": [
            "WARNING:absl:You are saving your model as an HDF5 file via `model.save()` or `keras.saving.save_model(model)`. This file format is considered legacy. We recommend using instead the native Keras format, e.g. `model.save('my_model.keras')` or `keras.saving.save_model(model, 'my_model.keras')`. \n"
          ]
        },
        {
          "output_type": "stream",
          "name": "stdout",
          "text": [
            "63/63 - 42s - 666ms/step - loss: 1733.0831 - mae: 33.9415 - val_loss: 1517.5974 - val_mae: 31.1338 - learning_rate: 5.0000e-05\n",
            "Epoch 5/10\n",
            "\n",
            "Epoch 5: val_loss improved from 1517.59741 to 1495.69421, saving model to /content/drive/MyDrive/dataset-v2/checkpoints/fine_tuned_model_with_sex.h5\n"
          ]
        },
        {
          "output_type": "stream",
          "name": "stderr",
          "text": [
            "WARNING:absl:You are saving your model as an HDF5 file via `model.save()` or `keras.saving.save_model(model)`. This file format is considered legacy. We recommend using instead the native Keras format, e.g. `model.save('my_model.keras')` or `keras.saving.save_model(model, 'my_model.keras')`. \n"
          ]
        },
        {
          "output_type": "stream",
          "name": "stdout",
          "text": [
            "63/63 - 45s - 721ms/step - loss: 1705.3390 - mae: 33.7893 - val_loss: 1495.6942 - val_mae: 30.6434 - learning_rate: 5.0000e-05\n",
            "Epoch 6/10\n",
            "\n",
            "Epoch 6: val_loss improved from 1495.69421 to 1446.53503, saving model to /content/drive/MyDrive/dataset-v2/checkpoints/fine_tuned_model_with_sex.h5\n"
          ]
        },
        {
          "output_type": "stream",
          "name": "stderr",
          "text": [
            "WARNING:absl:You are saving your model as an HDF5 file via `model.save()` or `keras.saving.save_model(model)`. This file format is considered legacy. We recommend using instead the native Keras format, e.g. `model.save('my_model.keras')` or `keras.saving.save_model(model, 'my_model.keras')`. \n"
          ]
        },
        {
          "output_type": "stream",
          "name": "stdout",
          "text": [
            "63/63 - 42s - 659ms/step - loss: 1706.0327 - mae: 33.5805 - val_loss: 1446.5350 - val_mae: 30.9623 - learning_rate: 5.0000e-05\n",
            "Epoch 7/10\n",
            "\n",
            "Epoch 7: val_loss did not improve from 1446.53503\n",
            "63/63 - 32s - 504ms/step - loss: 1536.2462 - mae: 31.8821 - val_loss: 1570.2867 - val_mae: 33.2845 - learning_rate: 5.0000e-05\n",
            "Epoch 8/10\n",
            "\n",
            "Epoch 8: ReduceLROnPlateau reducing learning rate to 2.499999936844688e-05.\n",
            "\n",
            "Epoch 8: val_loss did not improve from 1446.53503\n",
            "63/63 - 32s - 507ms/step - loss: 1476.9672 - mae: 31.1185 - val_loss: 1674.4084 - val_mae: 34.4429 - learning_rate: 5.0000e-05\n",
            "Epoch 9/10\n",
            "\n",
            "Epoch 9: val_loss improved from 1446.53503 to 1201.45349, saving model to /content/drive/MyDrive/dataset-v2/checkpoints/fine_tuned_model_with_sex.h5\n"
          ]
        },
        {
          "output_type": "stream",
          "name": "stderr",
          "text": [
            "WARNING:absl:You are saving your model as an HDF5 file via `model.save()` or `keras.saving.save_model(model)`. This file format is considered legacy. We recommend using instead the native Keras format, e.g. `model.save('my_model.keras')` or `keras.saving.save_model(model, 'my_model.keras')`. \n"
          ]
        },
        {
          "output_type": "stream",
          "name": "stdout",
          "text": [
            "63/63 - 50s - 799ms/step - loss: 1343.0747 - mae: 29.6538 - val_loss: 1201.4535 - val_mae: 27.7051 - learning_rate: 2.5000e-05\n",
            "Epoch 10/10\n",
            "\n",
            "Epoch 10: val_loss improved from 1201.45349 to 1177.33984, saving model to /content/drive/MyDrive/dataset-v2/checkpoints/fine_tuned_model_with_sex.h5\n"
          ]
        },
        {
          "output_type": "stream",
          "name": "stderr",
          "text": [
            "WARNING:absl:You are saving your model as an HDF5 file via `model.save()` or `keras.saving.save_model(model)`. This file format is considered legacy. We recommend using instead the native Keras format, e.g. `model.save('my_model.keras')` or `keras.saving.save_model(model, 'my_model.keras')`. \n"
          ]
        },
        {
          "output_type": "stream",
          "name": "stdout",
          "text": [
            "63/63 - 82s - 1s/step - loss: 1244.5809 - mae: 28.7198 - val_loss: 1177.3398 - val_mae: 28.2166 - learning_rate: 2.5000e-05\n",
            "Historique de réentraînement sauvegardé dans /content/drive/MyDrive/dataset-v2/checkpoints/fine_tune_history_with_sex.json\n",
            "Graphique de réentraînement sauvegardé dans /content/drive/MyDrive/dataset-v2/checkpoints/fine_tune_training_plot_with_sex.png\n"
          ]
        },
        {
          "output_type": "display_data",
          "data": {
            "text/plain": [
              "<Figure size 1200x400 with 2 Axes>"
            ],
            "image/png": "[encoded data removed]"
          },
          "metadata": {}
        },
        {
          "output_type": "stream",
          "name": "stderr",
          "text": [
            "WARNING:absl:You are saving your model as an HDF5 file via `model.save()` or `keras.saving.save_model(model)`. This file format is considered legacy. We recommend using instead the native Keras format, e.g. `model.save('my_model.keras')` or `keras.saving.save_model(model, 'my_model.keras')`. \n"
          ]
        },
        {
          "output_type": "stream",
          "name": "stdout",
          "text": [
            "📂 Modèle final (après fine-tuning) sauvegardé dans /content/drive/MyDrive/dataset-v2/checkpoints/fine_tuned_model_with_sex.h5\n"
          ]
        }
      ]
    },
    {
      "cell_type": "code",
      "source": [
        "import numpy as np\n",
        "import os\n",
        "import json\n",
        "import gc\n",
        "import pandas as pd\n",
        "import matplotlib.pyplot as plt\n",
        "from sklearn.metrics import mean_absolute_error, mean_squared_error\n",
        "from tensorflow.keras.models import load_model\n",
        "from tensorflow.keras.applications import VGG16\n",
        "from tensorflow.keras.models import Model\n",
        "from tensorflow.keras.layers import Dense, GlobalAveragePooling2D, Input, Concatenate\n",
        "from tensorflow.keras.optimizers import Adam\n",
        "from tensorflow.keras.callbacks import ReduceLROnPlateau, EarlyStopping, ModelCheckpoint\n",
        "from tensorflow.keras.metrics import MeanSquaredError\n",
        "\n",
        "# Fonction pour construire le modèle avec entrée de sexe\n",
        "def build_model_with_sex_input(trainable_base=False):\n",
        "    image_input = Input(shape=(224, 224, 3), name=\"image_input\")\n",
        "    base = VGG16(weights='imagenet', include_top=False, input_tensor=image_input)\n",
        "\n",
        "    # Rendre certaines couches de VGG16 entraînables ou non\n",
        "    for layer in base.layers:\n",
        "        layer.trainable = trainable_base\n",
        "\n",
        "    x = base.output\n",
        "    x = GlobalAveragePooling2D()(x)\n",
        "\n",
        "    sex_input = Input(shape=(1,), name=\"sex_input\")\n",
        "    combined = Concatenate()([x, sex_input])\n",
        "    combined = Dense(128, activation='relu')(combined)\n",
        "    output = Dense(1)(combined)\n",
        "\n",
        "    model = Model(inputs=[image_input, sex_input], outputs=output)\n",
        "    model.compile(optimizer=Adam(learning_rate=1e-4), loss='mse', metrics=[MeanSquaredError(), 'mae'])\n",
        "    return model\n",
        "\n",
        "# Répertoire des checkpoints\n",
        "checkpoint_dir = '/content/drive/MyDrive/dataset-v2/checkpoints'\n",
        "final_model_path = f\"{checkpoint_dir}/final_model_with_sex.h5\"\n",
        "\n",
        "# Charger le modèle final\n",
        "if os.path.exists(final_model_path):\n",
        "    print(\"📂 Chargement du modèle fine-tuné existant...\")\n",
        "    custom_objects = {\n",
        "        \"mse\": MeanSquaredError()  # Fournir un alias pour 'mse'\n",
        "    }\n",
        "    model = load_model(final_model_path, custom_objects=custom_objects)\n",
        "else:\n",
        "    print(\"⚙️ Construction d'un modèle neuf...\")\n",
        "    model = build_model_with_sex_input()\n",
        "\n",
        "# Charger toutes les données de validation\n",
        "x_val = np.load('/content/drive/MyDrive/dataset-v2/npy_files/X_val.npy') / 255.0\n",
        "y_val_age = np.load('/content/drive/MyDrive/dataset-v2/npy_files/y_val_age.npy')\n",
        "y_val_sex = np.load('/content/drive/MyDrive/dataset-v2/npy_files/sex_val.npy')\n",
        "\n",
        "x_val_rgb = np.repeat(x_val, 3, axis=-1).astype(np.float32)\n",
        "y_val_sex = np.expand_dims(y_val_sex, axis=-1).astype(np.float32)\n",
        "\n",
        "# Prédictions globales\n",
        "print(\"\\n🔍 Prédiction globale des données de validation...\")\n",
        "global_predictions = model.predict({\n",
        "    \"image_input\": x_val_rgb,\n",
        "    \"sex_input\": y_val_sex\n",
        "})\n",
        "\n",
        "# Calcul des métriques globales\n",
        "global_mae = mean_absolute_error(y_val_age, global_predictions)\n",
        "global_mse = mean_squared_error(y_val_age, global_predictions)\n",
        "print(f\"\\n📊 [Validation Finale] MAE: {global_mae:.4f} | MSE: {global_mse:.4f}\")\n",
        "\n",
        "# Sauvegarder les métriques dans un fichier\n",
        "metrics_file = f\"{checkpoint_dir}/final_metrics_with_sex.txt\"\n",
        "with open(metrics_file, 'w') as f:\n",
        "    f.write(f\"MAE: {global_mae:.4f}\\n\")\n",
        "    f.write(f\"MSE: {global_mse:.4f}\\n\")\n",
        "print(f\"Métriques sauvegardées dans {metrics_file}\")\n",
        "\n",
        "# Distribution des prédictions\n",
        "plt.figure(figsize=(10, 6))\n",
        "plt.scatter(y_val_age, global_predictions, alpha=0.5, label=\"Prédictions\")\n",
        "plt.plot([y_val_age.min(), y_val_age.max()], [y_val_age.min(), y_val_age.max()], 'r--', label=\"Idéal\")\n",
        "plt.xlabel(\"Âges réels\")\n",
        "plt.ylabel(\"Âges prédites\")\n",
        "plt.title(\"Distribution des Prédictions\")\n",
        "plt.legend()\n",
        "plt.grid(True)\n",
        "plot_distribution_file = f\"{checkpoint_dir}/final_prediction_distribution.png\"\n",
        "plt.savefig(plot_distribution_file)\n",
        "plt.show()\n",
        "print(f\"Graphique de distribution sauvegardé dans {plot_distribution_file}\")\n",
        "\n",
        "# Sauvegarder le modèle final\n",
        "model.save(final_model_path)\n",
        "print(f\"📂 Modèle final sauvegardé dans {final_model_path}\")"
      ],
      "metadata": {
        "colab": {
          "base_uri": "https://localhost:8080/",
          "height": 766
        },
        "id": "ebubNOxSDgmM",
        "outputId": "e25b8e59-3cdf-4398-ad6c-e9822c58b2b2"
      },
      "execution_count": 29,
      "outputs": [
        {
          "output_type": "stream",
          "name": "stdout",
          "text": [
            "⚙️ Construction d'un modèle neuf...\n",
            "\n",
            "🔍 Prédiction globale des données de validation...\n",
            "\u001b[1m79/79\u001b[0m \u001b[32m━━━━━━━━━━━━━━━━━━━━\u001b[0m\u001b[37m\u001b[0m \u001b[1m13s\u001b[0m 155ms/step\n",
            "\n",
            "📊 [Validation Finale] MAE: 128.2957 | MSE: 18211.0410\n",
            "Métriques sauvegardées dans /content/drive/MyDrive/dataset-v2/checkpoints/final_metrics_with_sex.txt\n"
          ]
        },
        {
          "output_type": "display_data",
          "data": {
            "text/plain": [
              "<Figure size 1000x600 with 1 Axes>"
            ],
            "image/png": "[encoded data removed]"
          },
          "metadata": {}
        },
        {
          "output_type": "stream",
          "name": "stderr",
          "text": [
            "WARNING:absl:You are saving your model as an HDF5 file via `model.save()` or `keras.saving.save_model(model)`. This file format is considered legacy. We recommend using instead the native Keras format, e.g. `model.save('my_model.keras')` or `keras.saving.save_model(model, 'my_model.keras')`. \n"
          ]
        },
        {
          "output_type": "stream",
          "name": "stdout",
          "text": [
            "Graphique de distribution sauvegardé dans /content/drive/MyDrive/dataset-v2/checkpoints/final_prediction_distribution.png\n",
            "📂 Modèle final sauvegardé dans /content/drive/MyDrive/dataset-v2/checkpoints/final_model_with_sex.h5\n"
          ]
        }
      ]
    },
    {
      "cell_type": "code",
      "source": [
        "import numpy as np\n",
        "import os\n",
        "import json\n",
        "import gc\n",
        "import matplotlib.pyplot as plt\n",
        "from sklearn.metrics import mean_absolute_error, mean_squared_error\n",
        "from tensorflow.keras.models import load_model\n",
        "from tensorflow.keras.applications import VGG16\n",
        "from tensorflow.keras.models import Model\n",
        "from tensorflow.keras.layers import Dense, GlobalAveragePooling2D, Input, Concatenate\n",
        "from tensorflow.keras.optimizers import Adam\n",
        "from tensorflow.keras.callbacks import ReduceLROnPlateau, EarlyStopping, ModelCheckpoint\n",
        "from tensorflow.keras.metrics import MeanSquaredError\n",
        "\n",
        "# Fonction pour construire le modèle avec entrée de sexe\n",
        "def build_model_with_sex_input(trainable_base=False, trainable_layers=0):\n",
        "    image_input = Input(shape=(224, 224, 3), name=\"image_input\")\n",
        "    base = VGG16(weights='imagenet', include_top=False, input_tensor=image_input)\n",
        "\n",
        "    # Défiger uniquement les \"trainable_layers\" dernières couches\n",
        "    for layer in base.layers[:-trainable_layers]:\n",
        "        layer.trainable = False\n",
        "    for layer in base.layers[-trainable_layers:]:\n",
        "        layer.trainable = True\n",
        "\n",
        "    x = base.output\n",
        "    x = GlobalAveragePooling2D()(x)\n",
        "\n",
        "    sex_input = Input(shape=(1,), name=\"sex_input\")\n",
        "    combined = Concatenate()([x, sex_input])\n",
        "    combined = Dense(128, activation='relu')(combined)\n",
        "    output = Dense(1)(combined)\n",
        "\n",
        "    model = Model(inputs=[image_input, sex_input], outputs=output)\n",
        "    model.compile(optimizer=Adam(learning_rate=1e-5), loss='mse', metrics=[MeanSquaredError(), 'mae'])\n",
        "    return model\n",
        "\n",
        "# Répertoire des checkpoints\n",
        "checkpoint_dir = '/content/drive/MyDrive/dataset-v2/checkpoints'\n",
        "final_model_path = f\"{checkpoint_dir}/final_model_with_sex.h5\"\n",
        "extended_fine_tune_model_path = f\"{checkpoint_dir}/extended_fine_tuned_model_with_sex.h5\"\n",
        "\n",
        "# Charger le modèle existant\n",
        "if os.path.exists(final_model_path):\n",
        "    print(\"📂 Chargement du modèle fine-tuné existant...\")\n",
        "    custom_objects = {\n",
        "        \"mse\": MeanSquaredError()  # Fournir un alias pour 'mse'\n",
        "    }\n",
        "    model = load_model(final_model_path, custom_objects=custom_objects)\n",
        "else:\n",
        "    print(\"⚙️ Construction d'un modèle neuf...\")\n",
        "    model = build_model_with_sex_input()\n",
        "\n",
        "# Charger les données de validation\n",
        "x_val = np.load('/content/drive/MyDrive/dataset-v2/npy_files/X_val.npy') / 255.0\n",
        "y_val_age = np.load('/content/drive/MyDrive/dataset-v2/npy_files/y_val_age.npy')\n",
        "y_val_sex = np.load('/content/drive/MyDrive/dataset-v2/npy_files/sex_val.npy')\n",
        "\n",
        "x_val_rgb = np.repeat(x_val, 3, axis=-1).astype(np.float32)\n",
        "y_val_sex = np.expand_dims(y_val_sex, axis=-1).astype(np.float32)\n",
        "\n",
        "# Réentraîner le modèle avec dégel partiel des couches\n",
        "print(\"\\n⚙️ Réentraîner le modèle avec des couches partiellement dégelées...\")\n",
        "model = build_model_with_sex_input(trainable_base=True, trainable_layers=10)\n",
        "\n",
        "# Callbacks pour réguler l'entraînement\n",
        "callbacks = [\n",
        "    EarlyStopping(patience=3, restore_best_weights=True, monitor='val_loss'),\n",
        "    ReduceLROnPlateau(patience=2, factor=0.5, verbose=1),\n",
        "    ModelCheckpoint(filepath=extended_fine_tune_model_path, save_best_only=True, monitor='val_loss', verbose=1)\n",
        "]\n",
        "\n",
        "# Entraîner avec un taux d'apprentissage réduit\n",
        "history = model.fit(\n",
        "    {\n",
        "        \"image_input\": x_val_rgb,\n",
        "        \"sex_input\": y_val_sex\n",
        "    },\n",
        "    y_val_age,\n",
        "    epochs=10,\n",
        "    batch_size=32,\n",
        "    validation_split=0.2,\n",
        "    callbacks=callbacks,\n",
        "    verbose=2\n",
        ")\n",
        "\n",
        "# Sauvegarder l'historique d'entraînement\n",
        "fine_tune_history_file = f\"{checkpoint_dir}/extended_fine_tune_history_with_sex.json\"\n",
        "history_dict = history.history\n",
        "with open(fine_tune_history_file, 'w') as f:\n",
        "    json.dump(history_dict, f)\n",
        "print(f\"Historique de réentraînement sauvegardé dans {fine_tune_history_file}\")\n",
        "\n",
        "# Visualisation des résultats\n",
        "plt.figure(figsize=(12, 4))\n",
        "plt.subplot(1, 2, 1)\n",
        "plt.plot(history_dict['loss'], label='Perte entraînement')\n",
        "plt.plot(history_dict['val_loss'], label='Perte validation')\n",
        "plt.title('Perte du modèle (Fine-Tuning Étendu)')\n",
        "plt.legend()\n",
        "\n",
        "plt.subplot(1, 2, 2)\n",
        "plt.plot(history_dict['mae'], label='MAE entraînement')\n",
        "plt.plot(history_dict['val_mae'], label='MAE validation')\n",
        "plt.title('MAE du modèle (Fine-Tuning Étendu)')\n",
        "plt.legend()\n",
        "\n",
        "fine_tune_plot_file = f\"{checkpoint_dir}/extended_fine_tune_training_plot_with_sex.png\"\n",
        "plt.savefig(fine_tune_plot_file)\n",
        "print(f\"Graphique de réentraînement sauvegardé dans {fine_tune_plot_file}\")\n",
        "plt.show()\n",
        "\n",
        "# Évaluer sur l'ensemble de validation complet\n",
        "print(\"\\n🔍 Évaluation sur l'ensemble de validation complet après extended fine-tuning...\")\n",
        "global_predictions = model.predict({\n",
        "    \"image_input\": x_val_rgb,\n",
        "    \"sex_input\": y_val_sex\n",
        "})\n",
        "\n",
        "global_mae = mean_absolute_error(y_val_age, global_predictions)\n",
        "global_mse = mean_squared_error(y_val_age, global_predictions)\n",
        "print(f\"📊 [Validation Finale après Fine-Tuning Étendu] MAE: {global_mae:.4f} | MSE: {global_mse:.4f}\")\n",
        "\n",
        "# Sauvegarder les métriques finales dans un fichier\n",
        "metrics_file = f\"{checkpoint_dir}/extended_fine_tune_metrics_with_sex.txt\"\n",
        "with open(metrics_file, 'w') as f:\n",
        "    f.write(f\"MAE: {global_mae:.4f}\\n\")\n",
        "    f.write(f\"MSE: {global_mse:.4f}\\n\")\n",
        "print(f\"Métriques sauvegardées dans {metrics_file}\")\n",
        "\n",
        "# Sauvegarder le modèle final après fine-tuning étendu\n",
        "model.save(extended_fine_tune_model_path)\n",
        "print(f\"📂 Modèle final (après fine-tuning étendu) sauvegardé dans {extended_fine_tune_model_path}\")\n",
        "\n",
        "# Libérer la mémoire après l'entraînement\n",
        "gc.collect()"
      ],
      "metadata": {
        "colab": {
          "base_uri": "https://localhost:8080/",
          "height": 1000
        },
        "id": "NOkolsiYG13o",
        "outputId": "6196d71b-7fab-43b9-99e1-2a3f46d8ec0e"
      },
      "execution_count": 30,
      "outputs": [
        {
          "output_type": "stream",
          "name": "stdout",
          "text": [
            "📂 Chargement du modèle fine-tuné existant...\n"
          ]
        },
        {
          "output_type": "stream",
          "name": "stderr",
          "text": [
            "WARNING:absl:Compiled the loaded model, but the compiled metrics have yet to be built. `model.compile_metrics` will be empty until you train or evaluate the model.\n"
          ]
        },
        {
          "output_type": "stream",
          "name": "stdout",
          "text": [
            "\n",
            "⚙️ Réentraîner le modèle avec des couches partiellement dégelées...\n",
            "Epoch 1/10\n",
            "\n",
            "Epoch 1: val_loss improved from inf to 1771.22522, saving model to /content/drive/MyDrive/dataset-v2/checkpoints/extended_fine_tuned_model_with_sex.h5\n"
          ]
        },
        {
          "output_type": "stream",
          "name": "stderr",
          "text": [
            "WARNING:absl:You are saving your model as an HDF5 file via `model.save()` or `keras.saving.save_model(model)`. This file format is considered legacy. We recommend using instead the native Keras format, e.g. `model.save('my_model.keras')` or `keras.saving.save_model(model, 'my_model.keras')`. \n"
          ]
        },
        {
          "output_type": "stream",
          "name": "stdout",
          "text": [
            "63/63 - 34s - 541ms/step - loss: 9624.7852 - mae: 82.7285 - mean_squared_error: 9624.7852 - val_loss: 1771.2252 - val_mae: 34.3113 - val_mean_squared_error: 1771.2252 - learning_rate: 1.0000e-05\n",
            "Epoch 2/10\n",
            "\n",
            "Epoch 2: val_loss improved from 1771.22522 to 1763.78210, saving model to /content/drive/MyDrive/dataset-v2/checkpoints/extended_fine_tuned_model_with_sex.h5\n"
          ]
        },
        {
          "output_type": "stream",
          "name": "stderr",
          "text": [
            "WARNING:absl:You are saving your model as an HDF5 file via `model.save()` or `keras.saving.save_model(model)`. This file format is considered legacy. We recommend using instead the native Keras format, e.g. `model.save('my_model.keras')` or `keras.saving.save_model(model, 'my_model.keras')`. \n"
          ]
        },
        {
          "output_type": "stream",
          "name": "stdout",
          "text": [
            "63/63 - 35s - 553ms/step - loss: 1867.1128 - mae: 35.0388 - mean_squared_error: 1867.1128 - val_loss: 1763.7821 - val_mae: 34.9584 - val_mean_squared_error: 1763.7821 - learning_rate: 1.0000e-05\n",
            "Epoch 3/10\n",
            "\n",
            "Epoch 3: val_loss did not improve from 1763.78210\n",
            "63/63 - 19s - 302ms/step - loss: 1769.8929 - mae: 34.3850 - mean_squared_error: 1769.8929 - val_loss: 1858.8975 - val_mae: 36.4385 - val_mean_squared_error: 1858.8975 - learning_rate: 1.0000e-05\n",
            "Epoch 4/10\n",
            "\n",
            "Epoch 4: val_loss improved from 1763.78210 to 1598.53186, saving model to /content/drive/MyDrive/dataset-v2/checkpoints/extended_fine_tuned_model_with_sex.h5\n"
          ]
        },
        {
          "output_type": "stream",
          "name": "stderr",
          "text": [
            "WARNING:absl:You are saving your model as an HDF5 file via `model.save()` or `keras.saving.save_model(model)`. This file format is considered legacy. We recommend using instead the native Keras format, e.g. `model.save('my_model.keras')` or `keras.saving.save_model(model, 'my_model.keras')`. \n"
          ]
        },
        {
          "output_type": "stream",
          "name": "stdout",
          "text": [
            "63/63 - 26s - 412ms/step - loss: 1730.7028 - mae: 34.0299 - mean_squared_error: 1730.7028 - val_loss: 1598.5319 - val_mae: 32.7191 - val_mean_squared_error: 1598.5319 - learning_rate: 1.0000e-05\n",
            "Epoch 5/10\n",
            "\n",
            "Epoch 5: val_loss did not improve from 1598.53186\n",
            "63/63 - 34s - 540ms/step - loss: 1699.4905 - mae: 33.6553 - mean_squared_error: 1699.4905 - val_loss: 1634.0610 - val_mae: 33.6741 - val_mean_squared_error: 1634.0610 - learning_rate: 1.0000e-05\n",
            "Epoch 6/10\n",
            "\n",
            "Epoch 6: ReduceLROnPlateau reducing learning rate to 4.999999873689376e-06.\n",
            "\n",
            "Epoch 6: val_loss did not improve from 1598.53186\n",
            "63/63 - 21s - 326ms/step - loss: 1603.7443 - mae: 32.6622 - mean_squared_error: 1603.7443 - val_loss: 1649.8563 - val_mae: 30.9997 - val_mean_squared_error: 1649.8563 - learning_rate: 1.0000e-05\n",
            "Epoch 7/10\n",
            "\n",
            "Epoch 7: val_loss improved from 1598.53186 to 1382.69214, saving model to /content/drive/MyDrive/dataset-v2/checkpoints/extended_fine_tuned_model_with_sex.h5\n"
          ]
        },
        {
          "output_type": "stream",
          "name": "stderr",
          "text": [
            "WARNING:absl:You are saving your model as an HDF5 file via `model.save()` or `keras.saving.save_model(model)`. This file format is considered legacy. We recommend using instead the native Keras format, e.g. `model.save('my_model.keras')` or `keras.saving.save_model(model, 'my_model.keras')`. \n"
          ]
        },
        {
          "output_type": "stream",
          "name": "stdout",
          "text": [
            "63/63 - 36s - 574ms/step - loss: 1559.7876 - mae: 32.3020 - mean_squared_error: 1559.7876 - val_loss: 1382.6921 - val_mae: 30.2151 - val_mean_squared_error: 1382.6921 - learning_rate: 5.0000e-06\n",
            "Epoch 8/10\n",
            "\n",
            "Epoch 8: val_loss improved from 1382.69214 to 1316.73682, saving model to /content/drive/MyDrive/dataset-v2/checkpoints/extended_fine_tuned_model_with_sex.h5\n"
          ]
        },
        {
          "output_type": "stream",
          "name": "stderr",
          "text": [
            "WARNING:absl:You are saving your model as an HDF5 file via `model.save()` or `keras.saving.save_model(model)`. This file format is considered legacy. We recommend using instead the native Keras format, e.g. `model.save('my_model.keras')` or `keras.saving.save_model(model, 'my_model.keras')`. \n"
          ]
        },
        {
          "output_type": "stream",
          "name": "stdout",
          "text": [
            "63/63 - 40s - 640ms/step - loss: 1457.6290 - mae: 31.1564 - mean_squared_error: 1457.6290 - val_loss: 1316.7368 - val_mae: 29.5023 - val_mean_squared_error: 1316.7368 - learning_rate: 5.0000e-06\n",
            "Epoch 9/10\n",
            "\n",
            "Epoch 9: val_loss improved from 1316.73682 to 1228.16858, saving model to /content/drive/MyDrive/dataset-v2/checkpoints/extended_fine_tuned_model_with_sex.h5\n"
          ]
        },
        {
          "output_type": "stream",
          "name": "stderr",
          "text": [
            "WARNING:absl:You are saving your model as an HDF5 file via `model.save()` or `keras.saving.save_model(model)`. This file format is considered legacy. We recommend using instead the native Keras format, e.g. `model.save('my_model.keras')` or `keras.saving.save_model(model, 'my_model.keras')`. \n"
          ]
        },
        {
          "output_type": "stream",
          "name": "stdout",
          "text": [
            "63/63 - 43s - 683ms/step - loss: 1379.5171 - mae: 30.2565 - mean_squared_error: 1379.5171 - val_loss: 1228.1686 - val_mae: 28.1841 - val_mean_squared_error: 1228.1686 - learning_rate: 5.0000e-06\n",
            "Epoch 10/10\n",
            "\n",
            "Epoch 10: val_loss improved from 1228.16858 to 1157.12671, saving model to /content/drive/MyDrive/dataset-v2/checkpoints/extended_fine_tuned_model_with_sex.h5\n"
          ]
        },
        {
          "output_type": "stream",
          "name": "stderr",
          "text": [
            "WARNING:absl:You are saving your model as an HDF5 file via `model.save()` or `keras.saving.save_model(model)`. This file format is considered legacy. We recommend using instead the native Keras format, e.g. `model.save('my_model.keras')` or `keras.saving.save_model(model, 'my_model.keras')`. \n"
          ]
        },
        {
          "output_type": "stream",
          "name": "stdout",
          "text": [
            "63/63 - 27s - 424ms/step - loss: 1301.1929 - mae: 29.2801 - mean_squared_error: 1301.1929 - val_loss: 1157.1267 - val_mae: 27.3255 - val_mean_squared_error: 1157.1267 - learning_rate: 5.0000e-06\n",
            "Historique de réentraînement sauvegardé dans /content/drive/MyDrive/dataset-v2/checkpoints/extended_fine_tune_history_with_sex.json\n",
            "Graphique de réentraînement sauvegardé dans /content/drive/MyDrive/dataset-v2/checkpoints/extended_fine_tune_training_plot_with_sex.png\n"
          ]
        },
        {
          "output_type": "display_data",
          "data": {
            "text/plain": [
              "<Figure size 1200x400 with 2 Axes>"
            ],
            "image/png": "[encoded data removed]"
          },
          "metadata": {}
        },
        {
          "output_type": "stream",
          "name": "stdout",
          "text": [
            "\n",
            "🔍 Évaluation sur l'ensemble de validation complet après extended fine-tuning...\n",
            "\u001b[1m79/79\u001b[0m \u001b[32m━━━━━━━━━━━━━━━━━━━━\u001b[0m\u001b[37m\u001b[0m \u001b[1m14s\u001b[0m 166ms/step\n"
          ]
        },
        {
          "output_type": "stream",
          "name": "stderr",
          "text": [
            "WARNING:absl:You are saving your model as an HDF5 file via `model.save()` or `keras.saving.save_model(model)`. This file format is considered legacy. We recommend using instead the native Keras format, e.g. `model.save('my_model.keras')` or `keras.saving.save_model(model, 'my_model.keras')`. \n"
          ]
        },
        {
          "output_type": "stream",
          "name": "stdout",
          "text": [
            "📊 [Validation Finale après Fine-Tuning Étendu] MAE: 28.0891 | MSE: 1202.2877\n",
            "Métriques sauvegardées dans /content/drive/MyDrive/dataset-v2/checkpoints/extended_fine_tune_metrics_with_sex.txt\n",
            "📂 Modèle final (après fine-tuning étendu) sauvegardé dans /content/drive/MyDrive/dataset-v2/checkpoints/extended_fine_tuned_model_with_sex.h5\n"
          ]
        },
        {
          "output_type": "execute_result",
          "data": {
            "text/plain": [
              "27371"
            ]
          },
          "metadata": {},
          "execution_count": 30
        }
      ]
    }
  ],
  "metadata": {
    "accelerator": "GPU",
    "colab": {
      "gpuType": "T4",
      "provenance": [],
      "authorship_tag": "ABX9TyNHMhwW99wrI+42ZNuRElvB",
      "include_colab_link": true
    },
    "kernelspec": {
      "display_name": "Python 3",
      "name": "python3"
    },
    "language_info": {
      "name": "python"
    }
  },
  "nbformat": 4,
  "nbformat_minor": 0
}